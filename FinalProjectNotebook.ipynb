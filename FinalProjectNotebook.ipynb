{
 "cells": [
  {
   "cell_type": "raw",
   "id": "2d45f3af-fcd6-4807-88cd-c68bcb89ed80",
   "metadata": {},
   "source": [
    "---\n",
    "author: \"Alexander Grunewald, \"\n",
    "title: \"STT461: Final Project Notebook\"\n",
    "date: \"11.25.2024\"\n",
    "output: \n",
    "    pdf_document: default\n",
    "---"
   ]
  },
  {
   "cell_type": "code",
   "execution_count": 1,
   "id": "cc891eb3-ca60-4333-bd5d-a85b7f967459",
   "metadata": {},
   "outputs": [
    {
     "name": "stderr",
     "output_type": "stream",
     "text": [
      "\n",
      "Attaching package: 'dplyr'\n",
      "\n",
      "\n",
      "The following objects are masked from 'package:stats':\n",
      "\n",
      "    filter, lag\n",
      "\n",
      "\n",
      "The following objects are masked from 'package:base':\n",
      "\n",
      "    intersect, setdiff, setequal, union\n",
      "\n",
      "\n",
      "── \u001b[1mAttaching core tidyverse packages\u001b[22m ──────────────────────────────────────────────────────────────── tidyverse 2.0.0 ──\n",
      "\u001b[32m✔\u001b[39m \u001b[34mforcats  \u001b[39m 1.0.0     \u001b[32m✔\u001b[39m \u001b[34mreadr    \u001b[39m 2.1.5\n",
      "\u001b[32m✔\u001b[39m \u001b[34mggplot2  \u001b[39m 3.5.1     \u001b[32m✔\u001b[39m \u001b[34mstringr  \u001b[39m 1.5.1\n",
      "\u001b[32m✔\u001b[39m \u001b[34mlubridate\u001b[39m 1.9.3     \u001b[32m✔\u001b[39m \u001b[34mtibble   \u001b[39m 3.2.1\n",
      "\u001b[32m✔\u001b[39m \u001b[34mpurrr    \u001b[39m 1.0.2     \u001b[32m✔\u001b[39m \u001b[34mtidyr    \u001b[39m 1.3.1\n",
      "── \u001b[1mConflicts\u001b[22m ────────────────────────────────────────────────────────────────────────────────── tidyverse_conflicts() ──\n",
      "\u001b[31m✖\u001b[39m \u001b[34mdplyr\u001b[39m::\u001b[32mfilter()\u001b[39m masks \u001b[34mstats\u001b[39m::filter()\n",
      "\u001b[31m✖\u001b[39m \u001b[34mdplyr\u001b[39m::\u001b[32mlag()\u001b[39m    masks \u001b[34mstats\u001b[39m::lag()\n",
      "\u001b[36mℹ\u001b[39m Use the conflicted package (\u001b[3m\u001b[34m<http://conflicted.r-lib.org/>\u001b[39m\u001b[23m) to force all conflicts to become errors\n",
      "Loading required package: colorspace\n",
      "\n",
      "Loading required package: grid\n",
      "\n",
      "VIM is ready to use.\n",
      "\n",
      "\n",
      "Suggestions and bug-reports can be submitted at: https://github.com/statistikat/VIM/issues\n",
      "\n",
      "\n",
      "Attaching package: 'VIM'\n",
      "\n",
      "\n",
      "The following object is masked from 'package:datasets':\n",
      "\n",
      "    sleep\n",
      "\n",
      "\n",
      "Warning message:\n",
      "\"package 'faraway' was built under R version 4.4.2\"\n",
      "\n",
      "Attaching package: 'faraway'\n",
      "\n",
      "\n",
      "The following object is masked from 'package:VIM':\n",
      "\n",
      "    diabetes\n",
      "\n",
      "\n",
      "Registered S3 method overwritten by 'GGally':\n",
      "  method from   \n",
      "  +.gg   ggplot2\n",
      "\n",
      "\n",
      "Attaching package: 'GGally'\n",
      "\n",
      "\n",
      "The following object is masked from 'package:faraway':\n",
      "\n",
      "    happy\n",
      "\n",
      "\n",
      "Warning message:\n",
      "\"package 'caret' was built under R version 4.4.2\"\n",
      "Loading required package: lattice\n",
      "\n",
      "\n",
      "Attaching package: 'lattice'\n",
      "\n",
      "\n",
      "The following object is masked from 'package:faraway':\n",
      "\n",
      "    melanoma\n",
      "\n",
      "\n",
      "\n",
      "Attaching package: 'caret'\n",
      "\n",
      "\n",
      "The following object is masked from 'package:purrr':\n",
      "\n",
      "    lift\n",
      "\n",
      "\n",
      "Warning message:\n",
      "\"package 'recipes' was built under R version 4.4.2\"\n",
      "\n",
      "Attaching package: 'recipes'\n",
      "\n",
      "\n",
      "The following object is masked from 'package:VIM':\n",
      "\n",
      "    prepare\n",
      "\n",
      "\n",
      "The following object is masked from 'package:stringr':\n",
      "\n",
      "    fixed\n",
      "\n",
      "\n",
      "The following object is masked from 'package:stats':\n",
      "\n",
      "    step\n",
      "\n",
      "\n",
      "Loading required package: StanHeaders\n",
      "\n",
      "\n",
      "rstan version 2.35.0.9000 (Stan version 2.35.0)\n",
      "\n",
      "\n",
      "For execution on a local, multicore CPU with excess RAM we recommend calling\n",
      "options(mc.cores = parallel::detectCores()).\n",
      "To avoid recompilation of unchanged Stan programs, we recommend calling\n",
      "rstan_options(auto_write = TRUE)\n",
      "For within-chain threading using `reduce_sum()` or `map_rect()` Stan functions,\n",
      "change `threads_per_chain` option:\n",
      "rstan_options(threads_per_chain = 1)\n",
      "\n",
      "\n",
      "Do not specify '-march=native' in 'LOCAL_CPPFLAGS' or a Makevars file\n",
      "\n",
      "\n",
      "Attaching package: 'rstan'\n",
      "\n",
      "\n",
      "The following object is masked from 'package:tidyr':\n",
      "\n",
      "    extract\n",
      "\n",
      "\n",
      "Warning message:\n",
      "\"package 'tree' was built under R version 4.4.2\"\n",
      "Warning message:\n",
      "\"package 'bayesplot' was built under R version 4.4.2\"\n",
      "This is bayesplot version 1.11.1\n",
      "\n",
      "- Online documentation and vignettes at mc-stan.org/bayesplot\n",
      "\n",
      "- bayesplot theme set to bayesplot::theme_default()\n",
      "\n",
      "   * Does _not_ affect other ggplot2 plots\n",
      "\n",
      "   * See ?bayesplot_theme_set for details on theme setting\n",
      "\n"
     ]
    }
   ],
   "source": [
    "library(dplyr)\n",
    "library(tidyverse)\n",
    "library(VIM)\n",
    "library(faraway)\n",
    "library(ggplot2)\n",
    "library(naniar)\n",
    "library(GGally)\n",
    "library(caret)\n",
    "library(fastDummies)\n",
    "library(leaps)\n",
    "library(recipes)\n",
    "library(rstan)\n",
    "library(tree)\n",
    "library(bayesplot)"
   ]
  },
  {
   "cell_type": "markdown",
   "id": "2e9e6aa7-f63e-46ea-a6b3-962722fffbbe",
   "metadata": {},
   "source": [
    "## Background\n",
    "403 African Americans were interviewed in a study to understand the prevalence of obesity, diabetes, and other cardiovascular risk factors in central Virginia. Glycosolated hemoglobin (glyhb) greater than 7.0 is usually taken as a positive diagnosis of diabetes. We are interested in identifying the most important predicotrs that contribute to a high glyhb level in african american patience while also creating a predictive model that accurately identifies patience with diabetes. \n",
    "\n",
    "\n",
    "### Questions to answer:\n",
    "- How much ades Age, Sex, and Location impact the glyhb levels in patients\n",
    "- Are there any interaction effects between waist, height, and hip that could explain glyhb levels."
   ]
  },
  {
   "cell_type": "code",
   "execution_count": 2,
   "id": "19df8050-0bef-491b-b11e-6543c3101165",
   "metadata": {},
   "outputs": [
    {
     "data": {
      "text/html": [
       "<table class=\"dataframe\">\n",
       "<caption>A data.frame: 6 × 19</caption>\n",
       "<thead>\n",
       "\t<tr><th></th><th scope=col>id</th><th scope=col>chol</th><th scope=col>stab.glu</th><th scope=col>hdl</th><th scope=col>ratio</th><th scope=col>glyhb</th><th scope=col>location</th><th scope=col>age</th><th scope=col>gender</th><th scope=col>height</th><th scope=col>weight</th><th scope=col>frame</th><th scope=col>bp.1s</th><th scope=col>bp.1d</th><th scope=col>bp.2s</th><th scope=col>bp.2d</th><th scope=col>waist</th><th scope=col>hip</th><th scope=col>time.ppn</th></tr>\n",
       "\t<tr><th></th><th scope=col>&lt;int&gt;</th><th scope=col>&lt;int&gt;</th><th scope=col>&lt;int&gt;</th><th scope=col>&lt;int&gt;</th><th scope=col>&lt;dbl&gt;</th><th scope=col>&lt;dbl&gt;</th><th scope=col>&lt;fct&gt;</th><th scope=col>&lt;int&gt;</th><th scope=col>&lt;fct&gt;</th><th scope=col>&lt;int&gt;</th><th scope=col>&lt;int&gt;</th><th scope=col>&lt;fct&gt;</th><th scope=col>&lt;int&gt;</th><th scope=col>&lt;int&gt;</th><th scope=col>&lt;int&gt;</th><th scope=col>&lt;int&gt;</th><th scope=col>&lt;int&gt;</th><th scope=col>&lt;int&gt;</th><th scope=col>&lt;int&gt;</th></tr>\n",
       "</thead>\n",
       "<tbody>\n",
       "\t<tr><th scope=row>1</th><td>1000</td><td>203</td><td>82</td><td>56</td><td>3.6</td><td>4.31</td><td>Buckingham</td><td>46</td><td>female</td><td>62</td><td>121</td><td>medium</td><td>118</td><td>59</td><td> NA</td><td>NA</td><td>29</td><td>38</td><td>720</td></tr>\n",
       "\t<tr><th scope=row>2</th><td>1001</td><td>165</td><td>97</td><td>24</td><td>6.9</td><td>4.44</td><td>Buckingham</td><td>29</td><td>female</td><td>64</td><td>218</td><td>large </td><td>112</td><td>68</td><td> NA</td><td>NA</td><td>46</td><td>48</td><td>360</td></tr>\n",
       "\t<tr><th scope=row>3</th><td>1002</td><td>228</td><td>92</td><td>37</td><td>6.2</td><td>4.64</td><td>Buckingham</td><td>58</td><td>female</td><td>61</td><td>256</td><td>large </td><td>190</td><td>92</td><td>185</td><td>92</td><td>49</td><td>57</td><td>180</td></tr>\n",
       "\t<tr><th scope=row>4</th><td>1003</td><td> 78</td><td>93</td><td>12</td><td>6.5</td><td>4.63</td><td>Buckingham</td><td>67</td><td>male  </td><td>67</td><td>119</td><td>large </td><td>110</td><td>50</td><td> NA</td><td>NA</td><td>33</td><td>38</td><td>480</td></tr>\n",
       "\t<tr><th scope=row>5</th><td>1005</td><td>249</td><td>90</td><td>28</td><td>8.9</td><td>7.72</td><td>Buckingham</td><td>64</td><td>male  </td><td>68</td><td>183</td><td>medium</td><td>138</td><td>80</td><td> NA</td><td>NA</td><td>44</td><td>41</td><td>300</td></tr>\n",
       "\t<tr><th scope=row>6</th><td>1008</td><td>248</td><td>94</td><td>69</td><td>3.6</td><td>4.81</td><td>Buckingham</td><td>34</td><td>male  </td><td>71</td><td>190</td><td>large </td><td>132</td><td>86</td><td> NA</td><td>NA</td><td>36</td><td>42</td><td>195</td></tr>\n",
       "</tbody>\n",
       "</table>\n"
      ],
      "text/latex": [
       "A data.frame: 6 × 19\n",
       "\\begin{tabular}{r|lllllllllllllllllll}\n",
       "  & id & chol & stab.glu & hdl & ratio & glyhb & location & age & gender & height & weight & frame & bp.1s & bp.1d & bp.2s & bp.2d & waist & hip & time.ppn\\\\\n",
       "  & <int> & <int> & <int> & <int> & <dbl> & <dbl> & <fct> & <int> & <fct> & <int> & <int> & <fct> & <int> & <int> & <int> & <int> & <int> & <int> & <int>\\\\\n",
       "\\hline\n",
       "\t1 & 1000 & 203 & 82 & 56 & 3.6 & 4.31 & Buckingham & 46 & female & 62 & 121 & medium & 118 & 59 &  NA & NA & 29 & 38 & 720\\\\\n",
       "\t2 & 1001 & 165 & 97 & 24 & 6.9 & 4.44 & Buckingham & 29 & female & 64 & 218 & large  & 112 & 68 &  NA & NA & 46 & 48 & 360\\\\\n",
       "\t3 & 1002 & 228 & 92 & 37 & 6.2 & 4.64 & Buckingham & 58 & female & 61 & 256 & large  & 190 & 92 & 185 & 92 & 49 & 57 & 180\\\\\n",
       "\t4 & 1003 &  78 & 93 & 12 & 6.5 & 4.63 & Buckingham & 67 & male   & 67 & 119 & large  & 110 & 50 &  NA & NA & 33 & 38 & 480\\\\\n",
       "\t5 & 1005 & 249 & 90 & 28 & 8.9 & 7.72 & Buckingham & 64 & male   & 68 & 183 & medium & 138 & 80 &  NA & NA & 44 & 41 & 300\\\\\n",
       "\t6 & 1008 & 248 & 94 & 69 & 3.6 & 4.81 & Buckingham & 34 & male   & 71 & 190 & large  & 132 & 86 &  NA & NA & 36 & 42 & 195\\\\\n",
       "\\end{tabular}\n"
      ],
      "text/markdown": [
       "\n",
       "A data.frame: 6 × 19\n",
       "\n",
       "| <!--/--> | id &lt;int&gt; | chol &lt;int&gt; | stab.glu &lt;int&gt; | hdl &lt;int&gt; | ratio &lt;dbl&gt; | glyhb &lt;dbl&gt; | location &lt;fct&gt; | age &lt;int&gt; | gender &lt;fct&gt; | height &lt;int&gt; | weight &lt;int&gt; | frame &lt;fct&gt; | bp.1s &lt;int&gt; | bp.1d &lt;int&gt; | bp.2s &lt;int&gt; | bp.2d &lt;int&gt; | waist &lt;int&gt; | hip &lt;int&gt; | time.ppn &lt;int&gt; |\n",
       "|---|---|---|---|---|---|---|---|---|---|---|---|---|---|---|---|---|---|---|---|\n",
       "| 1 | 1000 | 203 | 82 | 56 | 3.6 | 4.31 | Buckingham | 46 | female | 62 | 121 | medium | 118 | 59 |  NA | NA | 29 | 38 | 720 |\n",
       "| 2 | 1001 | 165 | 97 | 24 | 6.9 | 4.44 | Buckingham | 29 | female | 64 | 218 | large  | 112 | 68 |  NA | NA | 46 | 48 | 360 |\n",
       "| 3 | 1002 | 228 | 92 | 37 | 6.2 | 4.64 | Buckingham | 58 | female | 61 | 256 | large  | 190 | 92 | 185 | 92 | 49 | 57 | 180 |\n",
       "| 4 | 1003 |  78 | 93 | 12 | 6.5 | 4.63 | Buckingham | 67 | male   | 67 | 119 | large  | 110 | 50 |  NA | NA | 33 | 38 | 480 |\n",
       "| 5 | 1005 | 249 | 90 | 28 | 8.9 | 7.72 | Buckingham | 64 | male   | 68 | 183 | medium | 138 | 80 |  NA | NA | 44 | 41 | 300 |\n",
       "| 6 | 1008 | 248 | 94 | 69 | 3.6 | 4.81 | Buckingham | 34 | male   | 71 | 190 | large  | 132 | 86 |  NA | NA | 36 | 42 | 195 |\n",
       "\n"
      ],
      "text/plain": [
       "  id   chol stab.glu hdl ratio glyhb location   age gender height weight frame \n",
       "1 1000 203  82       56  3.6   4.31  Buckingham 46  female 62     121    medium\n",
       "2 1001 165  97       24  6.9   4.44  Buckingham 29  female 64     218    large \n",
       "3 1002 228  92       37  6.2   4.64  Buckingham 58  female 61     256    large \n",
       "4 1003  78  93       12  6.5   4.63  Buckingham 67  male   67     119    large \n",
       "5 1005 249  90       28  8.9   7.72  Buckingham 64  male   68     183    medium\n",
       "6 1008 248  94       69  3.6   4.81  Buckingham 34  male   71     190    large \n",
       "  bp.1s bp.1d bp.2s bp.2d waist hip time.ppn\n",
       "1 118   59     NA   NA    29    38  720     \n",
       "2 112   68     NA   NA    46    48  360     \n",
       "3 190   92    185   92    49    57  180     \n",
       "4 110   50     NA   NA    33    38  480     \n",
       "5 138   80     NA   NA    44    41  300     \n",
       "6 132   86     NA   NA    36    42  195     "
      ]
     },
     "metadata": {},
     "output_type": "display_data"
    }
   ],
   "source": [
    "head(diabetes)"
   ]
  },
  {
   "cell_type": "code",
   "execution_count": 3,
   "id": "61159574-f599-4a6d-b0f6-0d6ce2bf278d",
   "metadata": {},
   "outputs": [
    {
     "data": {
      "text/plain": [
       "       id             chol          stab.glu          hdl        \n",
       " Min.   : 1000   Min.   : 78.0   Min.   : 48.0   Min.   : 12.00  \n",
       " 1st Qu.: 4792   1st Qu.:179.0   1st Qu.: 81.0   1st Qu.: 38.00  \n",
       " Median :15766   Median :204.0   Median : 89.0   Median : 46.00  \n",
       " Mean   :15978   Mean   :207.8   Mean   :106.7   Mean   : 50.45  \n",
       " 3rd Qu.:20336   3rd Qu.:230.0   3rd Qu.:106.0   3rd Qu.: 59.00  \n",
       " Max.   :41756   Max.   :443.0   Max.   :385.0   Max.   :120.00  \n",
       "                 NA's   :1                       NA's   :1       \n",
       "     ratio            glyhb             location        age           gender   \n",
       " Min.   : 1.500   Min.   : 2.68   Buckingham:200   Min.   :19.00   male  :169  \n",
       " 1st Qu.: 3.200   1st Qu.: 4.38   Louisa    :203   1st Qu.:34.00   female:234  \n",
       " Median : 4.200   Median : 4.84                    Median :45.00               \n",
       " Mean   : 4.522   Mean   : 5.59                    Mean   :46.85               \n",
       " 3rd Qu.: 5.400   3rd Qu.: 5.60                    3rd Qu.:60.00               \n",
       " Max.   :19.300   Max.   :16.11                    Max.   :92.00               \n",
       " NA's   :1        NA's   :13                                                   \n",
       "     height          weight         frame         bp.1s           bp.1d       \n",
       " Min.   :52.00   Min.   : 99.0   small :104   Min.   : 90.0   Min.   : 48.00  \n",
       " 1st Qu.:63.00   1st Qu.:151.0   medium:184   1st Qu.:121.2   1st Qu.: 75.00  \n",
       " Median :66.00   Median :172.5   large :103   Median :136.0   Median : 82.00  \n",
       " Mean   :66.02   Mean   :177.6   NA's  : 12   Mean   :136.9   Mean   : 83.32  \n",
       " 3rd Qu.:69.00   3rd Qu.:200.0                3rd Qu.:146.8   3rd Qu.: 90.00  \n",
       " Max.   :76.00   Max.   :325.0                Max.   :250.0   Max.   :124.00  \n",
       " NA's   :5       NA's   :1                    NA's   :5       NA's   :5       \n",
       "     bp.2s           bp.2d            waist           hip       \n",
       " Min.   :110.0   Min.   : 60.00   Min.   :26.0   Min.   :30.00  \n",
       " 1st Qu.:138.0   1st Qu.: 84.00   1st Qu.:33.0   1st Qu.:39.00  \n",
       " Median :149.0   Median : 92.00   Median :37.0   Median :42.00  \n",
       " Mean   :152.4   Mean   : 92.52   Mean   :37.9   Mean   :43.04  \n",
       " 3rd Qu.:161.0   3rd Qu.:100.00   3rd Qu.:41.0   3rd Qu.:46.00  \n",
       " Max.   :238.0   Max.   :124.00   Max.   :56.0   Max.   :64.00  \n",
       " NA's   :262     NA's   :262      NA's   :2      NA's   :2      \n",
       "    time.ppn     \n",
       " Min.   :   5.0  \n",
       " 1st Qu.:  90.0  \n",
       " Median : 240.0  \n",
       " Mean   : 341.2  \n",
       " 3rd Qu.: 517.5  \n",
       " Max.   :1560.0  \n",
       " NA's   :3       "
      ]
     },
     "metadata": {},
     "output_type": "display_data"
    }
   ],
   "source": [
    "summary(diabetes)"
   ]
  },
  {
   "cell_type": "code",
   "execution_count": 4,
   "id": "2d095f67-a842-4b86-b58f-62a1d7261c33",
   "metadata": {},
   "outputs": [
    {
     "data": {
      "text/plain": [
       "< table of extent 0 >"
      ]
     },
     "metadata": {},
     "output_type": "display_data"
    }
   ],
   "source": [
    "table(diabetes$diabetesT)"
   ]
  },
  {
   "cell_type": "code",
   "execution_count": 5,
   "id": "ff935e0f-a24b-49e9-9dbd-4660f70c355d",
   "metadata": {},
   "outputs": [
    {
     "data": {
      "image/png": "[encoded data removed]",
      "text/plain": [
       "plot without title"
      ]
     },
     "metadata": {
      "image/png": {
       "height": 420,
       "width": 420
      }
     },
     "output_type": "display_data"
    }
   ],
   "source": [
    "diabetes$diabetesT <- as.factor(ifelse(diabetes$glyhb >= 7, 1, 0))\n",
    "ggplot(data = diabetes, mapping = aes(x= diabetesT)) + \n",
    "geom_bar()\n"
   ]
  },
  {
   "cell_type": "code",
   "execution_count": 6,
   "id": "9275e810-07e9-4908-808c-e88bbb8df00a",
   "metadata": {},
   "outputs": [
    {
     "name": "stderr",
     "output_type": "stream",
     "text": [
      "\u001b[1m\u001b[22mDon't know how to automatically pick scale for object of type \u001b[34m<labelled>\u001b[39m. Defaulting to continuous.\n"
     ]
    }
   ],
   "source": [
    "stab.gender.gplot <- ggplot(data= diabetes, mapping = aes(x=gender, y= stab.glu)) + geom_boxplot() + facet_wrap(~location) + labs(\n",
    "    x = \"Gender\",\n",
    "    y = \"Stable Glucose Level\",\n",
    "    title = \"Glucose Level by Gender and Location\"\n",
    "    \n",
    ")\n",
    "ggsave(\"StabGlucoseLevelGenderLocation.png\", plot = stab.gender.gplot, width = 8, height = 6)"
   ]
  },
  {
   "cell_type": "code",
   "execution_count": 7,
   "id": "0bf2243d-f014-48bc-b560-9a81c0ce27a9",
   "metadata": {},
   "outputs": [
    {
     "name": "stderr",
     "output_type": "stream",
     "text": [
      "\u001b[1m\u001b[22mDon't know how to automatically pick scale for object of type \u001b[34m<labelled>\u001b[39m. Defaulting to continuous.\n",
      "Warning message:\n",
      "\"\u001b[1m\u001b[22mRemoved 13 rows containing non-finite outside the scale range (`stat_boxplot()`).\"\n"
     ]
    }
   ],
   "source": [
    "plot <- ggplot(data = diabetes, mapping = aes(x = gender, y = glyhb)) +\n",
    "  geom_boxplot() +\n",
    "  facet_wrap(~location) +\n",
    "  labs(\n",
    "    x = \"Gender\",\n",
    "    y = \"GLYHB Level\",\n",
    "    title = \"GLYHB Level by Gender and Location\"\n",
    "  )\n",
    "\n",
    "ggsave(\"GLYHBLevelGenderLocation.png\", plot = plot, width = 8, height = 6)\n"
   ]
  },
  {
   "cell_type": "code",
   "execution_count": 8,
   "id": "f8de7904-854c-4d14-8db4-b7c8a9255037",
   "metadata": {},
   "outputs": [
    {
     "data": {
      "image/png": "[encoded data removed]",
      "text/plain": [
       "Plot with title \"Histogram of glyhb\""
      ]
     },
     "metadata": {
      "image/png": {
       "height": 420,
       "width": 420
      }
     },
     "output_type": "display_data"
    }
   ],
   "source": [
    "hist(diabetes$glyhb, main=\"Histogram of glyhb\", xlab=\"glyhb\") "
   ]
  },
  {
   "cell_type": "code",
   "execution_count": 9,
   "id": "735fe4ce-6f41-490c-89bd-6b6fb24aa0d7",
   "metadata": {},
   "outputs": [
    {
     "data": {
      "image/png": "[encoded data removed]",
      "text/plain": [
       "Plot with title \"Log(glyhb) for diabetesT=1\""
      ]
     },
     "metadata": {
      "image/png": {
       "height": 420,
       "width": 420
      }
     },
     "output_type": "display_data"
    }
   ],
   "source": [
    "par(mfrow=c(1,2)) \n",
    "split_data <- split(log(diabetes$glyhb), diabetes$diabetesT)\n",
    "hist(split_data[[1]], main=\"Log(glyhb) for diabetesT=0\", xlab=\"log(glyhb)\")\n",
    "hist(split_data[[2]], main=\"Log(glyhb) for diabetesT=1\", xlab=\"log(glyhb)\")"
   ]
  },
  {
   "cell_type": "code",
   "execution_count": 66,
   "id": "737cf5bd-f9d4-41f0-88b9-4802f3983759",
   "metadata": {},
   "outputs": [
    {
     "name": "stderr",
     "output_type": "stream",
     "text": [
      "\u001b[1m\u001b[22mDon't know how to automatically pick scale for object of type \u001b[34m<labelled>\u001b[39m. Defaulting to continuous.\n",
      "\u001b[1m\u001b[22mDon't know how to automatically pick scale for object of type \u001b[34m<labelled>\u001b[39m. Defaulting to continuous.\n",
      "Warning message:\n",
      "\"\u001b[1m\u001b[22mRemoved 13 rows containing missing values or values outside the scale range (`geom_point()`).\"\n"
     ]
    },
    {
     "data": {
      "image/png": "[encoded data removed]",
      "text/plain": [
       "plot without title"
      ]
     },
     "metadata": {
      "image/png": {
       "height": 420,
       "width": 420
      }
     },
     "output_type": "display_data"
    }
   ],
   "source": [
    "ggplot(data = diabetes, mapping = aes(x=stab.glu, y=glyhb, alpha = 0.5)) + geom_point(aes(size = age, color = gender))"
   ]
  },
  {
   "cell_type": "code",
   "execution_count": 94,
   "id": "7dd97e62-4cc3-4cbd-b978-841eeef1832b",
   "metadata": {},
   "outputs": [
    {
     "name": "stderr",
     "output_type": "stream",
     "text": [
      "\u001b[1m\u001b[22mDon't know how to automatically pick scale for object of type \u001b[34m<labelled>\u001b[39m. Defaulting to continuous.\n",
      "Warning message:\n",
      "\"\u001b[1m\u001b[22mRemoved 14 rows containing missing values or values outside the scale range (`geom_point()`).\"\n"
     ]
    }
   ],
   "source": [
    "glyhb.stab.scatter <- ggplot(data = diabetes, mapping = aes(x= age, y = log(glyhb))) + geom_point(aes(size = as.numeric(ratio), colour = as.numeric(stab.glu),alpha = 0.5)) + scale_colour_binned() +\n",
    "facet_wrap(~gender) + labs(x=\"Age\", y=\"GLYHB\", title = \"GLYHB age comparison\", caption = \"Those who are older, tend to have a higher glyhb level with a combination of stab glucose and high ratio\") \n",
    "\n",
    "ggsave(\"GLYHBLevelGenderAgeStabGlu.png\", plot = glyhb.stab.scatter, width = 8, height = 6)"
   ]
  },
  {
   "cell_type": "code",
   "execution_count": 92,
   "id": "780abadd-601a-47e5-bffe-de63f1d11a62",
   "metadata": {},
   "outputs": [
    {
     "name": "stderr",
     "output_type": "stream",
     "text": [
      "\u001b[1m\u001b[22mDon't know how to automatically pick scale for object of type \u001b[34m<labelled>\u001b[39m. Defaulting to continuous.\n",
      "Warning message:\n",
      "\"\u001b[1m\u001b[22mRemoved 15 rows containing missing values or values outside the scale range (`geom_point()`).\"\n"
     ]
    }
   ],
   "source": [
    "scatter.glyhb <- ggplot(data = diabetes, mapping = aes(x=waist, y=glyhb, size = as.numeric(stab.glu), colour = location, alpha = 0.5)) + geom_point() + facet_wrap(~gender)\n",
    "ggsave(\"GLYHBLevelGenderLocationScatter.png\", plot = scatter.glyhb, width = 8, height = 6)"
   ]
  },
  {
   "cell_type": "markdown",
   "id": "cac0b82a-2bc4-404c-abfb-544704199b63",
   "metadata": {},
   "source": [
    "## Correlation Analysis"
   ]
  },
  {
   "cell_type": "code",
   "execution_count": 10,
   "id": "b1db9a15-23e2-4d3f-a73c-b9f6d1046bba",
   "metadata": {},
   "outputs": [
    {
     "data": {
      "image/png": "[encoded data removed]",
      "text/plain": [
       "plot without title"
      ]
     },
     "metadata": {
      "image/png": {
       "height": 420,
       "width": 420
      }
     },
     "output_type": "display_data"
    }
   ],
   "source": [
    "diabetes_clean <- diabetes %>% \n",
    "  dplyr::select(-c(id, location, gender, frame, diabetesT)) %>% \n",
    "  filter(complete.cases(.))\n",
    "\n",
    "cor_matrix <- cor(diabetes_clean)\n",
    "diag(cor_matrix) <- 0 \n",
    "cor_data <- as.data.frame(as.table(cor_matrix))\n",
    "\n",
    "ggplot(cor_data, aes(Var1, Var2, fill = Freq)) +\n",
    "  geom_tile() +\n",
    "  scale_fill_gradient2(low = \"blue\", high = \"red\", mid = \"white\", \n",
    "                       midpoint = 0, limit = c(-1, 1), space = \"Lab\", \n",
    "                       name=\"Correlation\") +\n",
    "  theme_minimal() +\n",
    "  theme(axis.text.x = element_text(angle = 45, vjust = 1, \n",
    "                                   size = 12, hjust = 1)) +\n",
    "  coord_fixed()"
   ]
  },
  {
   "cell_type": "code",
   "execution_count": 11,
   "id": "f84d9ac5-f09d-4069-bdf3-5eeb9705db94",
   "metadata": {},
   "outputs": [],
   "source": [
    "diabetes_clean_T <- diabetes %>% \n",
    "  filter(diabetesT == 1) %>%\n",
    "  dplyr::select(-c(id, location, gender, frame, diabetesT)) %>% \n",
    "  filter(complete.cases(.))\n",
    "\n",
    "cor_matrix_T <- cor(diabetes_clean_T)\n",
    "diag(cor_matrix_T) <- 0 \n",
    "cor_data_T <- as.data.frame(as.table(cor_matrix_T))\n",
    "\n",
    "diabetes_clean_F <- diabetes %>% \n",
    "  filter(diabetesT == 0) %>%\n",
    "  dplyr::select(-c(id, location, gender, frame, diabetesT)) %>% \n",
    "  filter(complete.cases(.))\n",
    "\n",
    "cor_matrix_F <- cor(diabetes_clean_F)\n",
    "diag(cor_matrix_F) <- 0 \n",
    "cor_data_F <- as.data.frame(as.table(cor_matrix_F))"
   ]
  },
  {
   "cell_type": "code",
   "execution_count": 12,
   "id": "c9e2ac73-4d5e-4677-bee3-42aa708c2e82",
   "metadata": {},
   "outputs": [
    {
     "data": {
      "image/png": "[encoded data removed]",
      "text/plain": [
       "plot without title"
      ]
     },
     "metadata": {
      "image/png": {
       "height": 420,
       "width": 420
      }
     },
     "output_type": "display_data"
    }
   ],
   "source": [
    "ggplot(cor_data_F, aes(Var1, Var2, fill = Freq)) +\n",
    "  geom_tile() +\n",
    "  scale_fill_gradient2(low = \"blue\", high = \"red\", mid = \"white\", \n",
    "                       midpoint = 0, limit = c(-1, 1), space = \"Lab\", \n",
    "                       name=\"Correlation\") +\n",
    "  theme_minimal() +\n",
    "  theme(axis.text.x = element_text(angle = 45, vjust = 1, \n",
    "                                   size = 12, hjust = 1)) +\n",
    "  coord_fixed() +\n",
    "  ggtitle(\"Correlation of Non-Diabetes Patients\")"
   ]
  },
  {
   "cell_type": "code",
   "execution_count": 13,
   "id": "67e30d68-cc7b-4528-bac9-ee4b37f046f5",
   "metadata": {},
   "outputs": [
    {
     "data": {
      "image/png": "[encoded data removed]",
      "text/plain": [
       "plot without title"
      ]
     },
     "metadata": {
      "image/png": {
       "height": 420,
       "width": 420
      }
     },
     "output_type": "display_data"
    }
   ],
   "source": [
    "par(mfrow=c(1,2))\n",
    "\n",
    "ggplot(cor_data_T, aes(Var1, Var2, fill = Freq)) +\n",
    "  geom_tile() +\n",
    "  scale_fill_gradient2(low = \"blue\", high = \"red\", mid = \"white\", \n",
    "                       midpoint = 0, limit = c(-1, 1), space = \"Lab\", \n",
    "                       name=\"Correlation\") +\n",
    "  theme_minimal() +\n",
    "  theme(axis.text.x = element_text(angle = 45, vjust = 1, \n",
    "                                   size = 12, hjust = 1)) +\n",
    "  coord_fixed() +\n",
    "  ggtitle(\"Correlation of Diabetes Patients\")"
   ]
  },
  {
   "cell_type": "markdown",
   "id": "5360ed65-46d5-4bf5-beaf-4d1cb4e682fe",
   "metadata": {},
   "source": [
    "## Pre-Process"
   ]
  },
  {
   "cell_type": "code",
   "execution_count": 10,
   "id": "1d44ef9c-18b8-40fb-873b-288016a8a1ff",
   "metadata": {},
   "outputs": [
    {
     "data": {
      "text/html": [
       "<table class=\"dataframe\">\n",
       "<caption>A data.frame: 1 × 15</caption>\n",
       "<thead>\n",
       "\t<tr><th scope=col>chol</th><th scope=col>hdl</th><th scope=col>ratio</th><th scope=col>glyhb</th><th scope=col>height</th><th scope=col>weight</th><th scope=col>frame</th><th scope=col>bp.1s</th><th scope=col>bp.1d</th><th scope=col>bp.2s</th><th scope=col>bp.2d</th><th scope=col>waist</th><th scope=col>hip</th><th scope=col>time.ppn</th><th scope=col>diabetesT</th></tr>\n",
       "\t<tr><th scope=col>&lt;int&gt;</th><th scope=col>&lt;int&gt;</th><th scope=col>&lt;int&gt;</th><th scope=col>&lt;int&gt;</th><th scope=col>&lt;int&gt;</th><th scope=col>&lt;int&gt;</th><th scope=col>&lt;int&gt;</th><th scope=col>&lt;int&gt;</th><th scope=col>&lt;int&gt;</th><th scope=col>&lt;int&gt;</th><th scope=col>&lt;int&gt;</th><th scope=col>&lt;int&gt;</th><th scope=col>&lt;int&gt;</th><th scope=col>&lt;int&gt;</th><th scope=col>&lt;int&gt;</th></tr>\n",
       "</thead>\n",
       "<tbody>\n",
       "\t<tr><td>1</td><td>1</td><td>1</td><td>13</td><td>5</td><td>1</td><td>12</td><td>5</td><td>5</td><td>262</td><td>262</td><td>2</td><td>2</td><td>3</td><td>13</td></tr>\n",
       "</tbody>\n",
       "</table>\n"
      ],
      "text/latex": [
       "A data.frame: 1 × 15\n",
       "\\begin{tabular}{lllllllllllllll}\n",
       " chol & hdl & ratio & glyhb & height & weight & frame & bp.1s & bp.1d & bp.2s & bp.2d & waist & hip & time.ppn & diabetesT\\\\\n",
       " <int> & <int> & <int> & <int> & <int> & <int> & <int> & <int> & <int> & <int> & <int> & <int> & <int> & <int> & <int>\\\\\n",
       "\\hline\n",
       "\t 1 & 1 & 1 & 13 & 5 & 1 & 12 & 5 & 5 & 262 & 262 & 2 & 2 & 3 & 13\\\\\n",
       "\\end{tabular}\n"
      ],
      "text/markdown": [
       "\n",
       "A data.frame: 1 × 15\n",
       "\n",
       "| chol &lt;int&gt; | hdl &lt;int&gt; | ratio &lt;int&gt; | glyhb &lt;int&gt; | height &lt;int&gt; | weight &lt;int&gt; | frame &lt;int&gt; | bp.1s &lt;int&gt; | bp.1d &lt;int&gt; | bp.2s &lt;int&gt; | bp.2d &lt;int&gt; | waist &lt;int&gt; | hip &lt;int&gt; | time.ppn &lt;int&gt; | diabetesT &lt;int&gt; |\n",
       "|---|---|---|---|---|---|---|---|---|---|---|---|---|---|---|\n",
       "| 1 | 1 | 1 | 13 | 5 | 1 | 12 | 5 | 5 | 262 | 262 | 2 | 2 | 3 | 13 |\n",
       "\n"
      ],
      "text/plain": [
       "  chol hdl ratio glyhb height weight frame bp.1s bp.1d bp.2s bp.2d waist hip\n",
       "1 1    1   1     13    5      1      12    5     5     262   262   2     2  \n",
       "  time.ppn diabetesT\n",
       "1 3        13       "
      ]
     },
     "metadata": {},
     "output_type": "display_data"
    }
   ],
   "source": [
    "diabetes %>% summarise(across(everything(),~sum(is.na(.)))) %>% select(where(~ . > 0))"
   ]
  },
  {
   "cell_type": "code",
   "execution_count": 11,
   "id": "a866bccd-af36-4b1d-a9f8-693afdedd714",
   "metadata": {},
   "outputs": [],
   "source": [
    "diabetes.drop <- diabetes %>% filter(!is.na(glyhb)) %>% dplyr::select(-c(diabetesT, id))"
   ]
  },
  {
   "cell_type": "code",
   "execution_count": 12,
   "id": "02a9258b-e92d-4451-96cb-930d44f285fa",
   "metadata": {},
   "outputs": [],
   "source": [
    "X <- subset(diabetes.drop, select = -c(glyhb)) #%>% dummy_columns(remove_first_dummy = T, remove_selected_columns = T, ignore_na = T)\n",
    "y <- log(diabetes.drop$glyhb)"
   ]
  },
  {
   "cell_type": "code",
   "execution_count": 13,
   "id": "34cc9402-fe29-48b9-9dfc-d58792656e47",
   "metadata": {},
   "outputs": [],
   "source": [
    "recipe <- recipe(~ ., data = X) %>%\n",
    "  step_impute_knn(all_predictors()) %>% \n",
    "  step_normalize(all_numeric_predictors())  %>%\n",
    "  step_dummy(all_factor_predictors())"
   ]
  },
  {
   "cell_type": "code",
   "execution_count": 14,
   "id": "0cca6408-6a53-4433-9c09-71d7e542a58c",
   "metadata": {},
   "outputs": [],
   "source": [
    "prepared_recipe <- prep(recipe)\n",
    "diabetes.clean <- bake(prepared_recipe, new_data = NULL)"
   ]
  },
  {
   "cell_type": "code",
   "execution_count": 15,
   "id": "7ed8fb43-f0c9-4836-8ac0-d97d744a0f4a",
   "metadata": {},
   "outputs": [
    {
     "data": {
      "text/html": [
       "<table class=\"dataframe\">\n",
       "<caption>A tibble: 6 × 18</caption>\n",
       "<thead>\n",
       "\t<tr><th scope=col>chol</th><th scope=col>stab.glu</th><th scope=col>hdl</th><th scope=col>ratio</th><th scope=col>age</th><th scope=col>height</th><th scope=col>weight</th><th scope=col>bp.1s</th><th scope=col>bp.1d</th><th scope=col>bp.2s</th><th scope=col>bp.2d</th><th scope=col>waist</th><th scope=col>hip</th><th scope=col>time.ppn</th><th scope=col>location_Louisa</th><th scope=col>gender_female</th><th scope=col>frame_medium</th><th scope=col>frame_large</th></tr>\n",
       "\t<tr><th scope=col>&lt;dbl&gt;</th><th scope=col>&lt;dbl&gt;</th><th scope=col>&lt;dbl&gt;</th><th scope=col>&lt;dbl&gt;</th><th scope=col>&lt;dbl&gt;</th><th scope=col>&lt;dbl&gt;</th><th scope=col>&lt;dbl&gt;</th><th scope=col>&lt;dbl&gt;</th><th scope=col>&lt;dbl&gt;</th><th scope=col>&lt;dbl&gt;</th><th scope=col>&lt;dbl&gt;</th><th scope=col>&lt;dbl&gt;</th><th scope=col>&lt;dbl&gt;</th><th scope=col>&lt;dbl&gt;</th><th scope=col>&lt;dbl&gt;</th><th scope=col>&lt;dbl&gt;</th><th scope=col>&lt;dbl&gt;</th><th scope=col>&lt;dbl&gt;</th></tr>\n",
       "</thead>\n",
       "<tbody>\n",
       "\t<tr><td>-0.09393653</td><td>-0.4709910</td><td> 0.3301899</td><td>-0.5307872</td><td>-0.04711384</td><td>-1.0108656</td><td>-1.3939480</td><td>-0.8298859</td><td>-1.7896547</td><td>-0.461453967</td><td>-1.94732913</td><td>-1.5476112</td><td>-0.8932065</td><td> 1.24223986</td><td>0</td><td>1</td><td>1</td><td>0</td></tr>\n",
       "\t<tr><td>-0.94435765</td><td>-0.1921712</td><td>-1.5210095</td><td> 1.3679372</td><td>-1.08143433</td><td>-0.4995328</td><td> 1.0071563</td><td>-1.0916725</td><td>-1.1254178</td><td> 0.602259647</td><td>-0.55173241</td><td> 1.4076487</td><td> 0.8813760</td><td> 0.07438816</td><td>0</td><td>1</td><td>0</td><td>1</td></tr>\n",
       "\t<tr><td> 0.46555105</td><td>-0.2851111</td><td>-0.7689597</td><td> 0.9651774</td><td> 0.68299474</td><td>-1.2665320</td><td> 1.9477951</td><td> 2.3115533</td><td> 0.6458805</td><td> 2.463758472</td><td> 0.08262974</td><td> 1.9291652</td><td> 2.4785002</td><td>-0.50953769</td><td>0</td><td>1</td><td>0</td><td>1</td></tr>\n",
       "\t<tr><td>-2.89137443</td><td>-0.2665231</td><td>-2.2152092</td><td> 1.1377888</td><td> 1.23057617</td><td> 0.2674664</td><td>-1.4434553</td><td>-1.1789347</td><td>-2.4538916</td><td>-0.394971866</td><td>-0.55173241</td><td>-0.8522560</td><td>-0.8932065</td><td> 0.46367206</td><td>0</td><td>0</td><td>0</td><td>1</td></tr>\n",
       "\t<tr><td> 0.93552062</td><td>-0.3222871</td><td>-1.2896095</td><td> 2.5186790</td><td> 1.04804903</td><td> 0.5231328</td><td> 0.1407785</td><td> 0.0427361</td><td>-0.2397687</td><td> 0.003920739</td><td>-0.67860484</td><td> 1.0599711</td><td>-0.3608318</td><td>-0.12025379</td><td>0</td><td>0</td><td>1</td><td>0</td></tr>\n",
       "\t<tr><td> 0.91314111</td><td>-0.2479351</td><td> 1.0822396</td><td>-0.5307872</td><td>-0.77722242</td><td> 1.2901320</td><td> 0.3140540</td><td>-0.2190505</td><td> 0.2030559</td><td>-0.062561362</td><td> 0.59011945</td><td>-0.3307395</td><td>-0.1833735</td><td>-0.46087720</td><td>0</td><td>0</td><td>0</td><td>1</td></tr>\n",
       "</tbody>\n",
       "</table>\n"
      ],
      "text/latex": [
       "A tibble: 6 × 18\n",
       "\\begin{tabular}{llllllllllllllllll}\n",
       " chol & stab.glu & hdl & ratio & age & height & weight & bp.1s & bp.1d & bp.2s & bp.2d & waist & hip & time.ppn & location\\_Louisa & gender\\_female & frame\\_medium & frame\\_large\\\\\n",
       " <dbl> & <dbl> & <dbl> & <dbl> & <dbl> & <dbl> & <dbl> & <dbl> & <dbl> & <dbl> & <dbl> & <dbl> & <dbl> & <dbl> & <dbl> & <dbl> & <dbl> & <dbl>\\\\\n",
       "\\hline\n",
       "\t -0.09393653 & -0.4709910 &  0.3301899 & -0.5307872 & -0.04711384 & -1.0108656 & -1.3939480 & -0.8298859 & -1.7896547 & -0.461453967 & -1.94732913 & -1.5476112 & -0.8932065 &  1.24223986 & 0 & 1 & 1 & 0\\\\\n",
       "\t -0.94435765 & -0.1921712 & -1.5210095 &  1.3679372 & -1.08143433 & -0.4995328 &  1.0071563 & -1.0916725 & -1.1254178 &  0.602259647 & -0.55173241 &  1.4076487 &  0.8813760 &  0.07438816 & 0 & 1 & 0 & 1\\\\\n",
       "\t  0.46555105 & -0.2851111 & -0.7689597 &  0.9651774 &  0.68299474 & -1.2665320 &  1.9477951 &  2.3115533 &  0.6458805 &  2.463758472 &  0.08262974 &  1.9291652 &  2.4785002 & -0.50953769 & 0 & 1 & 0 & 1\\\\\n",
       "\t -2.89137443 & -0.2665231 & -2.2152092 &  1.1377888 &  1.23057617 &  0.2674664 & -1.4434553 & -1.1789347 & -2.4538916 & -0.394971866 & -0.55173241 & -0.8522560 & -0.8932065 &  0.46367206 & 0 & 0 & 0 & 1\\\\\n",
       "\t  0.93552062 & -0.3222871 & -1.2896095 &  2.5186790 &  1.04804903 &  0.5231328 &  0.1407785 &  0.0427361 & -0.2397687 &  0.003920739 & -0.67860484 &  1.0599711 & -0.3608318 & -0.12025379 & 0 & 0 & 1 & 0\\\\\n",
       "\t  0.91314111 & -0.2479351 &  1.0822396 & -0.5307872 & -0.77722242 &  1.2901320 &  0.3140540 & -0.2190505 &  0.2030559 & -0.062561362 &  0.59011945 & -0.3307395 & -0.1833735 & -0.46087720 & 0 & 0 & 0 & 1\\\\\n",
       "\\end{tabular}\n"
      ],
      "text/markdown": [
       "\n",
       "A tibble: 6 × 18\n",
       "\n",
       "| chol &lt;dbl&gt; | stab.glu &lt;dbl&gt; | hdl &lt;dbl&gt; | ratio &lt;dbl&gt; | age &lt;dbl&gt; | height &lt;dbl&gt; | weight &lt;dbl&gt; | bp.1s &lt;dbl&gt; | bp.1d &lt;dbl&gt; | bp.2s &lt;dbl&gt; | bp.2d &lt;dbl&gt; | waist &lt;dbl&gt; | hip &lt;dbl&gt; | time.ppn &lt;dbl&gt; | location_Louisa &lt;dbl&gt; | gender_female &lt;dbl&gt; | frame_medium &lt;dbl&gt; | frame_large &lt;dbl&gt; |\n",
       "|---|---|---|---|---|---|---|---|---|---|---|---|---|---|---|---|---|---|\n",
       "| -0.09393653 | -0.4709910 |  0.3301899 | -0.5307872 | -0.04711384 | -1.0108656 | -1.3939480 | -0.8298859 | -1.7896547 | -0.461453967 | -1.94732913 | -1.5476112 | -0.8932065 |  1.24223986 | 0 | 1 | 1 | 0 |\n",
       "| -0.94435765 | -0.1921712 | -1.5210095 |  1.3679372 | -1.08143433 | -0.4995328 |  1.0071563 | -1.0916725 | -1.1254178 |  0.602259647 | -0.55173241 |  1.4076487 |  0.8813760 |  0.07438816 | 0 | 1 | 0 | 1 |\n",
       "|  0.46555105 | -0.2851111 | -0.7689597 |  0.9651774 |  0.68299474 | -1.2665320 |  1.9477951 |  2.3115533 |  0.6458805 |  2.463758472 |  0.08262974 |  1.9291652 |  2.4785002 | -0.50953769 | 0 | 1 | 0 | 1 |\n",
       "| -2.89137443 | -0.2665231 | -2.2152092 |  1.1377888 |  1.23057617 |  0.2674664 | -1.4434553 | -1.1789347 | -2.4538916 | -0.394971866 | -0.55173241 | -0.8522560 | -0.8932065 |  0.46367206 | 0 | 0 | 0 | 1 |\n",
       "|  0.93552062 | -0.3222871 | -1.2896095 |  2.5186790 |  1.04804903 |  0.5231328 |  0.1407785 |  0.0427361 | -0.2397687 |  0.003920739 | -0.67860484 |  1.0599711 | -0.3608318 | -0.12025379 | 0 | 0 | 1 | 0 |\n",
       "|  0.91314111 | -0.2479351 |  1.0822396 | -0.5307872 | -0.77722242 |  1.2901320 |  0.3140540 | -0.2190505 |  0.2030559 | -0.062561362 |  0.59011945 | -0.3307395 | -0.1833735 | -0.46087720 | 0 | 0 | 0 | 1 |\n",
       "\n"
      ],
      "text/plain": [
       "  chol        stab.glu   hdl        ratio      age         height    \n",
       "1 -0.09393653 -0.4709910  0.3301899 -0.5307872 -0.04711384 -1.0108656\n",
       "2 -0.94435765 -0.1921712 -1.5210095  1.3679372 -1.08143433 -0.4995328\n",
       "3  0.46555105 -0.2851111 -0.7689597  0.9651774  0.68299474 -1.2665320\n",
       "4 -2.89137443 -0.2665231 -2.2152092  1.1377888  1.23057617  0.2674664\n",
       "5  0.93552062 -0.3222871 -1.2896095  2.5186790  1.04804903  0.5231328\n",
       "6  0.91314111 -0.2479351  1.0822396 -0.5307872 -0.77722242  1.2901320\n",
       "  weight     bp.1s      bp.1d      bp.2s        bp.2d       waist     \n",
       "1 -1.3939480 -0.8298859 -1.7896547 -0.461453967 -1.94732913 -1.5476112\n",
       "2  1.0071563 -1.0916725 -1.1254178  0.602259647 -0.55173241  1.4076487\n",
       "3  1.9477951  2.3115533  0.6458805  2.463758472  0.08262974  1.9291652\n",
       "4 -1.4434553 -1.1789347 -2.4538916 -0.394971866 -0.55173241 -0.8522560\n",
       "5  0.1407785  0.0427361 -0.2397687  0.003920739 -0.67860484  1.0599711\n",
       "6  0.3140540 -0.2190505  0.2030559 -0.062561362  0.59011945 -0.3307395\n",
       "  hip        time.ppn    location_Louisa gender_female frame_medium frame_large\n",
       "1 -0.8932065  1.24223986 0               1             1            0          \n",
       "2  0.8813760  0.07438816 0               1             0            1          \n",
       "3  2.4785002 -0.50953769 0               1             0            1          \n",
       "4 -0.8932065  0.46367206 0               0             0            1          \n",
       "5 -0.3608318 -0.12025379 0               0             1            0          \n",
       "6 -0.1833735 -0.46087720 0               0             0            1          "
      ]
     },
     "metadata": {},
     "output_type": "display_data"
    },
    {
     "data": {
      "image/png": "[encoded data removed]",
      "text/plain": [
       "plot without title"
      ]
     },
     "metadata": {
      "image/png": {
       "height": 420,
       "width": 420
      }
     },
     "output_type": "display_data"
    }
   ],
   "source": [
    "vis_miss(diabetes.clean)\n",
    "head(diabetes.clean)"
   ]
  },
  {
   "cell_type": "markdown",
   "id": "60cc764e-272a-46a7-9c9f-8877db55f3da",
   "metadata": {},
   "source": [
    "## Regression  Model"
   ]
  },
  {
   "cell_type": "code",
   "execution_count": 16,
   "id": "50471547-7606-4bb6-89de-cfcc8c6d4b34",
   "metadata": {},
   "outputs": [],
   "source": [
    "set.seed(42)\n",
    "train.indx <- createDataPartition(y = y, p = .8, list = FALSE)"
   ]
  },
  {
   "cell_type": "code",
   "execution_count": 17,
   "id": "96335fd6-cd77-49ec-b0f2-c2ca5f488bd5",
   "metadata": {},
   "outputs": [],
   "source": [
    "X.train <-diabetes.clean[train.indx,]\n",
    "X.test <- diabetes.clean[-train.indx,]\n",
    "\n",
    "y.train <- y[train.indx] \n",
    "y.test <- y[-train.indx]\n",
    "\n",
    "Xy.train <- cbind(X.train, y.train)\n",
    "Xy.test <- cbind(X.test, y.test)"
   ]
  },
  {
   "cell_type": "code",
   "execution_count": 18,
   "id": "0ac23192-56e5-4c39-9208-884c890d9a0f",
   "metadata": {},
   "outputs": [],
   "source": [
    "linear.model <- lm(y.train~., data = Xy.train)"
   ]
  },
  {
   "cell_type": "code",
   "execution_count": 19,
   "id": "6d5b1926-d449-4bea-9eb7-5af7560018bb",
   "metadata": {},
   "outputs": [
    {
     "data": {
      "text/plain": [
       "\n",
       "Call:\n",
       "lm(formula = y.train ~ ., data = Xy.train)\n",
       "\n",
       "Residuals:\n",
       "     Min       1Q   Median       3Q      Max \n",
       "-0.97412 -0.11028 -0.01357  0.09243  1.09316 \n",
       "\n",
       "Coefficients:\n",
       "                 Estimate Std. Error t value Pr(>|t|)    \n",
       "(Intercept)      1.671134   0.041306  40.458  < 2e-16 ***\n",
       "chol             0.026645   0.024169   1.102  0.27116    \n",
       "stab.glu         0.183913   0.012788  14.381  < 2e-16 ***\n",
       "hdl             -0.012552   0.028770  -0.436  0.66295    \n",
       "ratio            0.024986   0.031278   0.799  0.42502    \n",
       "age              0.046953   0.016209   2.897  0.00405 ** \n",
       "height           0.008738   0.018892   0.463  0.64404    \n",
       "weight          -0.015397   0.034045  -0.452  0.65142    \n",
       "bp.1s            0.029869   0.021923   1.362  0.17408    \n",
       "bp.1d           -0.012647   0.018407  -0.687  0.49260    \n",
       "bp.2s           -0.020080   0.018543  -1.083  0.27974    \n",
       "bp.2d           -0.002283   0.016608  -0.137  0.89075    \n",
       "waist            0.029838   0.027855   1.071  0.28495    \n",
       "hip              0.003148   0.030907   0.102  0.91895    \n",
       "time.ppn         0.031271   0.012466   2.508  0.01266 *  \n",
       "location_Louisa -0.023962   0.025420  -0.943  0.34664    \n",
       "gender_female    0.019334   0.038962   0.496  0.62011    \n",
       "frame_medium    -0.001240   0.031745  -0.039  0.96887    \n",
       "frame_large     -0.032156   0.043214  -0.744  0.45740    \n",
       "---\n",
       "Signif. codes:  0 '***' 0.001 '**' 0.01 '*' 0.05 '.' 0.1 ' ' 1\n",
       "\n",
       "Residual standard error: 0.2109 on 295 degrees of freedom\n",
       "Multiple R-squared:  0.5766,\tAdjusted R-squared:  0.5508 \n",
       "F-statistic: 22.32 on 18 and 295 DF,  p-value: < 2.2e-16\n"
      ]
     },
     "metadata": {},
     "output_type": "display_data"
    }
   ],
   "source": [
    "summary(linear.model)"
   ]
  },
  {
   "cell_type": "code",
   "execution_count": 109,
   "id": "69734c9f-b566-41af-afd1-7d0196a56547",
   "metadata": {},
   "outputs": [
    {
     "data": {
      "text/html": [
       "1.22901778415276"
      ],
      "text/latex": [
       "1.22901778415276"
      ],
      "text/markdown": [
       "1.22901778415276"
      ],
      "text/plain": [
       "[1] 1.229018"
      ]
     },
     "metadata": {},
     "output_type": "display_data"
    }
   ],
   "source": [
    "y.hat.lin <- predict(linear.model, X.test)\n",
    "exp(sqrt(mean((y.hat.lin-y.test)^2)))"
   ]
  },
  {
   "cell_type": "code",
   "execution_count": 101,
   "id": "09d7471a-ee7c-4a99-9d7a-4f3fcb3d0331",
   "metadata": {},
   "outputs": [],
   "source": [
    "linear.model.interactions <- lm(y.train~stab.glu + age + time.ppn + bp.1d*chol+ gender_female, data = Xy.train)"
   ]
  },
  {
   "cell_type": "code",
   "execution_count": 102,
   "id": "966b3a4b-3e99-4f23-b5d4-a8696ad51d5f",
   "metadata": {},
   "outputs": [],
   "source": [
    "interactions <- model.matrix(~(.)^2-1, data = X.train)"
   ]
  },
  {
   "cell_type": "code",
   "execution_count": 103,
   "id": "5edb017c-12de-4352-a002-1bc2e04f78c4",
   "metadata": {},
   "outputs": [
    {
     "name": "stderr",
     "output_type": "stream",
     "text": [
      "Warning message in leaps.setup(x, y, wt = weights, nbest = nbest, nvmax = nvmax, :\n",
      "\"1  linear dependencies found\"\n"
     ]
    }
   ],
   "source": [
    "subset.model <- summary(regsubsets(x = interactions, y= y.train, method = \"backward\"))"
   ]
  },
  {
   "cell_type": "code",
   "execution_count": 27,
   "id": "2f966ab9-804e-4dda-8e83-9b089c78a1b8",
   "metadata": {},
   "outputs": [
    {
     "ename": "ERROR",
     "evalue": "Error: object 'selected.variables' not found\n",
     "output_type": "error",
     "traceback": [
      "Error: object 'selected.variables' not found\nTraceback:\n"
     ]
    }
   ],
   "source": [
    "c(selected.variables,\"stab.glu\", \"gender_female\", \"location_Louisa\", \"waist\", \"bp.1s\", \"frame_medium\")"
   ]
  },
  {
   "cell_type": "code",
   "execution_count": 96,
   "id": "76f2ff53-65af-4783-8129-01066e43bf82",
   "metadata": {},
   "outputs": [
    {
     "data": {
      "text/html": [
       "<style>\n",
       ".list-inline {list-style: none; margin:0; padding: 0}\n",
       ".list-inline>li {display: inline-block}\n",
       ".list-inline>li:not(:last-child)::after {content: \"\\00b7\"; padding: 0 .5ex}\n",
       "</style>\n",
       "<ol class=list-inline><li>314</li><li>171</li></ol>\n"
      ],
      "text/latex": [
       "\\begin{enumerate*}\n",
       "\\item 314\n",
       "\\item 171\n",
       "\\end{enumerate*}\n"
      ],
      "text/markdown": [
       "1. 314\n",
       "2. 171\n",
       "\n",
       "\n"
      ],
      "text/plain": [
       "[1] 314 171"
      ]
     },
     "metadata": {},
     "output_type": "display_data"
    }
   ],
   "source": [
    "dim(interactions)"
   ]
  },
  {
   "cell_type": "code",
   "execution_count": 104,
   "id": "a36da9b7-121a-4ec8-8c6a-9aef68560cea",
   "metadata": {},
   "outputs": [
    {
     "name": "stdout",
     "output_type": "stream",
     "text": [
      "[1] \"chol\"                     \"height\"                  \n",
      "[3] \"stab.glu:bp.1s\"           \"stab.glu:waist\"          \n",
      "[5] \"stab.glu:time.ppn\"        \"stab.glu:location_Louisa\"\n",
      "[7] \"stab.glu:gender_female\"   \"stab.glu:frame_medium\"   \n",
      "[9] \"hip:location_Louisa\"     \n"
     ]
    },
    {
     "data": {
      "text/plain": [
       "\n",
       "Call:\n",
       "lm(formula = y.train ~ ., data = as.data.frame(X.train.selected))\n",
       "\n",
       "Residuals:\n",
       "    Min      1Q  Median      3Q     Max \n",
       "-0.8743 -0.1277 -0.0230  0.1103  1.1406 \n",
       "\n",
       "Coefficients:\n",
       "                            Estimate Std. Error t value Pr(>|t|)    \n",
       "(Intercept)                 1.662646   0.013660 121.714  < 2e-16 ***\n",
       "chol                        0.042475   0.013320   3.189 0.001577 ** \n",
       "height                     -0.006659   0.013492  -0.494 0.621976    \n",
       "`stab.glu:bp.1s`           -0.009713   0.017469  -0.556 0.578606    \n",
       "`stab.glu:waist`            0.036527   0.014794   2.469 0.014098 *  \n",
       "`stab.glu:time.ppn`         0.051216   0.015415   3.323 0.001001 ** \n",
       "`stab.glu:location_Louisa`  0.125668   0.019391   6.481 3.68e-10 ***\n",
       "`stab.glu:gender_female`    0.148304   0.024341   6.093 3.35e-09 ***\n",
       "`stab.glu:frame_medium`     0.096956   0.025557   3.794 0.000179 ***\n",
       "`hip:location_Louisa`       0.014707   0.019818   0.742 0.458620    \n",
       "---\n",
       "Signif. codes:  0 '***' 0.001 '**' 0.01 '*' 0.05 '.' 0.1 ' ' 1\n",
       "\n",
       "Residual standard error: 0.2296 on 304 degrees of freedom\n",
       "Multiple R-squared:  0.4829,\tAdjusted R-squared:  0.4675 \n",
       "F-statistic: 31.54 on 9 and 304 DF,  p-value: < 2.2e-16\n"
      ]
     },
     "metadata": {},
     "output_type": "display_data"
    }
   ],
   "source": [
    "best.model.index <- which.max(subset.model$adjr2)\n",
    "\n",
    "best.model.variables <- colnames(interactions)[subset.model$which[best.model.index,]]\n",
    "\n",
    "print(best.model.variables)\n",
    "\n",
    "selected.variables <- best.model.variables\n",
    "\n",
    "X.train.selected <- interactions[, c(selected.variables), drop = FALSE]#,\"stab.glu\", \"gender_female\", \"location_Louisa\", \"waist\", \"bp.1s\", \"frame_medium\"), drop = FALSE]\n",
    "\n",
    "final.model <- lm(y.train ~ . ,data = as.data.frame(X.train.selected))\n",
    "\n",
    "summary(final.model)"
   ]
  },
  {
   "cell_type": "markdown",
   "id": "91e49956-0391-40f2-9c92-b2fe57d1fc52",
   "metadata": {},
   "source": [
    "Gender and Stable Glucose: Females with higher stable glucose levels have significantly higher glyhb levels compared to males, suggesting a stronger relationship between stable glucose and glyhb for females.\n",
    "\n",
    "Location (Louisa): People in Louisa generally have lower glyhb levels, regardless of stable glucose levels.\n",
    "\n",
    "Stable Glucose (Overall): Stable glucose is a strong predictor of glyhb levels, significantly increasing glyhb irrespective of gender or location.\n",
    "\n",
    "Chol: Higher Higher glucose levels overall effect the glyhb levels by 1.03 units when all other vraibales are kept constant."
   ]
  },
  {
   "cell_type": "code",
   "execution_count": 29,
   "id": "7b30708f-09fd-45cd-b6c6-8b539a811598",
   "metadata": {},
   "outputs": [
    {
     "data": {
      "image/png": "[encoded data removed]",
      "text/plain": [
       "Plot with title \"\""
      ]
     },
     "metadata": {
      "image/png": {
       "height": 420,
       "width": 420
      }
     },
     "output_type": "display_data"
    },
    {
     "data": {
      "image/png": "[encoded data removed]",
      "text/plain": [
       "Plot with title \"\""
      ]
     },
     "metadata": {
      "image/png": {
       "height": 420,
       "width": 420
      }
     },
     "output_type": "display_data"
    },
    {
     "data": {
      "image/png": "[encoded data removed]",
      "text/plain": [
       "Plot with title \"\""
      ]
     },
     "metadata": {
      "image/png": {
       "height": 420,
       "width": 420
      }
     },
     "output_type": "display_data"
    },
    {
     "data": {
      "image/png": "[encoded data removed]",
      "text/plain": [
       "Plot with title \"\""
      ]
     },
     "metadata": {
      "image/png": {
       "height": 420,
       "width": 420
      }
     },
     "output_type": "display_data"
    }
   ],
   "source": [
    "plot(final.model)"
   ]
  },
  {
   "cell_type": "code",
   "execution_count": 30,
   "id": "f6f50b33-e87f-4e7d-8c40-4fd2dde3ef48",
   "metadata": {},
   "outputs": [],
   "source": [
    "interactions.test <- model.matrix(~(.)^2-1, data = X.test)\n",
    "\n",
    "X.test.selected <- as.data.frame(interactions.test[, c(selected.variables,\"stab.glu\", \"gender_female\", \"location_Louisa\", \"waist\", \"bp.1s\", \"frame_medium\"), drop = FALSE])"
   ]
  },
  {
   "cell_type": "code",
   "execution_count": 110,
   "id": "f9fd814d-dfa6-458a-914f-468acb3796f3",
   "metadata": {},
   "outputs": [
    {
     "data": {
      "text/html": [
       "1.28035137631652"
      ],
      "text/latex": [
       "1.28035137631652"
      ],
      "text/markdown": [
       "1.28035137631652"
      ],
      "text/plain": [
       "[1] 1.280351"
      ]
     },
     "metadata": {},
     "output_type": "display_data"
    }
   ],
   "source": [
    "y.hat <- predict(final.model, X.test.selected)\n",
    "exp(sqrt(mean((y.hat - y.test)^2)))"
   ]
  },
  {
   "cell_type": "code",
   "execution_count": 32,
   "id": "8bfcbc7e-fc5d-4ee2-816d-5e2f9c7b78d7",
   "metadata": {},
   "outputs": [
    {
     "data": {
      "image/png": "[encoded data removed]",
      "text/plain": [
       "Plot with title \"Real Distribution\""
      ]
     },
     "metadata": {
      "image/png": {
       "height": 420,
       "width": 420
      }
     },
     "output_type": "display_data"
    }
   ],
   "source": [
    "par(mfrow=c(1,2))\n",
    "hist(exp(y.hat), main = \"Prediction Distribution\")\n",
    "hist(exp(y.test), main = \"Real Distribution\")"
   ]
  },
  {
   "cell_type": "code",
   "execution_count": 33,
   "id": "947baa3f-81fa-494a-85a4-426593f2eb98",
   "metadata": {},
   "outputs": [
    {
     "data": {
      "image/png": "[encoded data removed]",
      "text/plain": [
       "plot without title"
      ]
     },
     "metadata": {
      "image/png": {
       "height": 420,
       "width": 420
      }
     },
     "output_type": "display_data"
    }
   ],
   "source": [
    "plot(tree(exp(y)~.,data=X))\n",
    "text(tree(exp(y)~.,data=X), pretty = 3, cex = 0.8)"
   ]
  },
  {
   "cell_type": "markdown",
   "id": "ce6cf43a-77b6-4bba-a3ba-8736af122147",
   "metadata": {},
   "source": [
    "## Bayesian Regression"
   ]
  },
  {
   "cell_type": "code",
   "execution_count": 34,
   "id": "57c37b3f-c696-4f9f-a4b2-5128ba8657c4",
   "metadata": {},
   "outputs": [],
   "source": [
    "model = stan_model(\"gpriorLM.stan\")"
   ]
  },
  {
   "cell_type": "code",
   "execution_count": 36,
   "id": "cb20a832-3ff2-45b9-bde7-f322152323fd",
   "metadata": {},
   "outputs": [
    {
     "data": {
      "text/plain": [
       "S4 class stanmodel 'anon_model' coded as follows:\n",
       "data {\n",
       "  int<lower=0> N; // Number of observations\n",
       "  int<lower=0> K; // Number of predictors\n",
       "  real<lower=0> g; // g prior\n",
       "  real<lower=0> nu0; // Prior degrees of freedom\n",
       "  real<lower=0> s20; // Prior sigma^2\n",
       "  matrix[N, K] X; // Data matrix\n",
       "  vector[N] y; // Response variable\n",
       "}\n",
       "parameters {\n",
       "  vector[K] beta; // Regression coefficients\n",
       "  real<lower=0> sigma; // Residual standard deviation\n",
       "}\n",
       "transformed parameters {\n",
       "  matrix[N, N] Hg; // Hat matrix\n",
       "  real SSRg; // Residual Sum of Squares under g-prior\n",
       "  vector[K] betaOLS; // Ordinary least squares estimator for beta\n",
       "  // Compute Hat matrix\n",
       "  Hg = X * inverse(X' * X) * X';\n",
       "  // Compute SSRg\n",
       "  SSRg = dot_self(y - Hg * y); // Efficient computation of quadratic form\n",
       "  // Compute betaOLS\n",
       "  betaOLS = inverse(X' * X) * (X' * y);\n",
       "}\n",
       "model {\n",
       "  // Priors\n",
       "  sigma ~ inv_gamma((nu0 + N) / 2, (nu0 * s20 + SSRg) / 2); // Prior on sigma\n",
       "  beta ~ multi_normal((g / (g + 1)) * betaOLS, square(sigma) * (g / (g + 1)) * inverse(X' * X)); // g-prior\n",
       "  // Likelihood\n",
       "  y ~ normal(X * beta, sigma); // Likelihood\n",
       "} "
      ]
     },
     "metadata": {},
     "output_type": "display_data"
    }
   ],
   "source": [
    "model"
   ]
  },
  {
   "cell_type": "markdown",
   "id": "ee0e65f5-1dbc-4c52-9a70-cc1f9cf2cca1",
   "metadata": {},
   "source": [
    "### Model Test"
   ]
  },
  {
   "cell_type": "code",
   "execution_count": 52,
   "id": "56fe0948-b9ee-41fe-875a-7e9c0d6b193f",
   "metadata": {},
   "outputs": [
    {
     "data": {
      "text/html": [
       "1.82796769336658"
      ],
      "text/latex": [
       "1.82796769336658"
      ],
      "text/markdown": [
       "1.82796769336658"
      ],
      "text/plain": [
       "[1] 1.827968"
      ]
     },
     "metadata": {},
     "output_type": "display_data"
    }
   ],
   "source": [
    "set.seed(123)  # For reproducibility\n",
    "N <- 100    # Number of observations\n",
    "K <- 5      # Number of predictors\n",
    "beta_true <- c(3, -2, 1, 0, 0)  # True coefficients (including zeroes for sparsity)\n",
    "sigma_true <- 1.5  # True residual standard deviation\n",
    "\n",
    "X.s <- matrix(rnorm(N * K, mean = 0, sd = 1), nrow = N, ncol = K)\n",
    "\n",
    "y.s <- X.s %*% beta_true + rnorm(N, mean = 0, sd = sigma_true)\n",
    "\n",
    "s20 <- mean((y.s - X.s %*% solve(t(X.s) %*% X.s) %*% t(X.s) %*% y.s )^2)\n",
    "s20"
   ]
  },
  {
   "cell_type": "code",
   "execution_count": 53,
   "id": "46ec8a0f-ddfa-405c-b9be-0a97fdd5915f",
   "metadata": {},
   "outputs": [],
   "source": [
    "mod1_data <- list(\n",
    "  X = X.s,\n",
    "  K = ncol(X.s),\n",
    "  N = nrow(X.s),\n",
    "  y = as.vector(y.s),\n",
    "  g = nrow(X.s),\n",
    "  nu0 = 1,\n",
    "  s20 = s20\n",
    ")"
   ]
  },
  {
   "cell_type": "code",
   "execution_count": 54,
   "id": "39320ab6-95aa-4ea7-bced-fd6e95de1c53",
   "metadata": {},
   "outputs": [
    {
     "name": "stdout",
     "output_type": "stream",
     "text": [
      "\n",
      "SAMPLING FOR MODEL 'anon_model' NOW (CHAIN 1).\n",
      "Chain 1: \n",
      "Chain 1: Gradient evaluation took 0.000178 seconds\n",
      "Chain 1: 1000 transitions using 10 leapfrog steps per transition would take 1.78 seconds.\n",
      "Chain 1: Adjust your expectations accordingly!\n",
      "Chain 1: \n",
      "Chain 1: \n",
      "Chain 1: Iteration:    1 / 2000 [  0%]  (Warmup)\n",
      "Chain 1: Iteration:  200 / 2000 [ 10%]  (Warmup)\n",
      "Chain 1: Iteration:  400 / 2000 [ 20%]  (Warmup)\n",
      "Chain 1: Iteration:  600 / 2000 [ 30%]  (Warmup)\n",
      "Chain 1: Iteration:  800 / 2000 [ 40%]  (Warmup)\n",
      "Chain 1: Iteration: 1000 / 2000 [ 50%]  (Warmup)\n",
      "Chain 1: Iteration: 1001 / 2000 [ 50%]  (Sampling)\n",
      "Chain 1: Iteration: 1200 / 2000 [ 60%]  (Sampling)\n",
      "Chain 1: Iteration: 1400 / 2000 [ 70%]  (Sampling)\n",
      "Chain 1: Iteration: 1600 / 2000 [ 80%]  (Sampling)\n",
      "Chain 1: Iteration: 1800 / 2000 [ 90%]  (Sampling)\n",
      "Chain 1: Iteration: 2000 / 2000 [100%]  (Sampling)\n",
      "Chain 1: \n",
      "Chain 1:  Elapsed Time: 1.296 seconds (Warm-up)\n",
      "Chain 1:                1.378 seconds (Sampling)\n",
      "Chain 1:                2.674 seconds (Total)\n",
      "Chain 1: \n",
      "\n",
      "SAMPLING FOR MODEL 'anon_model' NOW (CHAIN 2).\n",
      "Chain 2: \n",
      "Chain 2: Gradient evaluation took 0.000272 seconds\n",
      "Chain 2: 1000 transitions using 10 leapfrog steps per transition would take 2.72 seconds.\n",
      "Chain 2: Adjust your expectations accordingly!\n",
      "Chain 2: \n",
      "Chain 2: \n",
      "Chain 2: Iteration:    1 / 2000 [  0%]  (Warmup)\n",
      "Chain 2: Iteration:  200 / 2000 [ 10%]  (Warmup)\n",
      "Chain 2: Iteration:  400 / 2000 [ 20%]  (Warmup)\n",
      "Chain 2: Iteration:  600 / 2000 [ 30%]  (Warmup)\n",
      "Chain 2: Iteration:  800 / 2000 [ 40%]  (Warmup)\n",
      "Chain 2: Iteration: 1000 / 2000 [ 50%]  (Warmup)\n",
      "Chain 2: Iteration: 1001 / 2000 [ 50%]  (Sampling)\n",
      "Chain 2: Iteration: 1200 / 2000 [ 60%]  (Sampling)\n",
      "Chain 2: Iteration: 1400 / 2000 [ 70%]  (Sampling)\n",
      "Chain 2: Iteration: 1600 / 2000 [ 80%]  (Sampling)\n",
      "Chain 2: Iteration: 1800 / 2000 [ 90%]  (Sampling)\n",
      "Chain 2: Iteration: 2000 / 2000 [100%]  (Sampling)\n",
      "Chain 2: \n",
      "Chain 2:  Elapsed Time: 1.271 seconds (Warm-up)\n",
      "Chain 2:                1.346 seconds (Sampling)\n",
      "Chain 2:                2.617 seconds (Total)\n",
      "Chain 2: \n",
      "\n",
      "SAMPLING FOR MODEL 'anon_model' NOW (CHAIN 3).\n",
      "Chain 3: \n",
      "Chain 3: Gradient evaluation took 0.00015 seconds\n",
      "Chain 3: 1000 transitions using 10 leapfrog steps per transition would take 1.5 seconds.\n",
      "Chain 3: Adjust your expectations accordingly!\n",
      "Chain 3: \n",
      "Chain 3: \n",
      "Chain 3: Iteration:    1 / 2000 [  0%]  (Warmup)\n",
      "Chain 3: Iteration:  200 / 2000 [ 10%]  (Warmup)\n",
      "Chain 3: Iteration:  400 / 2000 [ 20%]  (Warmup)\n",
      "Chain 3: Iteration:  600 / 2000 [ 30%]  (Warmup)\n",
      "Chain 3: Iteration:  800 / 2000 [ 40%]  (Warmup)\n",
      "Chain 3: Iteration: 1000 / 2000 [ 50%]  (Warmup)\n",
      "Chain 3: Iteration: 1001 / 2000 [ 50%]  (Sampling)\n",
      "Chain 3: Iteration: 1200 / 2000 [ 60%]  (Sampling)\n",
      "Chain 3: Iteration: 1400 / 2000 [ 70%]  (Sampling)\n",
      "Chain 3: Iteration: 1600 / 2000 [ 80%]  (Sampling)\n",
      "Chain 3: Iteration: 1800 / 2000 [ 90%]  (Sampling)\n",
      "Chain 3: Iteration: 2000 / 2000 [100%]  (Sampling)\n",
      "Chain 3: \n",
      "Chain 3:  Elapsed Time: 1.259 seconds (Warm-up)\n",
      "Chain 3:                1.376 seconds (Sampling)\n",
      "Chain 3:                2.635 seconds (Total)\n",
      "Chain 3: \n",
      "\n",
      "SAMPLING FOR MODEL 'anon_model' NOW (CHAIN 4).\n",
      "Chain 4: \n",
      "Chain 4: Gradient evaluation took 0.000167 seconds\n",
      "Chain 4: 1000 transitions using 10 leapfrog steps per transition would take 1.67 seconds.\n",
      "Chain 4: Adjust your expectations accordingly!\n",
      "Chain 4: \n",
      "Chain 4: \n",
      "Chain 4: Iteration:    1 / 2000 [  0%]  (Warmup)\n",
      "Chain 4: Iteration:  200 / 2000 [ 10%]  (Warmup)\n",
      "Chain 4: Iteration:  400 / 2000 [ 20%]  (Warmup)\n",
      "Chain 4: Iteration:  600 / 2000 [ 30%]  (Warmup)\n",
      "Chain 4: Iteration:  800 / 2000 [ 40%]  (Warmup)\n",
      "Chain 4: Iteration: 1000 / 2000 [ 50%]  (Warmup)\n",
      "Chain 4: Iteration: 1001 / 2000 [ 50%]  (Sampling)\n",
      "Chain 4: Iteration: 1200 / 2000 [ 60%]  (Sampling)\n",
      "Chain 4: Iteration: 1400 / 2000 [ 70%]  (Sampling)\n",
      "Chain 4: Iteration: 1600 / 2000 [ 80%]  (Sampling)\n",
      "Chain 4: Iteration: 1800 / 2000 [ 90%]  (Sampling)\n",
      "Chain 4: Iteration: 2000 / 2000 [100%]  (Sampling)\n",
      "Chain 4: \n",
      "Chain 4:  Elapsed Time: 1.277 seconds (Warm-up)\n",
      "Chain 4:                1.301 seconds (Sampling)\n",
      "Chain 4:                2.578 seconds (Total)\n",
      "Chain 4: \n"
     ]
    }
   ],
   "source": [
    "fit = sampling(model, mod1_data,chains=4)"
   ]
  },
  {
   "cell_type": "code",
   "execution_count": 55,
   "id": "ad8572cf-669f-423d-a569-429bbf73f545",
   "metadata": {},
   "outputs": [
    {
     "data": {
      "text/html": [
       "<style>\n",
       ".list-inline {list-style: none; margin:0; padding: 0}\n",
       ".list-inline>li {display: inline-block}\n",
       ".list-inline>li:not(:last-child)::after {content: \"\\00b7\"; padding: 0 .5ex}\n",
       "</style>\n",
       "<ol class=list-inline><li>3</li><li>-2</li><li>1</li><li>0</li><li>0</li></ol>\n"
      ],
      "text/latex": [
       "\\begin{enumerate*}\n",
       "\\item 3\n",
       "\\item -2\n",
       "\\item 1\n",
       "\\item 0\n",
       "\\item 0\n",
       "\\end{enumerate*}\n"
      ],
      "text/markdown": [
       "1. 3\n",
       "2. -2\n",
       "3. 1\n",
       "4. 0\n",
       "5. 0\n",
       "\n",
       "\n"
      ],
      "text/plain": [
       "[1]  3 -2  1  0  0"
      ]
     },
     "metadata": {},
     "output_type": "display_data"
    }
   ],
   "source": [
    "beta_true"
   ]
  },
  {
   "cell_type": "code",
   "execution_count": 75,
   "id": "f40eaeb1-848a-4e9b-9a30-72c97a6d23ec",
   "metadata": {},
   "outputs": [],
   "source": [
    "posterior_means <- summary(fit)$summary[, \"mean\"]  \n",
    "beta_means <- posterior_means[grep(\"^beta\", rownames(summary(fit)$summary))]\n",
    "\n",
    "comparison <- data.frame(\n",
    "  True = beta_true,\n",
    "  Estimated = beta_means\n",
    ")\n",
    "print(comparison)\n",
    "\n",
    "posterior_summary <- summary(fit)$summary\n",
    "beta_credible <- posterior_summary[grep(\"^beta\", rownames(posterior_summary)), c(\"2.5%\", \"97.5%\")]"
   ]
  },
  {
   "cell_type": "code",
   "execution_count": 78,
   "id": "fe3f2ce5-da72-44fe-9fbc-6ee6d098c26e",
   "metadata": {},
   "outputs": [
    {
     "name": "stdout",
     "output_type": "stream",
     "text": [
      "           True       lower       upper InInterval\n",
      "beta[1]       3  2.74392156  3.18150601       TRUE\n",
      "beta[2]      -2 -1.98182935 -1.55516930      FALSE\n",
      "beta[3]       1  0.78507749  1.21719006       TRUE\n",
      "beta[4]       0 -0.31529775  0.07662868       TRUE\n",
      "beta[5]       0  0.09241711  0.51499244      FALSE\n",
      "betaOLS[1]    3  2.97538082  2.97538082      FALSE\n",
      "betaOLS[2]   -2 -1.77904499 -1.77904499      FALSE\n",
      "betaOLS[3]    1  1.00878106  1.00878106      FALSE\n",
      "betaOLS[4]    0 -0.12328900 -0.12328900      FALSE\n",
      "betaOLS[5]    0  0.30736867  0.30736867      FALSE\n"
     ]
    }
   ],
   "source": [
    "# Combine for comparison\n",
    "credible_check <- data.frame(\n",
    "  True = beta_true,\n",
    "  lower = beta_credible[, \"2.5%\"],\n",
    "  upper = beta_credible[, \"97.5%\"]\n",
    ")\n",
    "credible_check$InInterval <- with(credible_check, True >= lower & True <= upper)\n",
    "print(credible_check)"
   ]
  },
  {
   "cell_type": "code",
   "execution_count": 57,
   "id": "cc1c49b3-4f6b-4076-a523-e8025d222ca1",
   "metadata": {},
   "outputs": [],
   "source": [
    "params = extract(fit)"
   ]
  },
  {
   "cell_type": "code",
   "execution_count": 83,
   "id": "bddbf84a-a66d-4d25-8b19-e0cd6412195e",
   "metadata": {},
   "outputs": [
    {
     "data": {
      "image/png": "[encoded data removed]",
      "text/plain": [
       "plot without title"
      ]
     },
     "metadata": {
      "image/png": {
       "height": 420,
       "width": 420
      }
     },
     "output_type": "display_data"
    }
   ],
   "source": [
    "mcmc_areas(as.array(fit), pars = c(\"beta[1]\", \"beta[2]\", \"sigma\"))"
   ]
  },
  {
   "cell_type": "code",
   "execution_count": 60,
   "id": "c9c2c249-608f-4e0e-a343-634e53243701",
   "metadata": {},
   "outputs": [
    {
     "data": {
      "image/png": "[encoded data removed]",
      "text/plain": [
       "plot without title"
      ]
     },
     "metadata": {
      "image/png": {
       "height": 420,
       "width": 420
      }
     },
     "output_type": "display_data"
    }
   ],
   "source": [
    "par(mfrow=c(1,4))\n",
    "ts.plot(params$beta,xlab=\"Iterations\",ylab=\"beta\")\n",
    "ts.plot(params$sigma,xlab=\"Iterations\",ylab=\"sigma\")"
   ]
  },
  {
   "cell_type": "code",
   "execution_count": 130,
   "id": "2ce73643-841e-4b9c-aeb6-2d3f2dce3994",
   "metadata": {},
   "outputs": [
    {
     "data": {
      "image/png": "[encoded data removed]",
      "text/plain": [
       "Plot with title \"\""
      ]
     },
     "metadata": {
      "image/png": {
       "height": 420,
       "width": 420
      }
     },
     "output_type": "display_data"
    },
    {
     "data": {
      "image/png": "[encoded data removed]",
      "text/plain": [
       "Plot with title \"\""
      ]
     },
     "metadata": {
      "image/png": {
       "height": 420,
       "width": 420
      }
     },
     "output_type": "display_data"
    },
    {
     "data": {
      "image/png": "[encoded data removed]",
      "text/plain": [
       "Plot with title \"\""
      ]
     },
     "metadata": {
      "image/png": {
       "height": 420,
       "width": 420
      }
     },
     "output_type": "display_data"
    },
    {
     "data": {
      "image/png": "[encoded data removed]",
      "text/plain": [
       "Plot with title \"\""
      ]
     },
     "metadata": {
      "image/png": {
       "height": 420,
       "width": 420
      }
     },
     "output_type": "display_data"
    }
   ],
   "source": [
    "hist(params$beta,main=\"\",xlab=\"beta\")\n",
    "hist(params$sigma,main=\"\",xlab=\"sigma\")"
   ]
  },
  {
   "cell_type": "code",
   "execution_count": 84,
   "id": "3c1e9ff7-3391-43a8-a7ef-477a1f227b1a",
   "metadata": {},
   "outputs": [
    {
     "data": {
      "image/png": "[encoded data removed]",
      "text/plain": [
       "Plot with title \"Histogram of Leverage Values\""
      ]
     },
     "metadata": {
      "image/png": {
       "height": 420,
       "width": 420
      }
     },
     "output_type": "display_data"
    }
   ],
   "source": [
    "\n",
    "hat_matrix <- posterior_means[grep(\"^Hg\", rownames(summary(fit)$summary))]\n",
    "\n",
    "hat_matrix <- matrix(hat_matrix, nrow = N, ncol = N)\n",
    "\n",
    "leverage <- diag(hat_matrix)\n",
    "hist(leverage, main = \"Histogram of Leverage Values\", xlab = \"Leverage\")\n"
   ]
  },
  {
   "cell_type": "markdown",
   "id": "2cd57861-4e57-404c-859e-77824ae3a3c5",
   "metadata": {},
   "source": [
    "### Now with diabetes Data"
   ]
  },
  {
   "cell_type": "code",
   "execution_count": 111,
   "id": "7b8f67e2-2cb9-4407-b378-99041f58ab42",
   "metadata": {},
   "outputs": [],
   "source": [
    "X.train <- as.matrix(X.train); y.train <- as.matrix(y.train); X.test <- as.matrix(X.test)\n",
    "s20 <- mean((y.test - X.test %*% solve(t(X.train) %*% X.train) %*% t(X.train) %*% y.train)^2)\n",
    "n <- g <- length(y.train); p <- ncol(X.train); nu0 <- 1; S <- 1000\n",
    "\n",
    "Hg <- g/(g+1) * X.train%*%solve(t(X.train)%*%X.train) %*% t(X.train) \n",
    "SSRg <- t(y.train) %*% (diag(1,nrow = n) - Hg) %*% y.train\n",
    "\n",
    "s2 <- 1/rgamma(S, (nu0+n)/2, (nu0*s20+SSRg)/2)\n",
    "\n",
    "Vb <- g*solve(t(X.train)%*%X.train)/(g+1)\n",
    "Eb <- Vb%*%t(X.train)%*%y.train\n",
    "\n",
    "E <- matrix(rnorm(S*p, 0, sqrt(s2)), S, p)\n",
    "beta <- t( t(E%*%chol(Vb)) + c(Eb))"
   ]
  },
  {
   "cell_type": "code",
   "execution_count": 120,
   "id": "cde6b2c8-fffc-4318-b4eb-8d425c356cff",
   "metadata": {},
   "outputs": [
    {
     "data": {
      "text/html": [
       "<table class=\"dataframe\">\n",
       "<caption>A data.frame: 1000 × 18</caption>\n",
       "<thead>\n",
       "\t<tr><th scope=col>chol</th><th scope=col>stab.glu</th><th scope=col>hdl</th><th scope=col>ratio</th><th scope=col>age</th><th scope=col>height</th><th scope=col>weight</th><th scope=col>bp.1s</th><th scope=col>bp.1d</th><th scope=col>bp.2s</th><th scope=col>bp.2d</th><th scope=col>waist</th><th scope=col>hip</th><th scope=col>time.ppn</th><th scope=col>location_Louisa</th><th scope=col>gender_female</th><th scope=col>frame_medium</th><th scope=col>frame_large</th></tr>\n",
       "\t<tr><th scope=col>&lt;dbl&gt;</th><th scope=col>&lt;dbl&gt;</th><th scope=col>&lt;dbl&gt;</th><th scope=col>&lt;dbl&gt;</th><th scope=col>&lt;dbl&gt;</th><th scope=col>&lt;dbl&gt;</th><th scope=col>&lt;dbl&gt;</th><th scope=col>&lt;dbl&gt;</th><th scope=col>&lt;dbl&gt;</th><th scope=col>&lt;dbl&gt;</th><th scope=col>&lt;dbl&gt;</th><th scope=col>&lt;dbl&gt;</th><th scope=col>&lt;dbl&gt;</th><th scope=col>&lt;dbl&gt;</th><th scope=col>&lt;dbl&gt;</th><th scope=col>&lt;dbl&gt;</th><th scope=col>&lt;dbl&gt;</th><th scope=col>&lt;dbl&gt;</th></tr>\n",
       "</thead>\n",
       "<tbody>\n",
       "\t<tr><td> 0.034046612</td><td>0.1507960</td><td>-0.090358426</td><td>-3.581079e-02</td><td> 0.049819008</td><td>0.4061343</td><td>-0.007213222</td><td> 0.040726296</td><td> 0.0383123211</td><td>-0.0004896397</td><td>-0.084231821</td><td>-0.001728194</td><td>-0.2870556</td><td> 0.009757063</td><td>0.3017304</td><td>1.2709824</td><td>0.7458624</td><td>1.0977115</td></tr>\n",
       "\t<tr><td> 0.027031714</td><td>0.2066008</td><td>-0.011221389</td><td> 1.035845e-02</td><td> 0.052966161</td><td>0.3684130</td><td>-0.056997042</td><td> 0.024073728</td><td> 0.0163305257</td><td> 0.0014670876</td><td>-0.088564945</td><td>-0.005810022</td><td>-0.2592442</td><td> 0.017350369</td><td>0.4484275</td><td>1.0974365</td><td>0.8431922</td><td>1.1096712</td></tr>\n",
       "\t<tr><td>-0.038969273</td><td>0.1785247</td><td>-0.033273653</td><td> 1.924591e-02</td><td> 0.039514127</td><td>0.3393064</td><td> 0.008821147</td><td> 0.010405580</td><td> 0.0592423991</td><td> 0.0041666283</td><td>-0.045112002</td><td>-0.050092096</td><td>-0.2100620</td><td> 0.010073644</td><td>0.4182737</td><td>1.0301032</td><td>0.7704967</td><td>1.2603454</td></tr>\n",
       "\t<tr><td>-0.058046190</td><td>0.1989526</td><td> 0.027048609</td><td> 4.556496e-02</td><td> 0.030117802</td><td>0.2907705</td><td> 0.146312556</td><td> 0.131043656</td><td>-0.0309961219</td><td>-0.1240112144</td><td>-0.022703647</td><td> 0.013295240</td><td>-0.3959503</td><td>-0.029371803</td><td>0.4400574</td><td>1.1911376</td><td>0.7892339</td><td>0.9183884</td></tr>\n",
       "\t<tr><td>-0.022455101</td><td>0.2042227</td><td> 0.033731640</td><td> 4.454378e-02</td><td> 0.082180511</td><td>0.4064073</td><td> 0.005532867</td><td> 0.009725552</td><td> 0.0441411621</td><td> 0.0028839579</td><td>-0.115321850</td><td>-0.027520847</td><td>-0.2327381</td><td> 0.033055609</td><td>0.3937088</td><td>1.1141485</td><td>0.8671113</td><td>1.1065167</td></tr>\n",
       "\t<tr><td> 0.007955317</td><td>0.1833298</td><td>-0.065472209</td><td>-6.209704e-02</td><td> 0.158665166</td><td>0.3212749</td><td> 0.075678895</td><td>-0.080614980</td><td> 0.0561221129</td><td>-0.0302020528</td><td>-0.109341666</td><td>-0.046811685</td><td>-0.3251736</td><td> 0.016316852</td><td>0.3808665</td><td>1.0737163</td><td>0.8870982</td><td>1.1552805</td></tr>\n",
       "\t<tr><td>-0.041167714</td><td>0.1801129</td><td> 0.033988883</td><td> 6.416654e-02</td><td> 0.048705207</td><td>0.3748586</td><td>-0.166578402</td><td> 0.056491078</td><td>-0.0410139506</td><td> 0.0429132134</td><td>-0.024117354</td><td> 0.136797039</td><td>-0.1952808</td><td> 0.082570150</td><td>0.4844933</td><td>1.0463948</td><td>0.7943280</td><td>1.1251141</td></tr>\n",
       "\t<tr><td> 0.073797066</td><td>0.1988246</td><td>-0.076219198</td><td>-9.074593e-02</td><td> 0.023876310</td><td>0.3473483</td><td> 0.036988880</td><td> 0.094631223</td><td>-0.1118546201</td><td> 0.0163476198</td><td>-0.055219701</td><td> 0.027689685</td><td>-0.2972626</td><td> 0.090460171</td><td>0.5796591</td><td>1.0740809</td><td>0.7142036</td><td>1.0199264</td></tr>\n",
       "\t<tr><td>-0.032023776</td><td>0.2019936</td><td> 0.024417679</td><td> 8.760895e-02</td><td> 0.084344674</td><td>0.3426178</td><td> 0.178611726</td><td> 0.069789722</td><td> 0.0407075972</td><td>-0.0190326097</td><td>-0.122692421</td><td>-0.199768349</td><td>-0.2540004</td><td> 0.050197041</td><td>0.3648913</td><td>1.1526923</td><td>0.7089637</td><td>1.1408114</td></tr>\n",
       "\t<tr><td> 0.036043036</td><td>0.1832785</td><td>-0.071377346</td><td> 5.013017e-03</td><td> 0.046027780</td><td>0.3241961</td><td>-0.025415204</td><td> 0.058367949</td><td> 0.0406518951</td><td> 0.0079668039</td><td>-0.085398876</td><td> 0.060510420</td><td>-0.3419414</td><td> 0.035061164</td><td>0.4513394</td><td>1.1875871</td><td>0.6998313</td><td>0.9574787</td></tr>\n",
       "\t<tr><td> 0.067684246</td><td>0.1972084</td><td>-0.040830731</td><td>-7.345047e-02</td><td> 0.076352534</td><td>0.3148843</td><td> 0.055478043</td><td> 0.038439489</td><td>-0.0684554561</td><td>-0.0312952830</td><td> 0.003897287</td><td>-0.012754401</td><td>-0.2906724</td><td> 0.029068156</td><td>0.4617731</td><td>1.0611276</td><td>0.7678485</td><td>1.1783031</td></tr>\n",
       "\t<tr><td>-0.054968003</td><td>0.2083355</td><td> 0.082161714</td><td> 5.668421e-02</td><td>-0.012112021</td><td>0.3225635</td><td> 0.076007542</td><td> 0.119134189</td><td> 0.0005140422</td><td>-0.0901936555</td><td>-0.064195965</td><td> 0.083582677</td><td>-0.3660564</td><td> 0.003414391</td><td>0.5294910</td><td>1.1956937</td><td>0.6066123</td><td>0.9555780</td></tr>\n",
       "\t<tr><td> 0.081477926</td><td>0.2071991</td><td>-0.096706149</td><td>-9.821420e-02</td><td> 0.073514481</td><td>0.3396821</td><td> 0.181969671</td><td> 0.038660178</td><td>-0.0214101607</td><td>-0.0312977819</td><td>-0.014952953</td><td>-0.024898977</td><td>-0.3653513</td><td> 0.032242443</td><td>0.4019910</td><td>1.2123674</td><td>0.6968119</td><td>0.9668529</td></tr>\n",
       "\t<tr><td>-0.105765578</td><td>0.2223369</td><td> 0.117634050</td><td> 1.393521e-01</td><td> 0.122465482</td><td>0.3674193</td><td>-0.027816650</td><td> 0.057308789</td><td> 0.0010438922</td><td>-0.0641261680</td><td>-0.045169458</td><td>-0.039660518</td><td>-0.1858725</td><td> 0.030209259</td><td>0.4436949</td><td>1.1321854</td><td>0.7316841</td><td>1.0753316</td></tr>\n",
       "\t<tr><td> 0.031159114</td><td>0.1193447</td><td>-0.068011744</td><td>-1.937037e-02</td><td> 0.089945622</td><td>0.4000163</td><td>-0.043247002</td><td> 0.028739516</td><td>-0.0116466490</td><td> 0.0006655067</td><td>-0.064366801</td><td> 0.083198431</td><td>-0.3080493</td><td> 0.045657811</td><td>0.3655211</td><td>1.2491587</td><td>0.7684098</td><td>1.1041622</td></tr>\n",
       "\t<tr><td> 0.108451530</td><td>0.1957227</td><td>-0.103893709</td><td>-7.221197e-02</td><td> 0.095068941</td><td>0.3638836</td><td>-0.086568394</td><td> 0.027539667</td><td> 0.0599650615</td><td>-0.0618147275</td><td>-0.038764156</td><td> 0.017996762</td><td>-0.1881260</td><td> 0.013086574</td><td>0.4355188</td><td>1.0748438</td><td>0.7121855</td><td>1.1523517</td></tr>\n",
       "\t<tr><td> 0.050186304</td><td>0.1889379</td><td>-0.016282668</td><td>-4.413834e-02</td><td> 0.055547943</td><td>0.4415021</td><td>-0.033696679</td><td>-0.015458736</td><td> 0.0724041015</td><td> 0.0051144591</td><td>-0.127972833</td><td>-0.027599419</td><td>-0.2376438</td><td>-0.008550826</td><td>0.3741022</td><td>1.2164160</td><td>0.7313916</td><td>1.1694773</td></tr>\n",
       "\t<tr><td> 0.073164577</td><td>0.1590405</td><td>-0.059882076</td><td>-3.756338e-02</td><td> 0.096694944</td><td>0.3370291</td><td> 0.168144927</td><td>-0.063620595</td><td> 0.0908433439</td><td> 0.0526370386</td><td>-0.134220241</td><td>-0.081656186</td><td>-0.2960420</td><td> 0.044490033</td><td>0.5132249</td><td>1.1468485</td><td>0.7048791</td><td>1.0964852</td></tr>\n",
       "\t<tr><td>-0.018822601</td><td>0.1578458</td><td> 0.023860868</td><td> 3.092684e-02</td><td> 0.050561030</td><td>0.3110915</td><td> 0.052368230</td><td> 0.056779441</td><td>-0.0258605065</td><td>-0.0599533334</td><td>-0.097706245</td><td> 0.028383661</td><td>-0.3096277</td><td> 0.018727865</td><td>0.4476212</td><td>1.0197618</td><td>0.7793621</td><td>1.0900452</td></tr>\n",
       "\t<tr><td> 0.033900160</td><td>0.2000644</td><td> 0.022139975</td><td>-6.012925e-05</td><td> 0.026934241</td><td>0.3565361</td><td> 0.074527462</td><td> 0.001466963</td><td> 0.0016219038</td><td> 0.0176431609</td><td>-0.080080073</td><td> 0.006288915</td><td>-0.3334915</td><td>-0.004712007</td><td>0.3951780</td><td>1.1540510</td><td>0.7807279</td><td>1.0535406</td></tr>\n",
       "\t<tr><td> 0.080471221</td><td>0.1733996</td><td>-0.108454342</td><td>-6.656802e-02</td><td> 0.075970663</td><td>0.4041492</td><td> 0.002259055</td><td>-0.112536335</td><td> 0.0869274303</td><td>-0.0073704322</td><td>-0.126884868</td><td>-0.026473929</td><td>-0.2622069</td><td> 0.029723053</td><td>0.3463911</td><td>1.1695977</td><td>0.8519266</td><td>1.1171359</td></tr>\n",
       "\t<tr><td>-0.067999640</td><td>0.1738847</td><td> 0.099272076</td><td> 1.247884e-01</td><td> 0.073105497</td><td>0.3099750</td><td> 0.083884119</td><td> 0.040054763</td><td>-0.0253489907</td><td>-0.0273139944</td><td>-0.029844047</td><td> 0.028055666</td><td>-0.3618106</td><td> 0.008746117</td><td>0.3704365</td><td>1.1958593</td><td>0.7450226</td><td>1.0689790</td></tr>\n",
       "\t<tr><td> 0.079910546</td><td>0.2013083</td><td>-0.067353604</td><td>-3.813381e-02</td><td> 0.094364205</td><td>0.3897605</td><td> 0.097479735</td><td> 0.039997024</td><td>-0.0506535032</td><td> 0.0115997492</td><td>-0.025981195</td><td>-0.061387418</td><td>-0.3097833</td><td> 0.022597871</td><td>0.4506070</td><td>1.2108238</td><td>0.6735386</td><td>0.9976099</td></tr>\n",
       "\t<tr><td>-0.071111547</td><td>0.2201334</td><td> 0.034669766</td><td> 4.522304e-02</td><td> 0.094629316</td><td>0.3651611</td><td> 0.066649901</td><td> 0.066333488</td><td>-0.0193210328</td><td>-0.0320159330</td><td>-0.036809976</td><td>-0.027252445</td><td>-0.2439422</td><td> 0.055229671</td><td>0.4444266</td><td>1.0499794</td><td>0.8240316</td><td>1.0253476</td></tr>\n",
       "\t<tr><td>-0.015245591</td><td>0.2525292</td><td> 0.009908657</td><td> 2.628040e-02</td><td> 0.007235002</td><td>0.3112383</td><td>-0.115944469</td><td>-0.035779405</td><td> 0.0027548793</td><td> 0.0143833453</td><td>-0.047154391</td><td>-0.028984257</td><td>-0.1240904</td><td> 0.090531051</td><td>0.5431665</td><td>0.9269913</td><td>0.8202986</td><td>1.2804746</td></tr>\n",
       "\t<tr><td> 0.174623524</td><td>0.2099271</td><td>-0.184454562</td><td>-1.886557e-01</td><td> 0.036491920</td><td>0.4047434</td><td> 0.079621855</td><td> 0.014006032</td><td> 0.0268854965</td><td> 0.0277666677</td><td>-0.039315126</td><td>-0.034484031</td><td>-0.3225755</td><td>-0.046624852</td><td>0.3130437</td><td>1.2013174</td><td>0.8279702</td><td>0.9994323</td></tr>\n",
       "\t<tr><td> 0.045672854</td><td>0.2446748</td><td>-0.018361767</td><td> 8.519314e-03</td><td> 0.020751989</td><td>0.3260969</td><td> 0.033647462</td><td> 0.103336483</td><td>-0.0513801228</td><td>-0.0007637138</td><td>-0.071372178</td><td>-0.003275115</td><td>-0.2419800</td><td> 0.060195777</td><td>0.3105620</td><td>1.2094672</td><td>0.7434290</td><td>1.1647391</td></tr>\n",
       "\t<tr><td> 0.010583413</td><td>0.2263718</td><td> 0.007068343</td><td> 1.352185e-02</td><td> 0.066394704</td><td>0.3452411</td><td> 0.214183470</td><td> 0.064244116</td><td>-0.0292840525</td><td>-0.0380932872</td><td>-0.011242763</td><td>-0.110156976</td><td>-0.3567108</td><td> 0.055992449</td><td>0.4818168</td><td>1.2502991</td><td>0.6448129</td><td>0.9846803</td></tr>\n",
       "\t<tr><td> 0.080643537</td><td>0.1958822</td><td>-0.163154446</td><td>-1.497937e-01</td><td> 0.011396242</td><td>0.3700210</td><td> 0.197481137</td><td> 0.060994159</td><td>-0.0613926287</td><td>-0.0720593797</td><td>-0.081896364</td><td>-0.087360306</td><td>-0.3822653</td><td> 0.076334044</td><td>0.4906966</td><td>1.2238806</td><td>0.6635496</td><td>1.1378038</td></tr>\n",
       "\t<tr><td> 0.001166092</td><td>0.1917853</td><td> 0.070580586</td><td> 8.963248e-02</td><td> 0.075970511</td><td>0.4357424</td><td>-0.111785071</td><td> 0.060353579</td><td> 0.0405694134</td><td>-0.0619738346</td><td>-0.028775464</td><td> 0.066150776</td><td>-0.1611567</td><td> 0.057049706</td><td>0.4196507</td><td>1.1087750</td><td>0.7122583</td><td>1.1406182</td></tr>\n",
       "\t<tr><td>⋮</td><td>⋮</td><td>⋮</td><td>⋮</td><td>⋮</td><td>⋮</td><td>⋮</td><td>⋮</td><td>⋮</td><td>⋮</td><td>⋮</td><td>⋮</td><td>⋮</td><td>⋮</td><td>⋮</td><td>⋮</td><td>⋮</td><td>⋮</td></tr>\n",
       "\t<tr><td> 0.0476653608</td><td>0.2092133</td><td> 0.002364572</td><td> 0.094974252</td><td>0.028725105</td><td>0.3720873</td><td> 0.03356366</td><td> 0.047923363</td><td>-0.029133092</td><td> 0.0346212766</td><td>-0.046943460</td><td>-0.122831968</td><td>-0.2829561</td><td> 0.012981834</td><td>0.3422736</td><td>1.2255218</td><td>0.7384471</td><td>1.1683208</td></tr>\n",
       "\t<tr><td> 0.0160163073</td><td>0.2155265</td><td>-0.010358810</td><td>-0.019801604</td><td>0.064633691</td><td>0.3292200</td><td> 0.11309743</td><td>-0.013267024</td><td> 0.012140601</td><td>-0.0111921375</td><td>-0.034949153</td><td>-0.072929944</td><td>-0.2712186</td><td>-0.025367511</td><td>0.3491345</td><td>1.1025302</td><td>0.8140786</td><td>1.1132181</td></tr>\n",
       "\t<tr><td>-0.1013622838</td><td>0.2073767</td><td> 0.140351328</td><td> 0.134739240</td><td>0.055406103</td><td>0.3377178</td><td>-0.16118319</td><td> 0.026496016</td><td> 0.038248910</td><td>-0.0858635099</td><td>-0.083284042</td><td> 0.124636323</td><td>-0.2425145</td><td> 0.006829477</td><td>0.4267659</td><td>1.1669893</td><td>0.7159022</td><td>1.1511326</td></tr>\n",
       "\t<tr><td>-0.0005121072</td><td>0.1329775</td><td> 0.026616342</td><td> 0.071969252</td><td>0.114687682</td><td>0.3596589</td><td> 0.09157943</td><td>-0.081511736</td><td> 0.066268321</td><td> 0.0278022697</td><td>-0.061623610</td><td> 0.033123123</td><td>-0.3505068</td><td> 0.044757484</td><td>0.4444049</td><td>1.1758068</td><td>0.7133120</td><td>1.0733344</td></tr>\n",
       "\t<tr><td> 0.0671088259</td><td>0.1648172</td><td>-0.101988620</td><td>-0.035254571</td><td>0.117102610</td><td>0.3666751</td><td> 0.13329211</td><td>-0.052480143</td><td> 0.027853056</td><td> 0.0278465188</td><td>-0.061170558</td><td>-0.050093609</td><td>-0.3606935</td><td> 0.019000759</td><td>0.2837082</td><td>1.2124085</td><td>0.7694181</td><td>1.1789014</td></tr>\n",
       "\t<tr><td> 0.0646701430</td><td>0.1725127</td><td>-0.128012442</td><td>-0.084869064</td><td>0.042073417</td><td>0.3245271</td><td> 0.01256747</td><td> 0.094891507</td><td>-0.013414909</td><td>-0.0632107129</td><td>-0.028772020</td><td>-0.003276924</td><td>-0.2701097</td><td> 0.011714427</td><td>0.3787775</td><td>1.1237929</td><td>0.8118199</td><td>1.0056509</td></tr>\n",
       "\t<tr><td> 0.0435455266</td><td>0.2058274</td><td>-0.044493104</td><td>-0.028255879</td><td>0.123903780</td><td>0.4118177</td><td> 0.07140126</td><td>-0.140998220</td><td> 0.121496650</td><td>-0.0294616139</td><td>-0.063563717</td><td> 0.031773288</td><td>-0.3468155</td><td> 0.042078966</td><td>0.4751472</td><td>1.1518387</td><td>0.7181720</td><td>0.9895925</td></tr>\n",
       "\t<tr><td> 0.0993583925</td><td>0.1357508</td><td>-0.004272650</td><td>-0.021595272</td><td>0.088418139</td><td>0.3242896</td><td> 0.19445678</td><td> 0.049577733</td><td>-0.044477969</td><td>-0.0369425559</td><td>-0.013392975</td><td> 0.002335332</td><td>-0.4265212</td><td> 0.085663162</td><td>0.4017152</td><td>1.2212618</td><td>0.7966368</td><td>1.0345008</td></tr>\n",
       "\t<tr><td>-0.0987456575</td><td>0.1594834</td><td> 0.128339491</td><td> 0.197511672</td><td>0.045034162</td><td>0.3259005</td><td> 0.13163070</td><td> 0.048342310</td><td> 0.042552497</td><td>-0.0609777619</td><td>-0.093093213</td><td> 0.001885724</td><td>-0.3398718</td><td> 0.016657518</td><td>0.4436999</td><td>1.0811894</td><td>0.7873706</td><td>1.0051701</td></tr>\n",
       "\t<tr><td>-0.0524963770</td><td>0.2047834</td><td> 0.072362284</td><td> 0.077557977</td><td>0.005417052</td><td>0.2997004</td><td>-0.07834241</td><td>-0.033832881</td><td> 0.018022121</td><td>-0.0383666732</td><td> 0.002364761</td><td> 0.036669158</td><td>-0.1834254</td><td> 0.034436188</td><td>0.4243084</td><td>0.9635960</td><td>0.7881792</td><td>1.2217511</td></tr>\n",
       "\t<tr><td> 0.0152004299</td><td>0.2144349</td><td> 0.011893938</td><td> 0.007964672</td><td>0.053310911</td><td>0.3007721</td><td>-0.14224130</td><td>-0.045527663</td><td> 0.031323493</td><td> 0.0620168208</td><td>-0.064858156</td><td> 0.095281282</td><td>-0.2210619</td><td> 0.101723819</td><td>0.5511273</td><td>0.9635364</td><td>0.8395990</td><td>1.0735837</td></tr>\n",
       "\t<tr><td> 0.0256527246</td><td>0.1932479</td><td> 0.031114044</td><td> 0.066588199</td><td>0.114436953</td><td>0.3402820</td><td> 0.07508156</td><td>-0.006891298</td><td> 0.016604922</td><td>-0.0094584298</td><td>-0.029317144</td><td> 0.077574703</td><td>-0.4222003</td><td> 0.030501972</td><td>0.3365589</td><td>1.1853394</td><td>0.8131575</td><td>1.0550091</td></tr>\n",
       "\t<tr><td>-0.0187591287</td><td>0.2419800</td><td> 0.095199042</td><td> 0.122802394</td><td>0.031811369</td><td>0.3468766</td><td> 0.04914830</td><td> 0.008545886</td><td> 0.045197784</td><td> 0.0589145321</td><td>-0.071833632</td><td>-0.083939622</td><td>-0.2471314</td><td> 0.002797050</td><td>0.3938365</td><td>1.1363510</td><td>0.7693308</td><td>1.0394989</td></tr>\n",
       "\t<tr><td> 0.0849289221</td><td>0.1112449</td><td>-0.042440371</td><td>-0.040135812</td><td>0.046511707</td><td>0.2691092</td><td> 0.13855262</td><td> 0.059222390</td><td> 0.044424623</td><td>-0.0271152528</td><td>-0.094694505</td><td> 0.024356748</td><td>-0.4820367</td><td>-0.047340546</td><td>0.4345276</td><td>1.0880019</td><td>0.7291533</td><td>1.0690396</td></tr>\n",
       "\t<tr><td>-0.1111201359</td><td>0.1897318</td><td> 0.162549963</td><td> 0.167311560</td><td>0.064494721</td><td>0.3233744</td><td> 0.10207556</td><td> 0.050420552</td><td> 0.018689487</td><td>-0.0410228620</td><td>-0.069547158</td><td>-0.031271867</td><td>-0.3332828</td><td> 0.004903839</td><td>0.3672587</td><td>1.1157008</td><td>0.7664447</td><td>1.1414576</td></tr>\n",
       "\t<tr><td>-0.0453351744</td><td>0.1806898</td><td> 0.087131118</td><td> 0.149078664</td><td>0.020937673</td><td>0.4066624</td><td>-0.16303475</td><td> 0.126046927</td><td>-0.116753151</td><td>-0.1139726146</td><td> 0.053695068</td><td> 0.045904213</td><td>-0.1342779</td><td> 0.068940665</td><td>0.4632685</td><td>1.0910890</td><td>0.7224740</td><td>1.0666798</td></tr>\n",
       "\t<tr><td> 0.1071824896</td><td>0.1545885</td><td>-0.047070333</td><td>-0.013103284</td><td>0.029052569</td><td>0.3525293</td><td>-0.01470372</td><td>-0.005808238</td><td>-0.014171176</td><td>-0.0147025916</td><td>-0.068166705</td><td>-0.042482531</td><td>-0.1793714</td><td> 0.010767872</td><td>0.3877527</td><td>1.1792966</td><td>0.7210984</td><td>1.2253568</td></tr>\n",
       "\t<tr><td> 0.0693895969</td><td>0.1665665</td><td>-0.018568850</td><td> 0.017406779</td><td>0.033930412</td><td>0.3045838</td><td> 0.11729830</td><td> 0.060138958</td><td>-0.020659719</td><td>-0.0486294912</td><td>-0.047284811</td><td>-0.135089839</td><td>-0.2626317</td><td> 0.006726956</td><td>0.2775961</td><td>1.1777087</td><td>0.8142467</td><td>1.1668012</td></tr>\n",
       "\t<tr><td>-0.0829872012</td><td>0.1907885</td><td> 0.004714421</td><td> 0.039253052</td><td>0.128991088</td><td>0.3652016</td><td>-0.03162603</td><td>-0.025341319</td><td> 0.014400847</td><td>-0.0287215803</td><td>-0.024146419</td><td> 0.091591056</td><td>-0.2961725</td><td> 0.073692806</td><td>0.4455381</td><td>1.0586637</td><td>0.8096918</td><td>1.1252054</td></tr>\n",
       "\t<tr><td> 0.0661192759</td><td>0.2229281</td><td>-0.096650908</td><td>-0.120579180</td><td>0.023501933</td><td>0.2712870</td><td> 0.16783291</td><td>-0.016892129</td><td> 0.018717863</td><td> 0.0038032032</td><td>-0.088288211</td><td>-0.046841014</td><td>-0.3470362</td><td>-0.011721821</td><td>0.4262161</td><td>1.1756612</td><td>0.6701798</td><td>1.0378084</td></tr>\n",
       "\t<tr><td> 0.0398889465</td><td>0.1924265</td><td>-0.049988311</td><td> 0.001972800</td><td>0.021367509</td><td>0.3297950</td><td> 0.05440312</td><td> 0.058154892</td><td>-0.002875159</td><td> 0.0325770214</td><td>-0.015381388</td><td>-0.074928728</td><td>-0.2866495</td><td>-0.016230685</td><td>0.3431133</td><td>1.0683911</td><td>0.8663779</td><td>1.2542408</td></tr>\n",
       "\t<tr><td>-0.0623565277</td><td>0.2031054</td><td> 0.057885901</td><td> 0.089968955</td><td>0.128974772</td><td>0.3276251</td><td> 0.22725877</td><td>-0.071386358</td><td> 0.020536434</td><td> 0.0559061279</td><td>-0.081828133</td><td>-0.148518300</td><td>-0.3000049</td><td> 0.034770846</td><td>0.3232065</td><td>1.1181938</td><td>0.8184959</td><td>1.1491348</td></tr>\n",
       "\t<tr><td> 0.0390484101</td><td>0.1528362</td><td> 0.049538136</td><td> 0.083800734</td><td>0.050918782</td><td>0.2760647</td><td> 0.11132176</td><td> 0.058399625</td><td>-0.043088969</td><td>-0.0434457110</td><td> 0.018769561</td><td>-0.022888900</td><td>-0.3179310</td><td> 0.016733412</td><td>0.4622015</td><td>1.0864859</td><td>0.6820353</td><td>1.1151975</td></tr>\n",
       "\t<tr><td> 0.0723967844</td><td>0.1694429</td><td>-0.052758924</td><td>-0.084441527</td><td>0.069792853</td><td>0.3645664</td><td> 0.03439698</td><td> 0.017920845</td><td> 0.031104583</td><td>-0.0410605695</td><td>-0.055468438</td><td>-0.078312595</td><td>-0.1298527</td><td> 0.046959202</td><td>0.4378534</td><td>1.1878665</td><td>0.6596146</td><td>0.9434259</td></tr>\n",
       "\t<tr><td>-0.0465678679</td><td>0.1815495</td><td> 0.091477492</td><td> 0.164756959</td><td>0.016247077</td><td>0.3656950</td><td> 0.02050732</td><td> 0.072007431</td><td>-0.142820006</td><td> 0.0479399451</td><td>-0.015334073</td><td>-0.090872172</td><td>-0.1902219</td><td>-0.027867646</td><td>0.3882924</td><td>1.1186430</td><td>0.8092295</td><td>1.0520624</td></tr>\n",
       "\t<tr><td> 0.0481559595</td><td>0.1885602</td><td>-0.058718335</td><td>-0.048912870</td><td>0.038374134</td><td>0.3969883</td><td>-0.13403124</td><td>-0.037610793</td><td> 0.047795972</td><td> 0.0568737051</td><td>-0.154745212</td><td>-0.019770620</td><td>-0.1469591</td><td>-0.001529508</td><td>0.4095105</td><td>1.1185567</td><td>0.8299842</td><td>1.1805323</td></tr>\n",
       "\t<tr><td>-0.0562269374</td><td>0.1992053</td><td> 0.060681334</td><td> 0.081060262</td><td>0.013854114</td><td>0.4044084</td><td> 0.01358325</td><td> 0.034862778</td><td>-0.025861137</td><td>-0.0469332743</td><td>-0.077809082</td><td> 0.153229650</td><td>-0.3562097</td><td> 0.054665526</td><td>0.4962294</td><td>1.1868696</td><td>0.7013528</td><td>1.0043176</td></tr>\n",
       "\t<tr><td> 0.0473474189</td><td>0.1781810</td><td>-0.053510363</td><td>-0.025007616</td><td>0.088458646</td><td>0.3398464</td><td> 0.10602859</td><td>-0.038692679</td><td> 0.050102079</td><td> 0.0002329094</td><td>-0.049799039</td><td>-0.130071544</td><td>-0.2598318</td><td>-0.011738218</td><td>0.3058745</td><td>1.1576333</td><td>0.7479483</td><td>1.1560843</td></tr>\n",
       "\t<tr><td>-0.0408108167</td><td>0.2065240</td><td> 0.031625560</td><td> 0.038413725</td><td>0.096633359</td><td>0.3820722</td><td> 0.14925540</td><td> 0.071541689</td><td>-0.044704145</td><td>-0.0713937340</td><td>-0.013812752</td><td>-0.094878338</td><td>-0.3213565</td><td> 0.040504798</td><td>0.4505677</td><td>1.1875552</td><td>0.7171827</td><td>1.1257410</td></tr>\n",
       "\t<tr><td>-0.0054052681</td><td>0.1914330</td><td> 0.077519636</td><td> 0.079784619</td><td>0.045217904</td><td>0.3259475</td><td> 0.16430095</td><td>-0.031487282</td><td> 0.017235363</td><td> 0.0098525135</td><td>-0.145864136</td><td>-0.027000802</td><td>-0.4141683</td><td> 0.009840732</td><td>0.3680900</td><td>1.0322550</td><td>0.8873390</td><td>1.2517532</td></tr>\n",
       "</tbody>\n",
       "</table>\n"
      ],
      "text/latex": [
       "A data.frame: 1000 × 18\n",
       "\\begin{tabular}{llllllllllllllllll}\n",
       " chol & stab.glu & hdl & ratio & age & height & weight & bp.1s & bp.1d & bp.2s & bp.2d & waist & hip & time.ppn & location\\_Louisa & gender\\_female & frame\\_medium & frame\\_large\\\\\n",
       " <dbl> & <dbl> & <dbl> & <dbl> & <dbl> & <dbl> & <dbl> & <dbl> & <dbl> & <dbl> & <dbl> & <dbl> & <dbl> & <dbl> & <dbl> & <dbl> & <dbl> & <dbl>\\\\\n",
       "\\hline\n",
       "\t  0.034046612 & 0.1507960 & -0.090358426 & -3.581079e-02 &  0.049819008 & 0.4061343 & -0.007213222 &  0.040726296 &  0.0383123211 & -0.0004896397 & -0.084231821 & -0.001728194 & -0.2870556 &  0.009757063 & 0.3017304 & 1.2709824 & 0.7458624 & 1.0977115\\\\\n",
       "\t  0.027031714 & 0.2066008 & -0.011221389 &  1.035845e-02 &  0.052966161 & 0.3684130 & -0.056997042 &  0.024073728 &  0.0163305257 &  0.0014670876 & -0.088564945 & -0.005810022 & -0.2592442 &  0.017350369 & 0.4484275 & 1.0974365 & 0.8431922 & 1.1096712\\\\\n",
       "\t -0.038969273 & 0.1785247 & -0.033273653 &  1.924591e-02 &  0.039514127 & 0.3393064 &  0.008821147 &  0.010405580 &  0.0592423991 &  0.0041666283 & -0.045112002 & -0.050092096 & -0.2100620 &  0.010073644 & 0.4182737 & 1.0301032 & 0.7704967 & 1.2603454\\\\\n",
       "\t -0.058046190 & 0.1989526 &  0.027048609 &  4.556496e-02 &  0.030117802 & 0.2907705 &  0.146312556 &  0.131043656 & -0.0309961219 & -0.1240112144 & -0.022703647 &  0.013295240 & -0.3959503 & -0.029371803 & 0.4400574 & 1.1911376 & 0.7892339 & 0.9183884\\\\\n",
       "\t -0.022455101 & 0.2042227 &  0.033731640 &  4.454378e-02 &  0.082180511 & 0.4064073 &  0.005532867 &  0.009725552 &  0.0441411621 &  0.0028839579 & -0.115321850 & -0.027520847 & -0.2327381 &  0.033055609 & 0.3937088 & 1.1141485 & 0.8671113 & 1.1065167\\\\\n",
       "\t  0.007955317 & 0.1833298 & -0.065472209 & -6.209704e-02 &  0.158665166 & 0.3212749 &  0.075678895 & -0.080614980 &  0.0561221129 & -0.0302020528 & -0.109341666 & -0.046811685 & -0.3251736 &  0.016316852 & 0.3808665 & 1.0737163 & 0.8870982 & 1.1552805\\\\\n",
       "\t -0.041167714 & 0.1801129 &  0.033988883 &  6.416654e-02 &  0.048705207 & 0.3748586 & -0.166578402 &  0.056491078 & -0.0410139506 &  0.0429132134 & -0.024117354 &  0.136797039 & -0.1952808 &  0.082570150 & 0.4844933 & 1.0463948 & 0.7943280 & 1.1251141\\\\\n",
       "\t  0.073797066 & 0.1988246 & -0.076219198 & -9.074593e-02 &  0.023876310 & 0.3473483 &  0.036988880 &  0.094631223 & -0.1118546201 &  0.0163476198 & -0.055219701 &  0.027689685 & -0.2972626 &  0.090460171 & 0.5796591 & 1.0740809 & 0.7142036 & 1.0199264\\\\\n",
       "\t -0.032023776 & 0.2019936 &  0.024417679 &  8.760895e-02 &  0.084344674 & 0.3426178 &  0.178611726 &  0.069789722 &  0.0407075972 & -0.0190326097 & -0.122692421 & -0.199768349 & -0.2540004 &  0.050197041 & 0.3648913 & 1.1526923 & 0.7089637 & 1.1408114\\\\\n",
       "\t  0.036043036 & 0.1832785 & -0.071377346 &  5.013017e-03 &  0.046027780 & 0.3241961 & -0.025415204 &  0.058367949 &  0.0406518951 &  0.0079668039 & -0.085398876 &  0.060510420 & -0.3419414 &  0.035061164 & 0.4513394 & 1.1875871 & 0.6998313 & 0.9574787\\\\\n",
       "\t  0.067684246 & 0.1972084 & -0.040830731 & -7.345047e-02 &  0.076352534 & 0.3148843 &  0.055478043 &  0.038439489 & -0.0684554561 & -0.0312952830 &  0.003897287 & -0.012754401 & -0.2906724 &  0.029068156 & 0.4617731 & 1.0611276 & 0.7678485 & 1.1783031\\\\\n",
       "\t -0.054968003 & 0.2083355 &  0.082161714 &  5.668421e-02 & -0.012112021 & 0.3225635 &  0.076007542 &  0.119134189 &  0.0005140422 & -0.0901936555 & -0.064195965 &  0.083582677 & -0.3660564 &  0.003414391 & 0.5294910 & 1.1956937 & 0.6066123 & 0.9555780\\\\\n",
       "\t  0.081477926 & 0.2071991 & -0.096706149 & -9.821420e-02 &  0.073514481 & 0.3396821 &  0.181969671 &  0.038660178 & -0.0214101607 & -0.0312977819 & -0.014952953 & -0.024898977 & -0.3653513 &  0.032242443 & 0.4019910 & 1.2123674 & 0.6968119 & 0.9668529\\\\\n",
       "\t -0.105765578 & 0.2223369 &  0.117634050 &  1.393521e-01 &  0.122465482 & 0.3674193 & -0.027816650 &  0.057308789 &  0.0010438922 & -0.0641261680 & -0.045169458 & -0.039660518 & -0.1858725 &  0.030209259 & 0.4436949 & 1.1321854 & 0.7316841 & 1.0753316\\\\\n",
       "\t  0.031159114 & 0.1193447 & -0.068011744 & -1.937037e-02 &  0.089945622 & 0.4000163 & -0.043247002 &  0.028739516 & -0.0116466490 &  0.0006655067 & -0.064366801 &  0.083198431 & -0.3080493 &  0.045657811 & 0.3655211 & 1.2491587 & 0.7684098 & 1.1041622\\\\\n",
       "\t  0.108451530 & 0.1957227 & -0.103893709 & -7.221197e-02 &  0.095068941 & 0.3638836 & -0.086568394 &  0.027539667 &  0.0599650615 & -0.0618147275 & -0.038764156 &  0.017996762 & -0.1881260 &  0.013086574 & 0.4355188 & 1.0748438 & 0.7121855 & 1.1523517\\\\\n",
       "\t  0.050186304 & 0.1889379 & -0.016282668 & -4.413834e-02 &  0.055547943 & 0.4415021 & -0.033696679 & -0.015458736 &  0.0724041015 &  0.0051144591 & -0.127972833 & -0.027599419 & -0.2376438 & -0.008550826 & 0.3741022 & 1.2164160 & 0.7313916 & 1.1694773\\\\\n",
       "\t  0.073164577 & 0.1590405 & -0.059882076 & -3.756338e-02 &  0.096694944 & 0.3370291 &  0.168144927 & -0.063620595 &  0.0908433439 &  0.0526370386 & -0.134220241 & -0.081656186 & -0.2960420 &  0.044490033 & 0.5132249 & 1.1468485 & 0.7048791 & 1.0964852\\\\\n",
       "\t -0.018822601 & 0.1578458 &  0.023860868 &  3.092684e-02 &  0.050561030 & 0.3110915 &  0.052368230 &  0.056779441 & -0.0258605065 & -0.0599533334 & -0.097706245 &  0.028383661 & -0.3096277 &  0.018727865 & 0.4476212 & 1.0197618 & 0.7793621 & 1.0900452\\\\\n",
       "\t  0.033900160 & 0.2000644 &  0.022139975 & -6.012925e-05 &  0.026934241 & 0.3565361 &  0.074527462 &  0.001466963 &  0.0016219038 &  0.0176431609 & -0.080080073 &  0.006288915 & -0.3334915 & -0.004712007 & 0.3951780 & 1.1540510 & 0.7807279 & 1.0535406\\\\\n",
       "\t  0.080471221 & 0.1733996 & -0.108454342 & -6.656802e-02 &  0.075970663 & 0.4041492 &  0.002259055 & -0.112536335 &  0.0869274303 & -0.0073704322 & -0.126884868 & -0.026473929 & -0.2622069 &  0.029723053 & 0.3463911 & 1.1695977 & 0.8519266 & 1.1171359\\\\\n",
       "\t -0.067999640 & 0.1738847 &  0.099272076 &  1.247884e-01 &  0.073105497 & 0.3099750 &  0.083884119 &  0.040054763 & -0.0253489907 & -0.0273139944 & -0.029844047 &  0.028055666 & -0.3618106 &  0.008746117 & 0.3704365 & 1.1958593 & 0.7450226 & 1.0689790\\\\\n",
       "\t  0.079910546 & 0.2013083 & -0.067353604 & -3.813381e-02 &  0.094364205 & 0.3897605 &  0.097479735 &  0.039997024 & -0.0506535032 &  0.0115997492 & -0.025981195 & -0.061387418 & -0.3097833 &  0.022597871 & 0.4506070 & 1.2108238 & 0.6735386 & 0.9976099\\\\\n",
       "\t -0.071111547 & 0.2201334 &  0.034669766 &  4.522304e-02 &  0.094629316 & 0.3651611 &  0.066649901 &  0.066333488 & -0.0193210328 & -0.0320159330 & -0.036809976 & -0.027252445 & -0.2439422 &  0.055229671 & 0.4444266 & 1.0499794 & 0.8240316 & 1.0253476\\\\\n",
       "\t -0.015245591 & 0.2525292 &  0.009908657 &  2.628040e-02 &  0.007235002 & 0.3112383 & -0.115944469 & -0.035779405 &  0.0027548793 &  0.0143833453 & -0.047154391 & -0.028984257 & -0.1240904 &  0.090531051 & 0.5431665 & 0.9269913 & 0.8202986 & 1.2804746\\\\\n",
       "\t  0.174623524 & 0.2099271 & -0.184454562 & -1.886557e-01 &  0.036491920 & 0.4047434 &  0.079621855 &  0.014006032 &  0.0268854965 &  0.0277666677 & -0.039315126 & -0.034484031 & -0.3225755 & -0.046624852 & 0.3130437 & 1.2013174 & 0.8279702 & 0.9994323\\\\\n",
       "\t  0.045672854 & 0.2446748 & -0.018361767 &  8.519314e-03 &  0.020751989 & 0.3260969 &  0.033647462 &  0.103336483 & -0.0513801228 & -0.0007637138 & -0.071372178 & -0.003275115 & -0.2419800 &  0.060195777 & 0.3105620 & 1.2094672 & 0.7434290 & 1.1647391\\\\\n",
       "\t  0.010583413 & 0.2263718 &  0.007068343 &  1.352185e-02 &  0.066394704 & 0.3452411 &  0.214183470 &  0.064244116 & -0.0292840525 & -0.0380932872 & -0.011242763 & -0.110156976 & -0.3567108 &  0.055992449 & 0.4818168 & 1.2502991 & 0.6448129 & 0.9846803\\\\\n",
       "\t  0.080643537 & 0.1958822 & -0.163154446 & -1.497937e-01 &  0.011396242 & 0.3700210 &  0.197481137 &  0.060994159 & -0.0613926287 & -0.0720593797 & -0.081896364 & -0.087360306 & -0.3822653 &  0.076334044 & 0.4906966 & 1.2238806 & 0.6635496 & 1.1378038\\\\\n",
       "\t  0.001166092 & 0.1917853 &  0.070580586 &  8.963248e-02 &  0.075970511 & 0.4357424 & -0.111785071 &  0.060353579 &  0.0405694134 & -0.0619738346 & -0.028775464 &  0.066150776 & -0.1611567 &  0.057049706 & 0.4196507 & 1.1087750 & 0.7122583 & 1.1406182\\\\\n",
       "\t ⋮ & ⋮ & ⋮ & ⋮ & ⋮ & ⋮ & ⋮ & ⋮ & ⋮ & ⋮ & ⋮ & ⋮ & ⋮ & ⋮ & ⋮ & ⋮ & ⋮ & ⋮\\\\\n",
       "\t  0.0476653608 & 0.2092133 &  0.002364572 &  0.094974252 & 0.028725105 & 0.3720873 &  0.03356366 &  0.047923363 & -0.029133092 &  0.0346212766 & -0.046943460 & -0.122831968 & -0.2829561 &  0.012981834 & 0.3422736 & 1.2255218 & 0.7384471 & 1.1683208\\\\\n",
       "\t  0.0160163073 & 0.2155265 & -0.010358810 & -0.019801604 & 0.064633691 & 0.3292200 &  0.11309743 & -0.013267024 &  0.012140601 & -0.0111921375 & -0.034949153 & -0.072929944 & -0.2712186 & -0.025367511 & 0.3491345 & 1.1025302 & 0.8140786 & 1.1132181\\\\\n",
       "\t -0.1013622838 & 0.2073767 &  0.140351328 &  0.134739240 & 0.055406103 & 0.3377178 & -0.16118319 &  0.026496016 &  0.038248910 & -0.0858635099 & -0.083284042 &  0.124636323 & -0.2425145 &  0.006829477 & 0.4267659 & 1.1669893 & 0.7159022 & 1.1511326\\\\\n",
       "\t -0.0005121072 & 0.1329775 &  0.026616342 &  0.071969252 & 0.114687682 & 0.3596589 &  0.09157943 & -0.081511736 &  0.066268321 &  0.0278022697 & -0.061623610 &  0.033123123 & -0.3505068 &  0.044757484 & 0.4444049 & 1.1758068 & 0.7133120 & 1.0733344\\\\\n",
       "\t  0.0671088259 & 0.1648172 & -0.101988620 & -0.035254571 & 0.117102610 & 0.3666751 &  0.13329211 & -0.052480143 &  0.027853056 &  0.0278465188 & -0.061170558 & -0.050093609 & -0.3606935 &  0.019000759 & 0.2837082 & 1.2124085 & 0.7694181 & 1.1789014\\\\\n",
       "\t  0.0646701430 & 0.1725127 & -0.128012442 & -0.084869064 & 0.042073417 & 0.3245271 &  0.01256747 &  0.094891507 & -0.013414909 & -0.0632107129 & -0.028772020 & -0.003276924 & -0.2701097 &  0.011714427 & 0.3787775 & 1.1237929 & 0.8118199 & 1.0056509\\\\\n",
       "\t  0.0435455266 & 0.2058274 & -0.044493104 & -0.028255879 & 0.123903780 & 0.4118177 &  0.07140126 & -0.140998220 &  0.121496650 & -0.0294616139 & -0.063563717 &  0.031773288 & -0.3468155 &  0.042078966 & 0.4751472 & 1.1518387 & 0.7181720 & 0.9895925\\\\\n",
       "\t  0.0993583925 & 0.1357508 & -0.004272650 & -0.021595272 & 0.088418139 & 0.3242896 &  0.19445678 &  0.049577733 & -0.044477969 & -0.0369425559 & -0.013392975 &  0.002335332 & -0.4265212 &  0.085663162 & 0.4017152 & 1.2212618 & 0.7966368 & 1.0345008\\\\\n",
       "\t -0.0987456575 & 0.1594834 &  0.128339491 &  0.197511672 & 0.045034162 & 0.3259005 &  0.13163070 &  0.048342310 &  0.042552497 & -0.0609777619 & -0.093093213 &  0.001885724 & -0.3398718 &  0.016657518 & 0.4436999 & 1.0811894 & 0.7873706 & 1.0051701\\\\\n",
       "\t -0.0524963770 & 0.2047834 &  0.072362284 &  0.077557977 & 0.005417052 & 0.2997004 & -0.07834241 & -0.033832881 &  0.018022121 & -0.0383666732 &  0.002364761 &  0.036669158 & -0.1834254 &  0.034436188 & 0.4243084 & 0.9635960 & 0.7881792 & 1.2217511\\\\\n",
       "\t  0.0152004299 & 0.2144349 &  0.011893938 &  0.007964672 & 0.053310911 & 0.3007721 & -0.14224130 & -0.045527663 &  0.031323493 &  0.0620168208 & -0.064858156 &  0.095281282 & -0.2210619 &  0.101723819 & 0.5511273 & 0.9635364 & 0.8395990 & 1.0735837\\\\\n",
       "\t  0.0256527246 & 0.1932479 &  0.031114044 &  0.066588199 & 0.114436953 & 0.3402820 &  0.07508156 & -0.006891298 &  0.016604922 & -0.0094584298 & -0.029317144 &  0.077574703 & -0.4222003 &  0.030501972 & 0.3365589 & 1.1853394 & 0.8131575 & 1.0550091\\\\\n",
       "\t -0.0187591287 & 0.2419800 &  0.095199042 &  0.122802394 & 0.031811369 & 0.3468766 &  0.04914830 &  0.008545886 &  0.045197784 &  0.0589145321 & -0.071833632 & -0.083939622 & -0.2471314 &  0.002797050 & 0.3938365 & 1.1363510 & 0.7693308 & 1.0394989\\\\\n",
       "\t  0.0849289221 & 0.1112449 & -0.042440371 & -0.040135812 & 0.046511707 & 0.2691092 &  0.13855262 &  0.059222390 &  0.044424623 & -0.0271152528 & -0.094694505 &  0.024356748 & -0.4820367 & -0.047340546 & 0.4345276 & 1.0880019 & 0.7291533 & 1.0690396\\\\\n",
       "\t -0.1111201359 & 0.1897318 &  0.162549963 &  0.167311560 & 0.064494721 & 0.3233744 &  0.10207556 &  0.050420552 &  0.018689487 & -0.0410228620 & -0.069547158 & -0.031271867 & -0.3332828 &  0.004903839 & 0.3672587 & 1.1157008 & 0.7664447 & 1.1414576\\\\\n",
       "\t -0.0453351744 & 0.1806898 &  0.087131118 &  0.149078664 & 0.020937673 & 0.4066624 & -0.16303475 &  0.126046927 & -0.116753151 & -0.1139726146 &  0.053695068 &  0.045904213 & -0.1342779 &  0.068940665 & 0.4632685 & 1.0910890 & 0.7224740 & 1.0666798\\\\\n",
       "\t  0.1071824896 & 0.1545885 & -0.047070333 & -0.013103284 & 0.029052569 & 0.3525293 & -0.01470372 & -0.005808238 & -0.014171176 & -0.0147025916 & -0.068166705 & -0.042482531 & -0.1793714 &  0.010767872 & 0.3877527 & 1.1792966 & 0.7210984 & 1.2253568\\\\\n",
       "\t  0.0693895969 & 0.1665665 & -0.018568850 &  0.017406779 & 0.033930412 & 0.3045838 &  0.11729830 &  0.060138958 & -0.020659719 & -0.0486294912 & -0.047284811 & -0.135089839 & -0.2626317 &  0.006726956 & 0.2775961 & 1.1777087 & 0.8142467 & 1.1668012\\\\\n",
       "\t -0.0829872012 & 0.1907885 &  0.004714421 &  0.039253052 & 0.128991088 & 0.3652016 & -0.03162603 & -0.025341319 &  0.014400847 & -0.0287215803 & -0.024146419 &  0.091591056 & -0.2961725 &  0.073692806 & 0.4455381 & 1.0586637 & 0.8096918 & 1.1252054\\\\\n",
       "\t  0.0661192759 & 0.2229281 & -0.096650908 & -0.120579180 & 0.023501933 & 0.2712870 &  0.16783291 & -0.016892129 &  0.018717863 &  0.0038032032 & -0.088288211 & -0.046841014 & -0.3470362 & -0.011721821 & 0.4262161 & 1.1756612 & 0.6701798 & 1.0378084\\\\\n",
       "\t  0.0398889465 & 0.1924265 & -0.049988311 &  0.001972800 & 0.021367509 & 0.3297950 &  0.05440312 &  0.058154892 & -0.002875159 &  0.0325770214 & -0.015381388 & -0.074928728 & -0.2866495 & -0.016230685 & 0.3431133 & 1.0683911 & 0.8663779 & 1.2542408\\\\\n",
       "\t -0.0623565277 & 0.2031054 &  0.057885901 &  0.089968955 & 0.128974772 & 0.3276251 &  0.22725877 & -0.071386358 &  0.020536434 &  0.0559061279 & -0.081828133 & -0.148518300 & -0.3000049 &  0.034770846 & 0.3232065 & 1.1181938 & 0.8184959 & 1.1491348\\\\\n",
       "\t  0.0390484101 & 0.1528362 &  0.049538136 &  0.083800734 & 0.050918782 & 0.2760647 &  0.11132176 &  0.058399625 & -0.043088969 & -0.0434457110 &  0.018769561 & -0.022888900 & -0.3179310 &  0.016733412 & 0.4622015 & 1.0864859 & 0.6820353 & 1.1151975\\\\\n",
       "\t  0.0723967844 & 0.1694429 & -0.052758924 & -0.084441527 & 0.069792853 & 0.3645664 &  0.03439698 &  0.017920845 &  0.031104583 & -0.0410605695 & -0.055468438 & -0.078312595 & -0.1298527 &  0.046959202 & 0.4378534 & 1.1878665 & 0.6596146 & 0.9434259\\\\\n",
       "\t -0.0465678679 & 0.1815495 &  0.091477492 &  0.164756959 & 0.016247077 & 0.3656950 &  0.02050732 &  0.072007431 & -0.142820006 &  0.0479399451 & -0.015334073 & -0.090872172 & -0.1902219 & -0.027867646 & 0.3882924 & 1.1186430 & 0.8092295 & 1.0520624\\\\\n",
       "\t  0.0481559595 & 0.1885602 & -0.058718335 & -0.048912870 & 0.038374134 & 0.3969883 & -0.13403124 & -0.037610793 &  0.047795972 &  0.0568737051 & -0.154745212 & -0.019770620 & -0.1469591 & -0.001529508 & 0.4095105 & 1.1185567 & 0.8299842 & 1.1805323\\\\\n",
       "\t -0.0562269374 & 0.1992053 &  0.060681334 &  0.081060262 & 0.013854114 & 0.4044084 &  0.01358325 &  0.034862778 & -0.025861137 & -0.0469332743 & -0.077809082 &  0.153229650 & -0.3562097 &  0.054665526 & 0.4962294 & 1.1868696 & 0.7013528 & 1.0043176\\\\\n",
       "\t  0.0473474189 & 0.1781810 & -0.053510363 & -0.025007616 & 0.088458646 & 0.3398464 &  0.10602859 & -0.038692679 &  0.050102079 &  0.0002329094 & -0.049799039 & -0.130071544 & -0.2598318 & -0.011738218 & 0.3058745 & 1.1576333 & 0.7479483 & 1.1560843\\\\\n",
       "\t -0.0408108167 & 0.2065240 &  0.031625560 &  0.038413725 & 0.096633359 & 0.3820722 &  0.14925540 &  0.071541689 & -0.044704145 & -0.0713937340 & -0.013812752 & -0.094878338 & -0.3213565 &  0.040504798 & 0.4505677 & 1.1875552 & 0.7171827 & 1.1257410\\\\\n",
       "\t -0.0054052681 & 0.1914330 &  0.077519636 &  0.079784619 & 0.045217904 & 0.3259475 &  0.16430095 & -0.031487282 &  0.017235363 &  0.0098525135 & -0.145864136 & -0.027000802 & -0.4141683 &  0.009840732 & 0.3680900 & 1.0322550 & 0.8873390 & 1.2517532\\\\\n",
       "\\end{tabular}\n"
      ],
      "text/markdown": [
       "\n",
       "A data.frame: 1000 × 18\n",
       "\n",
       "| chol &lt;dbl&gt; | stab.glu &lt;dbl&gt; | hdl &lt;dbl&gt; | ratio &lt;dbl&gt; | age &lt;dbl&gt; | height &lt;dbl&gt; | weight &lt;dbl&gt; | bp.1s &lt;dbl&gt; | bp.1d &lt;dbl&gt; | bp.2s &lt;dbl&gt; | bp.2d &lt;dbl&gt; | waist &lt;dbl&gt; | hip &lt;dbl&gt; | time.ppn &lt;dbl&gt; | location_Louisa &lt;dbl&gt; | gender_female &lt;dbl&gt; | frame_medium &lt;dbl&gt; | frame_large &lt;dbl&gt; |\n",
       "|---|---|---|---|---|---|---|---|---|---|---|---|---|---|---|---|---|---|\n",
       "|  0.034046612 | 0.1507960 | -0.090358426 | -3.581079e-02 |  0.049819008 | 0.4061343 | -0.007213222 |  0.040726296 |  0.0383123211 | -0.0004896397 | -0.084231821 | -0.001728194 | -0.2870556 |  0.009757063 | 0.3017304 | 1.2709824 | 0.7458624 | 1.0977115 |\n",
       "|  0.027031714 | 0.2066008 | -0.011221389 |  1.035845e-02 |  0.052966161 | 0.3684130 | -0.056997042 |  0.024073728 |  0.0163305257 |  0.0014670876 | -0.088564945 | -0.005810022 | -0.2592442 |  0.017350369 | 0.4484275 | 1.0974365 | 0.8431922 | 1.1096712 |\n",
       "| -0.038969273 | 0.1785247 | -0.033273653 |  1.924591e-02 |  0.039514127 | 0.3393064 |  0.008821147 |  0.010405580 |  0.0592423991 |  0.0041666283 | -0.045112002 | -0.050092096 | -0.2100620 |  0.010073644 | 0.4182737 | 1.0301032 | 0.7704967 | 1.2603454 |\n",
       "| -0.058046190 | 0.1989526 |  0.027048609 |  4.556496e-02 |  0.030117802 | 0.2907705 |  0.146312556 |  0.131043656 | -0.0309961219 | -0.1240112144 | -0.022703647 |  0.013295240 | -0.3959503 | -0.029371803 | 0.4400574 | 1.1911376 | 0.7892339 | 0.9183884 |\n",
       "| -0.022455101 | 0.2042227 |  0.033731640 |  4.454378e-02 |  0.082180511 | 0.4064073 |  0.005532867 |  0.009725552 |  0.0441411621 |  0.0028839579 | -0.115321850 | -0.027520847 | -0.2327381 |  0.033055609 | 0.3937088 | 1.1141485 | 0.8671113 | 1.1065167 |\n",
       "|  0.007955317 | 0.1833298 | -0.065472209 | -6.209704e-02 |  0.158665166 | 0.3212749 |  0.075678895 | -0.080614980 |  0.0561221129 | -0.0302020528 | -0.109341666 | -0.046811685 | -0.3251736 |  0.016316852 | 0.3808665 | 1.0737163 | 0.8870982 | 1.1552805 |\n",
       "| -0.041167714 | 0.1801129 |  0.033988883 |  6.416654e-02 |  0.048705207 | 0.3748586 | -0.166578402 |  0.056491078 | -0.0410139506 |  0.0429132134 | -0.024117354 |  0.136797039 | -0.1952808 |  0.082570150 | 0.4844933 | 1.0463948 | 0.7943280 | 1.1251141 |\n",
       "|  0.073797066 | 0.1988246 | -0.076219198 | -9.074593e-02 |  0.023876310 | 0.3473483 |  0.036988880 |  0.094631223 | -0.1118546201 |  0.0163476198 | -0.055219701 |  0.027689685 | -0.2972626 |  0.090460171 | 0.5796591 | 1.0740809 | 0.7142036 | 1.0199264 |\n",
       "| -0.032023776 | 0.2019936 |  0.024417679 |  8.760895e-02 |  0.084344674 | 0.3426178 |  0.178611726 |  0.069789722 |  0.0407075972 | -0.0190326097 | -0.122692421 | -0.199768349 | -0.2540004 |  0.050197041 | 0.3648913 | 1.1526923 | 0.7089637 | 1.1408114 |\n",
       "|  0.036043036 | 0.1832785 | -0.071377346 |  5.013017e-03 |  0.046027780 | 0.3241961 | -0.025415204 |  0.058367949 |  0.0406518951 |  0.0079668039 | -0.085398876 |  0.060510420 | -0.3419414 |  0.035061164 | 0.4513394 | 1.1875871 | 0.6998313 | 0.9574787 |\n",
       "|  0.067684246 | 0.1972084 | -0.040830731 | -7.345047e-02 |  0.076352534 | 0.3148843 |  0.055478043 |  0.038439489 | -0.0684554561 | -0.0312952830 |  0.003897287 | -0.012754401 | -0.2906724 |  0.029068156 | 0.4617731 | 1.0611276 | 0.7678485 | 1.1783031 |\n",
       "| -0.054968003 | 0.2083355 |  0.082161714 |  5.668421e-02 | -0.012112021 | 0.3225635 |  0.076007542 |  0.119134189 |  0.0005140422 | -0.0901936555 | -0.064195965 |  0.083582677 | -0.3660564 |  0.003414391 | 0.5294910 | 1.1956937 | 0.6066123 | 0.9555780 |\n",
       "|  0.081477926 | 0.2071991 | -0.096706149 | -9.821420e-02 |  0.073514481 | 0.3396821 |  0.181969671 |  0.038660178 | -0.0214101607 | -0.0312977819 | -0.014952953 | -0.024898977 | -0.3653513 |  0.032242443 | 0.4019910 | 1.2123674 | 0.6968119 | 0.9668529 |\n",
       "| -0.105765578 | 0.2223369 |  0.117634050 |  1.393521e-01 |  0.122465482 | 0.3674193 | -0.027816650 |  0.057308789 |  0.0010438922 | -0.0641261680 | -0.045169458 | -0.039660518 | -0.1858725 |  0.030209259 | 0.4436949 | 1.1321854 | 0.7316841 | 1.0753316 |\n",
       "|  0.031159114 | 0.1193447 | -0.068011744 | -1.937037e-02 |  0.089945622 | 0.4000163 | -0.043247002 |  0.028739516 | -0.0116466490 |  0.0006655067 | -0.064366801 |  0.083198431 | -0.3080493 |  0.045657811 | 0.3655211 | 1.2491587 | 0.7684098 | 1.1041622 |\n",
       "|  0.108451530 | 0.1957227 | -0.103893709 | -7.221197e-02 |  0.095068941 | 0.3638836 | -0.086568394 |  0.027539667 |  0.0599650615 | -0.0618147275 | -0.038764156 |  0.017996762 | -0.1881260 |  0.013086574 | 0.4355188 | 1.0748438 | 0.7121855 | 1.1523517 |\n",
       "|  0.050186304 | 0.1889379 | -0.016282668 | -4.413834e-02 |  0.055547943 | 0.4415021 | -0.033696679 | -0.015458736 |  0.0724041015 |  0.0051144591 | -0.127972833 | -0.027599419 | -0.2376438 | -0.008550826 | 0.3741022 | 1.2164160 | 0.7313916 | 1.1694773 |\n",
       "|  0.073164577 | 0.1590405 | -0.059882076 | -3.756338e-02 |  0.096694944 | 0.3370291 |  0.168144927 | -0.063620595 |  0.0908433439 |  0.0526370386 | -0.134220241 | -0.081656186 | -0.2960420 |  0.044490033 | 0.5132249 | 1.1468485 | 0.7048791 | 1.0964852 |\n",
       "| -0.018822601 | 0.1578458 |  0.023860868 |  3.092684e-02 |  0.050561030 | 0.3110915 |  0.052368230 |  0.056779441 | -0.0258605065 | -0.0599533334 | -0.097706245 |  0.028383661 | -0.3096277 |  0.018727865 | 0.4476212 | 1.0197618 | 0.7793621 | 1.0900452 |\n",
       "|  0.033900160 | 0.2000644 |  0.022139975 | -6.012925e-05 |  0.026934241 | 0.3565361 |  0.074527462 |  0.001466963 |  0.0016219038 |  0.0176431609 | -0.080080073 |  0.006288915 | -0.3334915 | -0.004712007 | 0.3951780 | 1.1540510 | 0.7807279 | 1.0535406 |\n",
       "|  0.080471221 | 0.1733996 | -0.108454342 | -6.656802e-02 |  0.075970663 | 0.4041492 |  0.002259055 | -0.112536335 |  0.0869274303 | -0.0073704322 | -0.126884868 | -0.026473929 | -0.2622069 |  0.029723053 | 0.3463911 | 1.1695977 | 0.8519266 | 1.1171359 |\n",
       "| -0.067999640 | 0.1738847 |  0.099272076 |  1.247884e-01 |  0.073105497 | 0.3099750 |  0.083884119 |  0.040054763 | -0.0253489907 | -0.0273139944 | -0.029844047 |  0.028055666 | -0.3618106 |  0.008746117 | 0.3704365 | 1.1958593 | 0.7450226 | 1.0689790 |\n",
       "|  0.079910546 | 0.2013083 | -0.067353604 | -3.813381e-02 |  0.094364205 | 0.3897605 |  0.097479735 |  0.039997024 | -0.0506535032 |  0.0115997492 | -0.025981195 | -0.061387418 | -0.3097833 |  0.022597871 | 0.4506070 | 1.2108238 | 0.6735386 | 0.9976099 |\n",
       "| -0.071111547 | 0.2201334 |  0.034669766 |  4.522304e-02 |  0.094629316 | 0.3651611 |  0.066649901 |  0.066333488 | -0.0193210328 | -0.0320159330 | -0.036809976 | -0.027252445 | -0.2439422 |  0.055229671 | 0.4444266 | 1.0499794 | 0.8240316 | 1.0253476 |\n",
       "| -0.015245591 | 0.2525292 |  0.009908657 |  2.628040e-02 |  0.007235002 | 0.3112383 | -0.115944469 | -0.035779405 |  0.0027548793 |  0.0143833453 | -0.047154391 | -0.028984257 | -0.1240904 |  0.090531051 | 0.5431665 | 0.9269913 | 0.8202986 | 1.2804746 |\n",
       "|  0.174623524 | 0.2099271 | -0.184454562 | -1.886557e-01 |  0.036491920 | 0.4047434 |  0.079621855 |  0.014006032 |  0.0268854965 |  0.0277666677 | -0.039315126 | -0.034484031 | -0.3225755 | -0.046624852 | 0.3130437 | 1.2013174 | 0.8279702 | 0.9994323 |\n",
       "|  0.045672854 | 0.2446748 | -0.018361767 |  8.519314e-03 |  0.020751989 | 0.3260969 |  0.033647462 |  0.103336483 | -0.0513801228 | -0.0007637138 | -0.071372178 | -0.003275115 | -0.2419800 |  0.060195777 | 0.3105620 | 1.2094672 | 0.7434290 | 1.1647391 |\n",
       "|  0.010583413 | 0.2263718 |  0.007068343 |  1.352185e-02 |  0.066394704 | 0.3452411 |  0.214183470 |  0.064244116 | -0.0292840525 | -0.0380932872 | -0.011242763 | -0.110156976 | -0.3567108 |  0.055992449 | 0.4818168 | 1.2502991 | 0.6448129 | 0.9846803 |\n",
       "|  0.080643537 | 0.1958822 | -0.163154446 | -1.497937e-01 |  0.011396242 | 0.3700210 |  0.197481137 |  0.060994159 | -0.0613926287 | -0.0720593797 | -0.081896364 | -0.087360306 | -0.3822653 |  0.076334044 | 0.4906966 | 1.2238806 | 0.6635496 | 1.1378038 |\n",
       "|  0.001166092 | 0.1917853 |  0.070580586 |  8.963248e-02 |  0.075970511 | 0.4357424 | -0.111785071 |  0.060353579 |  0.0405694134 | -0.0619738346 | -0.028775464 |  0.066150776 | -0.1611567 |  0.057049706 | 0.4196507 | 1.1087750 | 0.7122583 | 1.1406182 |\n",
       "| ⋮ | ⋮ | ⋮ | ⋮ | ⋮ | ⋮ | ⋮ | ⋮ | ⋮ | ⋮ | ⋮ | ⋮ | ⋮ | ⋮ | ⋮ | ⋮ | ⋮ | ⋮ |\n",
       "|  0.0476653608 | 0.2092133 |  0.002364572 |  0.094974252 | 0.028725105 | 0.3720873 |  0.03356366 |  0.047923363 | -0.029133092 |  0.0346212766 | -0.046943460 | -0.122831968 | -0.2829561 |  0.012981834 | 0.3422736 | 1.2255218 | 0.7384471 | 1.1683208 |\n",
       "|  0.0160163073 | 0.2155265 | -0.010358810 | -0.019801604 | 0.064633691 | 0.3292200 |  0.11309743 | -0.013267024 |  0.012140601 | -0.0111921375 | -0.034949153 | -0.072929944 | -0.2712186 | -0.025367511 | 0.3491345 | 1.1025302 | 0.8140786 | 1.1132181 |\n",
       "| -0.1013622838 | 0.2073767 |  0.140351328 |  0.134739240 | 0.055406103 | 0.3377178 | -0.16118319 |  0.026496016 |  0.038248910 | -0.0858635099 | -0.083284042 |  0.124636323 | -0.2425145 |  0.006829477 | 0.4267659 | 1.1669893 | 0.7159022 | 1.1511326 |\n",
       "| -0.0005121072 | 0.1329775 |  0.026616342 |  0.071969252 | 0.114687682 | 0.3596589 |  0.09157943 | -0.081511736 |  0.066268321 |  0.0278022697 | -0.061623610 |  0.033123123 | -0.3505068 |  0.044757484 | 0.4444049 | 1.1758068 | 0.7133120 | 1.0733344 |\n",
       "|  0.0671088259 | 0.1648172 | -0.101988620 | -0.035254571 | 0.117102610 | 0.3666751 |  0.13329211 | -0.052480143 |  0.027853056 |  0.0278465188 | -0.061170558 | -0.050093609 | -0.3606935 |  0.019000759 | 0.2837082 | 1.2124085 | 0.7694181 | 1.1789014 |\n",
       "|  0.0646701430 | 0.1725127 | -0.128012442 | -0.084869064 | 0.042073417 | 0.3245271 |  0.01256747 |  0.094891507 | -0.013414909 | -0.0632107129 | -0.028772020 | -0.003276924 | -0.2701097 |  0.011714427 | 0.3787775 | 1.1237929 | 0.8118199 | 1.0056509 |\n",
       "|  0.0435455266 | 0.2058274 | -0.044493104 | -0.028255879 | 0.123903780 | 0.4118177 |  0.07140126 | -0.140998220 |  0.121496650 | -0.0294616139 | -0.063563717 |  0.031773288 | -0.3468155 |  0.042078966 | 0.4751472 | 1.1518387 | 0.7181720 | 0.9895925 |\n",
       "|  0.0993583925 | 0.1357508 | -0.004272650 | -0.021595272 | 0.088418139 | 0.3242896 |  0.19445678 |  0.049577733 | -0.044477969 | -0.0369425559 | -0.013392975 |  0.002335332 | -0.4265212 |  0.085663162 | 0.4017152 | 1.2212618 | 0.7966368 | 1.0345008 |\n",
       "| -0.0987456575 | 0.1594834 |  0.128339491 |  0.197511672 | 0.045034162 | 0.3259005 |  0.13163070 |  0.048342310 |  0.042552497 | -0.0609777619 | -0.093093213 |  0.001885724 | -0.3398718 |  0.016657518 | 0.4436999 | 1.0811894 | 0.7873706 | 1.0051701 |\n",
       "| -0.0524963770 | 0.2047834 |  0.072362284 |  0.077557977 | 0.005417052 | 0.2997004 | -0.07834241 | -0.033832881 |  0.018022121 | -0.0383666732 |  0.002364761 |  0.036669158 | -0.1834254 |  0.034436188 | 0.4243084 | 0.9635960 | 0.7881792 | 1.2217511 |\n",
       "|  0.0152004299 | 0.2144349 |  0.011893938 |  0.007964672 | 0.053310911 | 0.3007721 | -0.14224130 | -0.045527663 |  0.031323493 |  0.0620168208 | -0.064858156 |  0.095281282 | -0.2210619 |  0.101723819 | 0.5511273 | 0.9635364 | 0.8395990 | 1.0735837 |\n",
       "|  0.0256527246 | 0.1932479 |  0.031114044 |  0.066588199 | 0.114436953 | 0.3402820 |  0.07508156 | -0.006891298 |  0.016604922 | -0.0094584298 | -0.029317144 |  0.077574703 | -0.4222003 |  0.030501972 | 0.3365589 | 1.1853394 | 0.8131575 | 1.0550091 |\n",
       "| -0.0187591287 | 0.2419800 |  0.095199042 |  0.122802394 | 0.031811369 | 0.3468766 |  0.04914830 |  0.008545886 |  0.045197784 |  0.0589145321 | -0.071833632 | -0.083939622 | -0.2471314 |  0.002797050 | 0.3938365 | 1.1363510 | 0.7693308 | 1.0394989 |\n",
       "|  0.0849289221 | 0.1112449 | -0.042440371 | -0.040135812 | 0.046511707 | 0.2691092 |  0.13855262 |  0.059222390 |  0.044424623 | -0.0271152528 | -0.094694505 |  0.024356748 | -0.4820367 | -0.047340546 | 0.4345276 | 1.0880019 | 0.7291533 | 1.0690396 |\n",
       "| -0.1111201359 | 0.1897318 |  0.162549963 |  0.167311560 | 0.064494721 | 0.3233744 |  0.10207556 |  0.050420552 |  0.018689487 | -0.0410228620 | -0.069547158 | -0.031271867 | -0.3332828 |  0.004903839 | 0.3672587 | 1.1157008 | 0.7664447 | 1.1414576 |\n",
       "| -0.0453351744 | 0.1806898 |  0.087131118 |  0.149078664 | 0.020937673 | 0.4066624 | -0.16303475 |  0.126046927 | -0.116753151 | -0.1139726146 |  0.053695068 |  0.045904213 | -0.1342779 |  0.068940665 | 0.4632685 | 1.0910890 | 0.7224740 | 1.0666798 |\n",
       "|  0.1071824896 | 0.1545885 | -0.047070333 | -0.013103284 | 0.029052569 | 0.3525293 | -0.01470372 | -0.005808238 | -0.014171176 | -0.0147025916 | -0.068166705 | -0.042482531 | -0.1793714 |  0.010767872 | 0.3877527 | 1.1792966 | 0.7210984 | 1.2253568 |\n",
       "|  0.0693895969 | 0.1665665 | -0.018568850 |  0.017406779 | 0.033930412 | 0.3045838 |  0.11729830 |  0.060138958 | -0.020659719 | -0.0486294912 | -0.047284811 | -0.135089839 | -0.2626317 |  0.006726956 | 0.2775961 | 1.1777087 | 0.8142467 | 1.1668012 |\n",
       "| -0.0829872012 | 0.1907885 |  0.004714421 |  0.039253052 | 0.128991088 | 0.3652016 | -0.03162603 | -0.025341319 |  0.014400847 | -0.0287215803 | -0.024146419 |  0.091591056 | -0.2961725 |  0.073692806 | 0.4455381 | 1.0586637 | 0.8096918 | 1.1252054 |\n",
       "|  0.0661192759 | 0.2229281 | -0.096650908 | -0.120579180 | 0.023501933 | 0.2712870 |  0.16783291 | -0.016892129 |  0.018717863 |  0.0038032032 | -0.088288211 | -0.046841014 | -0.3470362 | -0.011721821 | 0.4262161 | 1.1756612 | 0.6701798 | 1.0378084 |\n",
       "|  0.0398889465 | 0.1924265 | -0.049988311 |  0.001972800 | 0.021367509 | 0.3297950 |  0.05440312 |  0.058154892 | -0.002875159 |  0.0325770214 | -0.015381388 | -0.074928728 | -0.2866495 | -0.016230685 | 0.3431133 | 1.0683911 | 0.8663779 | 1.2542408 |\n",
       "| -0.0623565277 | 0.2031054 |  0.057885901 |  0.089968955 | 0.128974772 | 0.3276251 |  0.22725877 | -0.071386358 |  0.020536434 |  0.0559061279 | -0.081828133 | -0.148518300 | -0.3000049 |  0.034770846 | 0.3232065 | 1.1181938 | 0.8184959 | 1.1491348 |\n",
       "|  0.0390484101 | 0.1528362 |  0.049538136 |  0.083800734 | 0.050918782 | 0.2760647 |  0.11132176 |  0.058399625 | -0.043088969 | -0.0434457110 |  0.018769561 | -0.022888900 | -0.3179310 |  0.016733412 | 0.4622015 | 1.0864859 | 0.6820353 | 1.1151975 |\n",
       "|  0.0723967844 | 0.1694429 | -0.052758924 | -0.084441527 | 0.069792853 | 0.3645664 |  0.03439698 |  0.017920845 |  0.031104583 | -0.0410605695 | -0.055468438 | -0.078312595 | -0.1298527 |  0.046959202 | 0.4378534 | 1.1878665 | 0.6596146 | 0.9434259 |\n",
       "| -0.0465678679 | 0.1815495 |  0.091477492 |  0.164756959 | 0.016247077 | 0.3656950 |  0.02050732 |  0.072007431 | -0.142820006 |  0.0479399451 | -0.015334073 | -0.090872172 | -0.1902219 | -0.027867646 | 0.3882924 | 1.1186430 | 0.8092295 | 1.0520624 |\n",
       "|  0.0481559595 | 0.1885602 | -0.058718335 | -0.048912870 | 0.038374134 | 0.3969883 | -0.13403124 | -0.037610793 |  0.047795972 |  0.0568737051 | -0.154745212 | -0.019770620 | -0.1469591 | -0.001529508 | 0.4095105 | 1.1185567 | 0.8299842 | 1.1805323 |\n",
       "| -0.0562269374 | 0.1992053 |  0.060681334 |  0.081060262 | 0.013854114 | 0.4044084 |  0.01358325 |  0.034862778 | -0.025861137 | -0.0469332743 | -0.077809082 |  0.153229650 | -0.3562097 |  0.054665526 | 0.4962294 | 1.1868696 | 0.7013528 | 1.0043176 |\n",
       "|  0.0473474189 | 0.1781810 | -0.053510363 | -0.025007616 | 0.088458646 | 0.3398464 |  0.10602859 | -0.038692679 |  0.050102079 |  0.0002329094 | -0.049799039 | -0.130071544 | -0.2598318 | -0.011738218 | 0.3058745 | 1.1576333 | 0.7479483 | 1.1560843 |\n",
       "| -0.0408108167 | 0.2065240 |  0.031625560 |  0.038413725 | 0.096633359 | 0.3820722 |  0.14925540 |  0.071541689 | -0.044704145 | -0.0713937340 | -0.013812752 | -0.094878338 | -0.3213565 |  0.040504798 | 0.4505677 | 1.1875552 | 0.7171827 | 1.1257410 |\n",
       "| -0.0054052681 | 0.1914330 |  0.077519636 |  0.079784619 | 0.045217904 | 0.3259475 |  0.16430095 | -0.031487282 |  0.017235363 |  0.0098525135 | -0.145864136 | -0.027000802 | -0.4141683 |  0.009840732 | 0.3680900 | 1.0322550 | 0.8873390 | 1.2517532 |\n",
       "\n"
      ],
      "text/plain": [
       "     chol          stab.glu  hdl          ratio         age          height   \n",
       "1     0.034046612  0.1507960 -0.090358426 -3.581079e-02  0.049819008 0.4061343\n",
       "2     0.027031714  0.2066008 -0.011221389  1.035845e-02  0.052966161 0.3684130\n",
       "3    -0.038969273  0.1785247 -0.033273653  1.924591e-02  0.039514127 0.3393064\n",
       "4    -0.058046190  0.1989526  0.027048609  4.556496e-02  0.030117802 0.2907705\n",
       "5    -0.022455101  0.2042227  0.033731640  4.454378e-02  0.082180511 0.4064073\n",
       "6     0.007955317  0.1833298 -0.065472209 -6.209704e-02  0.158665166 0.3212749\n",
       "7    -0.041167714  0.1801129  0.033988883  6.416654e-02  0.048705207 0.3748586\n",
       "8     0.073797066  0.1988246 -0.076219198 -9.074593e-02  0.023876310 0.3473483\n",
       "9    -0.032023776  0.2019936  0.024417679  8.760895e-02  0.084344674 0.3426178\n",
       "10    0.036043036  0.1832785 -0.071377346  5.013017e-03  0.046027780 0.3241961\n",
       "11    0.067684246  0.1972084 -0.040830731 -7.345047e-02  0.076352534 0.3148843\n",
       "12   -0.054968003  0.2083355  0.082161714  5.668421e-02 -0.012112021 0.3225635\n",
       "13    0.081477926  0.2071991 -0.096706149 -9.821420e-02  0.073514481 0.3396821\n",
       "14   -0.105765578  0.2223369  0.117634050  1.393521e-01  0.122465482 0.3674193\n",
       "15    0.031159114  0.1193447 -0.068011744 -1.937037e-02  0.089945622 0.4000163\n",
       "16    0.108451530  0.1957227 -0.103893709 -7.221197e-02  0.095068941 0.3638836\n",
       "17    0.050186304  0.1889379 -0.016282668 -4.413834e-02  0.055547943 0.4415021\n",
       "18    0.073164577  0.1590405 -0.059882076 -3.756338e-02  0.096694944 0.3370291\n",
       "19   -0.018822601  0.1578458  0.023860868  3.092684e-02  0.050561030 0.3110915\n",
       "20    0.033900160  0.2000644  0.022139975 -6.012925e-05  0.026934241 0.3565361\n",
       "21    0.080471221  0.1733996 -0.108454342 -6.656802e-02  0.075970663 0.4041492\n",
       "22   -0.067999640  0.1738847  0.099272076  1.247884e-01  0.073105497 0.3099750\n",
       "23    0.079910546  0.2013083 -0.067353604 -3.813381e-02  0.094364205 0.3897605\n",
       "24   -0.071111547  0.2201334  0.034669766  4.522304e-02  0.094629316 0.3651611\n",
       "25   -0.015245591  0.2525292  0.009908657  2.628040e-02  0.007235002 0.3112383\n",
       "26    0.174623524  0.2099271 -0.184454562 -1.886557e-01  0.036491920 0.4047434\n",
       "27    0.045672854  0.2446748 -0.018361767  8.519314e-03  0.020751989 0.3260969\n",
       "28    0.010583413  0.2263718  0.007068343  1.352185e-02  0.066394704 0.3452411\n",
       "29    0.080643537  0.1958822 -0.163154446 -1.497937e-01  0.011396242 0.3700210\n",
       "30    0.001166092  0.1917853  0.070580586  8.963248e-02  0.075970511 0.4357424\n",
       "⋮    ⋮             ⋮         ⋮            ⋮             ⋮            ⋮        \n",
       "971   0.0476653608 0.2092133  0.002364572  0.094974252  0.028725105  0.3720873\n",
       "972   0.0160163073 0.2155265 -0.010358810 -0.019801604  0.064633691  0.3292200\n",
       "973  -0.1013622838 0.2073767  0.140351328  0.134739240  0.055406103  0.3377178\n",
       "974  -0.0005121072 0.1329775  0.026616342  0.071969252  0.114687682  0.3596589\n",
       "975   0.0671088259 0.1648172 -0.101988620 -0.035254571  0.117102610  0.3666751\n",
       "976   0.0646701430 0.1725127 -0.128012442 -0.084869064  0.042073417  0.3245271\n",
       "977   0.0435455266 0.2058274 -0.044493104 -0.028255879  0.123903780  0.4118177\n",
       "978   0.0993583925 0.1357508 -0.004272650 -0.021595272  0.088418139  0.3242896\n",
       "979  -0.0987456575 0.1594834  0.128339491  0.197511672  0.045034162  0.3259005\n",
       "980  -0.0524963770 0.2047834  0.072362284  0.077557977  0.005417052  0.2997004\n",
       "981   0.0152004299 0.2144349  0.011893938  0.007964672  0.053310911  0.3007721\n",
       "982   0.0256527246 0.1932479  0.031114044  0.066588199  0.114436953  0.3402820\n",
       "983  -0.0187591287 0.2419800  0.095199042  0.122802394  0.031811369  0.3468766\n",
       "984   0.0849289221 0.1112449 -0.042440371 -0.040135812  0.046511707  0.2691092\n",
       "985  -0.1111201359 0.1897318  0.162549963  0.167311560  0.064494721  0.3233744\n",
       "986  -0.0453351744 0.1806898  0.087131118  0.149078664  0.020937673  0.4066624\n",
       "987   0.1071824896 0.1545885 -0.047070333 -0.013103284  0.029052569  0.3525293\n",
       "988   0.0693895969 0.1665665 -0.018568850  0.017406779  0.033930412  0.3045838\n",
       "989  -0.0829872012 0.1907885  0.004714421  0.039253052  0.128991088  0.3652016\n",
       "990   0.0661192759 0.2229281 -0.096650908 -0.120579180  0.023501933  0.2712870\n",
       "991   0.0398889465 0.1924265 -0.049988311  0.001972800  0.021367509  0.3297950\n",
       "992  -0.0623565277 0.2031054  0.057885901  0.089968955  0.128974772  0.3276251\n",
       "993   0.0390484101 0.1528362  0.049538136  0.083800734  0.050918782  0.2760647\n",
       "994   0.0723967844 0.1694429 -0.052758924 -0.084441527  0.069792853  0.3645664\n",
       "995  -0.0465678679 0.1815495  0.091477492  0.164756959  0.016247077  0.3656950\n",
       "996   0.0481559595 0.1885602 -0.058718335 -0.048912870  0.038374134  0.3969883\n",
       "997  -0.0562269374 0.1992053  0.060681334  0.081060262  0.013854114  0.4044084\n",
       "998   0.0473474189 0.1781810 -0.053510363 -0.025007616  0.088458646  0.3398464\n",
       "999  -0.0408108167 0.2065240  0.031625560  0.038413725  0.096633359  0.3820722\n",
       "1000 -0.0054052681 0.1914330  0.077519636  0.079784619  0.045217904  0.3259475\n",
       "     weight       bp.1s        bp.1d         bp.2s         bp.2d       \n",
       "1    -0.007213222  0.040726296  0.0383123211 -0.0004896397 -0.084231821\n",
       "2    -0.056997042  0.024073728  0.0163305257  0.0014670876 -0.088564945\n",
       "3     0.008821147  0.010405580  0.0592423991  0.0041666283 -0.045112002\n",
       "4     0.146312556  0.131043656 -0.0309961219 -0.1240112144 -0.022703647\n",
       "5     0.005532867  0.009725552  0.0441411621  0.0028839579 -0.115321850\n",
       "6     0.075678895 -0.080614980  0.0561221129 -0.0302020528 -0.109341666\n",
       "7    -0.166578402  0.056491078 -0.0410139506  0.0429132134 -0.024117354\n",
       "8     0.036988880  0.094631223 -0.1118546201  0.0163476198 -0.055219701\n",
       "9     0.178611726  0.069789722  0.0407075972 -0.0190326097 -0.122692421\n",
       "10   -0.025415204  0.058367949  0.0406518951  0.0079668039 -0.085398876\n",
       "11    0.055478043  0.038439489 -0.0684554561 -0.0312952830  0.003897287\n",
       "12    0.076007542  0.119134189  0.0005140422 -0.0901936555 -0.064195965\n",
       "13    0.181969671  0.038660178 -0.0214101607 -0.0312977819 -0.014952953\n",
       "14   -0.027816650  0.057308789  0.0010438922 -0.0641261680 -0.045169458\n",
       "15   -0.043247002  0.028739516 -0.0116466490  0.0006655067 -0.064366801\n",
       "16   -0.086568394  0.027539667  0.0599650615 -0.0618147275 -0.038764156\n",
       "17   -0.033696679 -0.015458736  0.0724041015  0.0051144591 -0.127972833\n",
       "18    0.168144927 -0.063620595  0.0908433439  0.0526370386 -0.134220241\n",
       "19    0.052368230  0.056779441 -0.0258605065 -0.0599533334 -0.097706245\n",
       "20    0.074527462  0.001466963  0.0016219038  0.0176431609 -0.080080073\n",
       "21    0.002259055 -0.112536335  0.0869274303 -0.0073704322 -0.126884868\n",
       "22    0.083884119  0.040054763 -0.0253489907 -0.0273139944 -0.029844047\n",
       "23    0.097479735  0.039997024 -0.0506535032  0.0115997492 -0.025981195\n",
       "24    0.066649901  0.066333488 -0.0193210328 -0.0320159330 -0.036809976\n",
       "25   -0.115944469 -0.035779405  0.0027548793  0.0143833453 -0.047154391\n",
       "26    0.079621855  0.014006032  0.0268854965  0.0277666677 -0.039315126\n",
       "27    0.033647462  0.103336483 -0.0513801228 -0.0007637138 -0.071372178\n",
       "28    0.214183470  0.064244116 -0.0292840525 -0.0380932872 -0.011242763\n",
       "29    0.197481137  0.060994159 -0.0613926287 -0.0720593797 -0.081896364\n",
       "30   -0.111785071  0.060353579  0.0405694134 -0.0619738346 -0.028775464\n",
       "⋮    ⋮            ⋮            ⋮             ⋮             ⋮           \n",
       "971   0.03356366   0.047923363 -0.029133092   0.0346212766 -0.046943460\n",
       "972   0.11309743  -0.013267024  0.012140601  -0.0111921375 -0.034949153\n",
       "973  -0.16118319   0.026496016  0.038248910  -0.0858635099 -0.083284042\n",
       "974   0.09157943  -0.081511736  0.066268321   0.0278022697 -0.061623610\n",
       "975   0.13329211  -0.052480143  0.027853056   0.0278465188 -0.061170558\n",
       "976   0.01256747   0.094891507 -0.013414909  -0.0632107129 -0.028772020\n",
       "977   0.07140126  -0.140998220  0.121496650  -0.0294616139 -0.063563717\n",
       "978   0.19445678   0.049577733 -0.044477969  -0.0369425559 -0.013392975\n",
       "979   0.13163070   0.048342310  0.042552497  -0.0609777619 -0.093093213\n",
       "980  -0.07834241  -0.033832881  0.018022121  -0.0383666732  0.002364761\n",
       "981  -0.14224130  -0.045527663  0.031323493   0.0620168208 -0.064858156\n",
       "982   0.07508156  -0.006891298  0.016604922  -0.0094584298 -0.029317144\n",
       "983   0.04914830   0.008545886  0.045197784   0.0589145321 -0.071833632\n",
       "984   0.13855262   0.059222390  0.044424623  -0.0271152528 -0.094694505\n",
       "985   0.10207556   0.050420552  0.018689487  -0.0410228620 -0.069547158\n",
       "986  -0.16303475   0.126046927 -0.116753151  -0.1139726146  0.053695068\n",
       "987  -0.01470372  -0.005808238 -0.014171176  -0.0147025916 -0.068166705\n",
       "988   0.11729830   0.060138958 -0.020659719  -0.0486294912 -0.047284811\n",
       "989  -0.03162603  -0.025341319  0.014400847  -0.0287215803 -0.024146419\n",
       "990   0.16783291  -0.016892129  0.018717863   0.0038032032 -0.088288211\n",
       "991   0.05440312   0.058154892 -0.002875159   0.0325770214 -0.015381388\n",
       "992   0.22725877  -0.071386358  0.020536434   0.0559061279 -0.081828133\n",
       "993   0.11132176   0.058399625 -0.043088969  -0.0434457110  0.018769561\n",
       "994   0.03439698   0.017920845  0.031104583  -0.0410605695 -0.055468438\n",
       "995   0.02050732   0.072007431 -0.142820006   0.0479399451 -0.015334073\n",
       "996  -0.13403124  -0.037610793  0.047795972   0.0568737051 -0.154745212\n",
       "997   0.01358325   0.034862778 -0.025861137  -0.0469332743 -0.077809082\n",
       "998   0.10602859  -0.038692679  0.050102079   0.0002329094 -0.049799039\n",
       "999   0.14925540   0.071541689 -0.044704145  -0.0713937340 -0.013812752\n",
       "1000  0.16430095  -0.031487282  0.017235363   0.0098525135 -0.145864136\n",
       "     waist        hip        time.ppn     location_Louisa gender_female\n",
       "1    -0.001728194 -0.2870556  0.009757063 0.3017304       1.2709824    \n",
       "2    -0.005810022 -0.2592442  0.017350369 0.4484275       1.0974365    \n",
       "3    -0.050092096 -0.2100620  0.010073644 0.4182737       1.0301032    \n",
       "4     0.013295240 -0.3959503 -0.029371803 0.4400574       1.1911376    \n",
       "5    -0.027520847 -0.2327381  0.033055609 0.3937088       1.1141485    \n",
       "6    -0.046811685 -0.3251736  0.016316852 0.3808665       1.0737163    \n",
       "7     0.136797039 -0.1952808  0.082570150 0.4844933       1.0463948    \n",
       "8     0.027689685 -0.2972626  0.090460171 0.5796591       1.0740809    \n",
       "9    -0.199768349 -0.2540004  0.050197041 0.3648913       1.1526923    \n",
       "10    0.060510420 -0.3419414  0.035061164 0.4513394       1.1875871    \n",
       "11   -0.012754401 -0.2906724  0.029068156 0.4617731       1.0611276    \n",
       "12    0.083582677 -0.3660564  0.003414391 0.5294910       1.1956937    \n",
       "13   -0.024898977 -0.3653513  0.032242443 0.4019910       1.2123674    \n",
       "14   -0.039660518 -0.1858725  0.030209259 0.4436949       1.1321854    \n",
       "15    0.083198431 -0.3080493  0.045657811 0.3655211       1.2491587    \n",
       "16    0.017996762 -0.1881260  0.013086574 0.4355188       1.0748438    \n",
       "17   -0.027599419 -0.2376438 -0.008550826 0.3741022       1.2164160    \n",
       "18   -0.081656186 -0.2960420  0.044490033 0.5132249       1.1468485    \n",
       "19    0.028383661 -0.3096277  0.018727865 0.4476212       1.0197618    \n",
       "20    0.006288915 -0.3334915 -0.004712007 0.3951780       1.1540510    \n",
       "21   -0.026473929 -0.2622069  0.029723053 0.3463911       1.1695977    \n",
       "22    0.028055666 -0.3618106  0.008746117 0.3704365       1.1958593    \n",
       "23   -0.061387418 -0.3097833  0.022597871 0.4506070       1.2108238    \n",
       "24   -0.027252445 -0.2439422  0.055229671 0.4444266       1.0499794    \n",
       "25   -0.028984257 -0.1240904  0.090531051 0.5431665       0.9269913    \n",
       "26   -0.034484031 -0.3225755 -0.046624852 0.3130437       1.2013174    \n",
       "27   -0.003275115 -0.2419800  0.060195777 0.3105620       1.2094672    \n",
       "28   -0.110156976 -0.3567108  0.055992449 0.4818168       1.2502991    \n",
       "29   -0.087360306 -0.3822653  0.076334044 0.4906966       1.2238806    \n",
       "30    0.066150776 -0.1611567  0.057049706 0.4196507       1.1087750    \n",
       "⋮    ⋮            ⋮          ⋮            ⋮               ⋮            \n",
       "971  -0.122831968 -0.2829561  0.012981834 0.3422736       1.2255218    \n",
       "972  -0.072929944 -0.2712186 -0.025367511 0.3491345       1.1025302    \n",
       "973   0.124636323 -0.2425145  0.006829477 0.4267659       1.1669893    \n",
       "974   0.033123123 -0.3505068  0.044757484 0.4444049       1.1758068    \n",
       "975  -0.050093609 -0.3606935  0.019000759 0.2837082       1.2124085    \n",
       "976  -0.003276924 -0.2701097  0.011714427 0.3787775       1.1237929    \n",
       "977   0.031773288 -0.3468155  0.042078966 0.4751472       1.1518387    \n",
       "978   0.002335332 -0.4265212  0.085663162 0.4017152       1.2212618    \n",
       "979   0.001885724 -0.3398718  0.016657518 0.4436999       1.0811894    \n",
       "980   0.036669158 -0.1834254  0.034436188 0.4243084       0.9635960    \n",
       "981   0.095281282 -0.2210619  0.101723819 0.5511273       0.9635364    \n",
       "982   0.077574703 -0.4222003  0.030501972 0.3365589       1.1853394    \n",
       "983  -0.083939622 -0.2471314  0.002797050 0.3938365       1.1363510    \n",
       "984   0.024356748 -0.4820367 -0.047340546 0.4345276       1.0880019    \n",
       "985  -0.031271867 -0.3332828  0.004903839 0.3672587       1.1157008    \n",
       "986   0.045904213 -0.1342779  0.068940665 0.4632685       1.0910890    \n",
       "987  -0.042482531 -0.1793714  0.010767872 0.3877527       1.1792966    \n",
       "988  -0.135089839 -0.2626317  0.006726956 0.2775961       1.1777087    \n",
       "989   0.091591056 -0.2961725  0.073692806 0.4455381       1.0586637    \n",
       "990  -0.046841014 -0.3470362 -0.011721821 0.4262161       1.1756612    \n",
       "991  -0.074928728 -0.2866495 -0.016230685 0.3431133       1.0683911    \n",
       "992  -0.148518300 -0.3000049  0.034770846 0.3232065       1.1181938    \n",
       "993  -0.022888900 -0.3179310  0.016733412 0.4622015       1.0864859    \n",
       "994  -0.078312595 -0.1298527  0.046959202 0.4378534       1.1878665    \n",
       "995  -0.090872172 -0.1902219 -0.027867646 0.3882924       1.1186430    \n",
       "996  -0.019770620 -0.1469591 -0.001529508 0.4095105       1.1185567    \n",
       "997   0.153229650 -0.3562097  0.054665526 0.4962294       1.1868696    \n",
       "998  -0.130071544 -0.2598318 -0.011738218 0.3058745       1.1576333    \n",
       "999  -0.094878338 -0.3213565  0.040504798 0.4505677       1.1875552    \n",
       "1000 -0.027000802 -0.4141683  0.009840732 0.3680900       1.0322550    \n",
       "     frame_medium frame_large\n",
       "1    0.7458624    1.0977115  \n",
       "2    0.8431922    1.1096712  \n",
       "3    0.7704967    1.2603454  \n",
       "4    0.7892339    0.9183884  \n",
       "5    0.8671113    1.1065167  \n",
       "6    0.8870982    1.1552805  \n",
       "7    0.7943280    1.1251141  \n",
       "8    0.7142036    1.0199264  \n",
       "9    0.7089637    1.1408114  \n",
       "10   0.6998313    0.9574787  \n",
       "11   0.7678485    1.1783031  \n",
       "12   0.6066123    0.9555780  \n",
       "13   0.6968119    0.9668529  \n",
       "14   0.7316841    1.0753316  \n",
       "15   0.7684098    1.1041622  \n",
       "16   0.7121855    1.1523517  \n",
       "17   0.7313916    1.1694773  \n",
       "18   0.7048791    1.0964852  \n",
       "19   0.7793621    1.0900452  \n",
       "20   0.7807279    1.0535406  \n",
       "21   0.8519266    1.1171359  \n",
       "22   0.7450226    1.0689790  \n",
       "23   0.6735386    0.9976099  \n",
       "24   0.8240316    1.0253476  \n",
       "25   0.8202986    1.2804746  \n",
       "26   0.8279702    0.9994323  \n",
       "27   0.7434290    1.1647391  \n",
       "28   0.6448129    0.9846803  \n",
       "29   0.6635496    1.1378038  \n",
       "30   0.7122583    1.1406182  \n",
       "⋮    ⋮            ⋮          \n",
       "971  0.7384471    1.1683208  \n",
       "972  0.8140786    1.1132181  \n",
       "973  0.7159022    1.1511326  \n",
       "974  0.7133120    1.0733344  \n",
       "975  0.7694181    1.1789014  \n",
       "976  0.8118199    1.0056509  \n",
       "977  0.7181720    0.9895925  \n",
       "978  0.7966368    1.0345008  \n",
       "979  0.7873706    1.0051701  \n",
       "980  0.7881792    1.2217511  \n",
       "981  0.8395990    1.0735837  \n",
       "982  0.8131575    1.0550091  \n",
       "983  0.7693308    1.0394989  \n",
       "984  0.7291533    1.0690396  \n",
       "985  0.7664447    1.1414576  \n",
       "986  0.7224740    1.0666798  \n",
       "987  0.7210984    1.2253568  \n",
       "988  0.8142467    1.1668012  \n",
       "989  0.8096918    1.1252054  \n",
       "990  0.6701798    1.0378084  \n",
       "991  0.8663779    1.2542408  \n",
       "992  0.8184959    1.1491348  \n",
       "993  0.6820353    1.1151975  \n",
       "994  0.6596146    0.9434259  \n",
       "995  0.8092295    1.0520624  \n",
       "996  0.8299842    1.1805323  \n",
       "997  0.7013528    1.0043176  \n",
       "998  0.7479483    1.1560843  \n",
       "999  0.7171827    1.1257410  \n",
       "1000 0.8873390    1.2517532  "
      ]
     },
     "metadata": {},
     "output_type": "display_data"
    }
   ],
   "source": [
    "as.data.frame(beta)"
   ]
  },
  {
   "cell_type": "code",
   "execution_count": 126,
   "id": "1be6163d-0fff-4ef0-a642-c009a97a61ae",
   "metadata": {},
   "outputs": [],
   "source": [
    "beta.estimates <- as.data.frame(beta) %>%\n",
    "  summarise(across(\n",
    "    everything(),\n",
    "    list(\n",
    "      mean = mean,\n",
    "      `2.5%` = ~ quantile(.x, 0.025),\n",
    "      `97.5%` = ~ quantile(.x, 0.975)\n",
    "    ),\n",
    "    .names = \"{.col}_{.fn}\"\n",
    "  )) %>%\n",
    "  pivot_longer(\n",
    "    cols = everything(),\n",
    "    names_to = \"name\",\n",
    "    values_to = \"value\"\n",
    "  ) %>%\n",
    "  separate(\n",
    "    col = name,\n",
    "    into = c(\"beta\", \"stat\"),\n",
    "    sep = \"_(?=[^_]+$)\"\n",
    "  ) %>%\n",
    "  pivot_wider(\n",
    "    names_from = stat,\n",
    "    values_from = value\n",
    "  ) %>%\n",
    "  column_to_rownames(var = \"beta\")\n"
   ]
  },
  {
   "cell_type": "code",
   "execution_count": 127,
   "id": "d3c29531-446c-47e8-99d1-da883b4959e0",
   "metadata": {},
   "outputs": [
    {
     "data": {
      "text/html": [
       "<table class=\"dataframe\">\n",
       "<caption>A data.frame: 18 × 3</caption>\n",
       "<thead>\n",
       "\t<tr><th></th><th scope=col>mean</th><th scope=col>2.5%</th><th scope=col>97.5%</th></tr>\n",
       "\t<tr><th></th><th scope=col>&lt;dbl&gt;</th><th scope=col>&lt;dbl&gt;</th><th scope=col>&lt;dbl&gt;</th></tr>\n",
       "</thead>\n",
       "<tbody>\n",
       "\t<tr><th scope=row>chol</th><td> 0.017672075</td><td>-0.10576309</td><td> 0.13411469</td></tr>\n",
       "\t<tr><th scope=row>stab.glu</th><td> 0.182919709</td><td> 0.11825524</td><td> 0.25102591</td></tr>\n",
       "\t<tr><th scope=row>hdl</th><td>-0.018797368</td><td>-0.16780512</td><td> 0.11645629</td></tr>\n",
       "\t<tr><th scope=row>ratio</th><td> 0.002699158</td><td>-0.15253703</td><td> 0.14501061</td></tr>\n",
       "\t<tr><th scope=row>age</th><td> 0.057172361</td><td>-0.02317216</td><td> 0.13450316</td></tr>\n",
       "\t<tr><th scope=row>height</th><td> 0.352215156</td><td> 0.27573222</td><td> 0.43505770</td></tr>\n",
       "\t<tr><th scope=row>weight</th><td> 0.022973290</td><td>-0.15019643</td><td> 0.18211368</td></tr>\n",
       "\t<tr><th scope=row>bp.1s</th><td> 0.018378338</td><td>-0.08568232</td><td> 0.12673263</td></tr>\n",
       "\t<tr><th scope=row>bp.1d</th><td> 0.010337071</td><td>-0.08317854</td><td> 0.09843596</td></tr>\n",
       "\t<tr><th scope=row>bp.2s</th><td>-0.020032249</td><td>-0.11060259</td><td> 0.07049116</td></tr>\n",
       "\t<tr><th scope=row>bp.2d</th><td>-0.062045581</td><td>-0.14147778</td><td> 0.02118081</td></tr>\n",
       "\t<tr><th scope=row>waist</th><td> 0.012203844</td><td>-0.12454700</td><td> 0.15068531</td></tr>\n",
       "\t<tr><th scope=row>hip</th><td>-0.291505215</td><td>-0.44371071</td><td>-0.13985175</td></tr>\n",
       "\t<tr><th scope=row>time.ppn</th><td> 0.028131462</td><td>-0.03288394</td><td> 0.09053692</td></tr>\n",
       "\t<tr><th scope=row>location_Louisa</th><td> 0.409719059</td><td> 0.30127475</td><td> 0.52718514</td></tr>\n",
       "\t<tr><th scope=row>gender_female</th><td> 1.139114833</td><td> 1.00066416</td><td> 1.27125524</td></tr>\n",
       "\t<tr><th scope=row>frame_medium</th><td> 0.754378292</td><td> 0.63533115</td><td> 0.87985460</td></tr>\n",
       "\t<tr><th scope=row>frame_large</th><td> 1.100835907</td><td> 0.93536421</td><td> 1.25991262</td></tr>\n",
       "</tbody>\n",
       "</table>\n"
      ],
      "text/latex": [
       "A data.frame: 18 × 3\n",
       "\\begin{tabular}{r|lll}\n",
       "  & mean & 2.5\\% & 97.5\\%\\\\\n",
       "  & <dbl> & <dbl> & <dbl>\\\\\n",
       "\\hline\n",
       "\tchol &  0.017672075 & -0.10576309 &  0.13411469\\\\\n",
       "\tstab.glu &  0.182919709 &  0.11825524 &  0.25102591\\\\\n",
       "\thdl & -0.018797368 & -0.16780512 &  0.11645629\\\\\n",
       "\tratio &  0.002699158 & -0.15253703 &  0.14501061\\\\\n",
       "\tage &  0.057172361 & -0.02317216 &  0.13450316\\\\\n",
       "\theight &  0.352215156 &  0.27573222 &  0.43505770\\\\\n",
       "\tweight &  0.022973290 & -0.15019643 &  0.18211368\\\\\n",
       "\tbp.1s &  0.018378338 & -0.08568232 &  0.12673263\\\\\n",
       "\tbp.1d &  0.010337071 & -0.08317854 &  0.09843596\\\\\n",
       "\tbp.2s & -0.020032249 & -0.11060259 &  0.07049116\\\\\n",
       "\tbp.2d & -0.062045581 & -0.14147778 &  0.02118081\\\\\n",
       "\twaist &  0.012203844 & -0.12454700 &  0.15068531\\\\\n",
       "\thip & -0.291505215 & -0.44371071 & -0.13985175\\\\\n",
       "\ttime.ppn &  0.028131462 & -0.03288394 &  0.09053692\\\\\n",
       "\tlocation\\_Louisa &  0.409719059 &  0.30127475 &  0.52718514\\\\\n",
       "\tgender\\_female &  1.139114833 &  1.00066416 &  1.27125524\\\\\n",
       "\tframe\\_medium &  0.754378292 &  0.63533115 &  0.87985460\\\\\n",
       "\tframe\\_large &  1.100835907 &  0.93536421 &  1.25991262\\\\\n",
       "\\end{tabular}\n"
      ],
      "text/markdown": [
       "\n",
       "A data.frame: 18 × 3\n",
       "\n",
       "| <!--/--> | mean &lt;dbl&gt; | 2.5% &lt;dbl&gt; | 97.5% &lt;dbl&gt; |\n",
       "|---|---|---|---|\n",
       "| chol |  0.017672075 | -0.10576309 |  0.13411469 |\n",
       "| stab.glu |  0.182919709 |  0.11825524 |  0.25102591 |\n",
       "| hdl | -0.018797368 | -0.16780512 |  0.11645629 |\n",
       "| ratio |  0.002699158 | -0.15253703 |  0.14501061 |\n",
       "| age |  0.057172361 | -0.02317216 |  0.13450316 |\n",
       "| height |  0.352215156 |  0.27573222 |  0.43505770 |\n",
       "| weight |  0.022973290 | -0.15019643 |  0.18211368 |\n",
       "| bp.1s |  0.018378338 | -0.08568232 |  0.12673263 |\n",
       "| bp.1d |  0.010337071 | -0.08317854 |  0.09843596 |\n",
       "| bp.2s | -0.020032249 | -0.11060259 |  0.07049116 |\n",
       "| bp.2d | -0.062045581 | -0.14147778 |  0.02118081 |\n",
       "| waist |  0.012203844 | -0.12454700 |  0.15068531 |\n",
       "| hip | -0.291505215 | -0.44371071 | -0.13985175 |\n",
       "| time.ppn |  0.028131462 | -0.03288394 |  0.09053692 |\n",
       "| location_Louisa |  0.409719059 |  0.30127475 |  0.52718514 |\n",
       "| gender_female |  1.139114833 |  1.00066416 |  1.27125524 |\n",
       "| frame_medium |  0.754378292 |  0.63533115 |  0.87985460 |\n",
       "| frame_large |  1.100835907 |  0.93536421 |  1.25991262 |\n",
       "\n"
      ],
      "text/plain": [
       "                mean         2.5%        97.5%      \n",
       "chol             0.017672075 -0.10576309  0.13411469\n",
       "stab.glu         0.182919709  0.11825524  0.25102591\n",
       "hdl             -0.018797368 -0.16780512  0.11645629\n",
       "ratio            0.002699158 -0.15253703  0.14501061\n",
       "age              0.057172361 -0.02317216  0.13450316\n",
       "height           0.352215156  0.27573222  0.43505770\n",
       "weight           0.022973290 -0.15019643  0.18211368\n",
       "bp.1s            0.018378338 -0.08568232  0.12673263\n",
       "bp.1d            0.010337071 -0.08317854  0.09843596\n",
       "bp.2s           -0.020032249 -0.11060259  0.07049116\n",
       "bp.2d           -0.062045581 -0.14147778  0.02118081\n",
       "waist            0.012203844 -0.12454700  0.15068531\n",
       "hip             -0.291505215 -0.44371071 -0.13985175\n",
       "time.ppn         0.028131462 -0.03288394  0.09053692\n",
       "location_Louisa  0.409719059  0.30127475  0.52718514\n",
       "gender_female    1.139114833  1.00066416  1.27125524\n",
       "frame_medium     0.754378292  0.63533115  0.87985460\n",
       "frame_large      1.100835907  0.93536421  1.25991262"
      ]
     },
     "metadata": {},
     "output_type": "display_data"
    }
   ],
   "source": [
    "beta.estimates"
   ]
  },
  {
   "cell_type": "code",
   "execution_count": 130,
   "id": "490ae1dc-0604-4e2d-8525-50f2470a3778",
   "metadata": {},
   "outputs": [],
   "source": [
    "beta.estimates <- beta.estimates %>%\n",
    "  rownames_to_column(var = \"beta\") %>%\n",
    "  mutate(significant = ifelse(`2.5%` > 0 | `97.5%` < 0, \"Significant\", \"Not Significant\"))"
   ]
  },
  {
   "cell_type": "code",
   "execution_count": 142,
   "id": "fc8848a6-67b2-46d0-a3b7-03af7253d87b",
   "metadata": {},
   "outputs": [
    {
     "data": {
      "image/png": "[encoded data removed]",
      "text/plain": [
       "plot without title"
      ]
     },
     "metadata": {
      "image/png": {
       "height": 420,
       "width": 420
      }
     },
     "output_type": "display_data"
    }
   ],
   "source": [
    "beta.est.plot <- ggplot(beta.estimates, aes(x = beta, y = mean, ymin = `2.5%`, ymax = `97.5%`, color = significant)) +\n",
    "  geom_pointrange() +\n",
    "  geom_hline(yintercept = 0, linetype = \"dashed\") +\n",
    "  labs(title = \"Beta Estimates with Confidence Intervals\",\n",
    "       x = \"Beta\",\n",
    "       y = \"Estimate\") +\n",
    "  theme_minimal() +\n",
    "  scale_color_manual(values = c(\"Significant\" = \"red\", \"Not Significant\" = \"blue\")) + coord_flip()\n",
    "beta.est.plot"
   ]
  },
  {
   "cell_type": "code",
   "execution_count": 143,
   "id": "34d79a70-aec0-409e-ac5a-9abf210f309e",
   "metadata": {},
   "outputs": [
    {
     "name": "stderr",
     "output_type": "stream",
     "text": [
      "\u001b[1m\u001b[22mSaving 7 x 7 in image\n"
     ]
    }
   ],
   "source": [
    "ggsave(\"betaEstimatesGPrior.png\", plot = beta.est.plot)"
   ]
  },
  {
   "cell_type": "code",
   "execution_count": 135,
   "id": "b94f2dfe-8578-4de8-8626-ca686038ebf8",
   "metadata": {},
   "outputs": [],
   "source": [
    "B <- as.matrix(beta.estimates$mean, nrow=nrow(beta.estimates), ncol=1)"
   ]
  },
  {
   "cell_type": "code",
   "execution_count": 139,
   "id": "f074f4d1-ef84-4f42-b2c7-2354d488e694",
   "metadata": {},
   "outputs": [],
   "source": [
    "y.hat.bayes <- X.test %*% B"
   ]
  },
  {
   "cell_type": "code",
   "execution_count": 140,
   "id": "54141a07-37f9-4cdc-8742-7c012e29175a",
   "metadata": {},
   "outputs": [
    {
     "data": {
      "text/html": [
       "1.242053627337"
      ],
      "text/latex": [
       "1.242053627337"
      ],
      "text/markdown": [
       "1.242053627337"
      ],
      "text/plain": [
       "[1] 1.242054"
      ]
     },
     "metadata": {},
     "output_type": "display_data"
    }
   ],
   "source": [
    "exp(mean((y.hat.bayes - y.test)^2))"
   ]
  },
  {
   "cell_type": "markdown",
   "id": "aefebee8-3226-48c3-8d8f-cd082394d8c4",
   "metadata": {},
   "source": [
    "## Model Selection"
   ]
  },
  {
   "cell_type": "code",
   "execution_count": 21,
   "id": "1c50067e-2f36-40bf-90cc-21744736f9ec",
   "metadata": {},
   "outputs": [
    {
     "data": {
      "text/html": [
       "0.118333773127865"
      ],
      "text/latex": [
       "0.118333773127865"
      ],
      "text/markdown": [
       "0.118333773127865"
      ],
      "text/plain": [
       "[1] 0.1183338"
      ]
     },
     "metadata": {},
     "output_type": "display_data"
    }
   ],
   "source": [
    "tau2 <- as.numeric(var(y.train) / mean(apply(X.train, 2, var)))\n",
    "as.numeric(tau2)"
   ]
  },
  {
   "cell_type": "code",
   "execution_count": 22,
   "id": "716eb017-d964-474a-a76f-f46668a709b4",
   "metadata": {},
   "outputs": [],
   "source": [
    "data_list <- list(\n",
    "  N = nrow(X.train),               # Number of observations\n",
    "  P = ncol(X.train),                 # Number of predictors\n",
    "  X = X.train, # Random design matrix (replace with your data)\n",
    "  y = as.vector(y.train),        # Response variable (replace with your data)\n",
    "  sigma2 = as.numeric(var(y.train)),            # Fixed variance for likelihood\n",
    "  tau2 = tau2,              # Variance of slab for coefficients\n",
    "  p_prior = 0.5          # Prior inclusion probability\n",
    ")"
   ]
  },
  {
   "cell_type": "code",
   "execution_count": 23,
   "id": "212bc75c-9820-4735-9513-41cce91d6d7d",
   "metadata": {},
   "outputs": [
    {
     "name": "stdout",
     "output_type": "stream",
     "text": [
      "\n",
      "SAMPLING FOR MODEL 'anon_model' NOW (CHAIN 1).\n",
      "Chain 1: \n",
      "Chain 1: Gradient evaluation took 7.6e-05 seconds\n",
      "Chain 1: 1000 transitions using 10 leapfrog steps per transition would take 0.76 seconds.\n",
      "Chain 1: Adjust your expectations accordingly!\n",
      "Chain 1: \n",
      "Chain 1: \n",
      "Chain 1: Iteration:    1 / 2000 [  0%]  (Warmup)\n",
      "Chain 1: Iteration:  200 / 2000 [ 10%]  (Warmup)\n",
      "Chain 1: Iteration:  400 / 2000 [ 20%]  (Warmup)\n",
      "Chain 1: Iteration:  600 / 2000 [ 30%]  (Warmup)\n",
      "Chain 1: Iteration:  800 / 2000 [ 40%]  (Warmup)\n",
      "Chain 1: Iteration: 1000 / 2000 [ 50%]  (Warmup)\n",
      "Chain 1: Iteration: 1001 / 2000 [ 50%]  (Sampling)\n",
      "Chain 1: Iteration: 1200 / 2000 [ 60%]  (Sampling)\n",
      "Chain 1: Iteration: 1400 / 2000 [ 70%]  (Sampling)\n",
      "Chain 1: Iteration: 1600 / 2000 [ 80%]  (Sampling)\n",
      "Chain 1: Iteration: 1800 / 2000 [ 90%]  (Sampling)\n",
      "Chain 1: Iteration: 2000 / 2000 [100%]  (Sampling)\n",
      "Chain 1: \n",
      "Chain 1:  Elapsed Time: 1.672 seconds (Warm-up)\n",
      "Chain 1:                0.404 seconds (Sampling)\n",
      "Chain 1:                2.076 seconds (Total)\n",
      "Chain 1: \n",
      "\n",
      "SAMPLING FOR MODEL 'anon_model' NOW (CHAIN 2).\n",
      "Chain 2: \n",
      "Chain 2: Gradient evaluation took 2.9e-05 seconds\n",
      "Chain 2: 1000 transitions using 10 leapfrog steps per transition would take 0.29 seconds.\n",
      "Chain 2: Adjust your expectations accordingly!\n",
      "Chain 2: \n",
      "Chain 2: \n",
      "Chain 2: Iteration:    1 / 2000 [  0%]  (Warmup)\n",
      "Chain 2: Iteration:  200 / 2000 [ 10%]  (Warmup)\n",
      "Chain 2: Iteration:  400 / 2000 [ 20%]  (Warmup)\n",
      "Chain 2: Iteration:  600 / 2000 [ 30%]  (Warmup)\n",
      "Chain 2: Iteration:  800 / 2000 [ 40%]  (Warmup)\n",
      "Chain 2: Iteration: 1000 / 2000 [ 50%]  (Warmup)\n",
      "Chain 2: Iteration: 1001 / 2000 [ 50%]  (Sampling)\n",
      "Chain 2: Iteration: 1200 / 2000 [ 60%]  (Sampling)\n",
      "Chain 2: Iteration: 1400 / 2000 [ 70%]  (Sampling)\n",
      "Chain 2: Iteration: 1600 / 2000 [ 80%]  (Sampling)\n",
      "Chain 2: Iteration: 1800 / 2000 [ 90%]  (Sampling)\n",
      "Chain 2: Iteration: 2000 / 2000 [100%]  (Sampling)\n",
      "Chain 2: \n",
      "Chain 2:  Elapsed Time: 1.777 seconds (Warm-up)\n",
      "Chain 2:                0.422 seconds (Sampling)\n",
      "Chain 2:                2.199 seconds (Total)\n",
      "Chain 2: \n",
      "\n",
      "SAMPLING FOR MODEL 'anon_model' NOW (CHAIN 3).\n",
      "Chain 3: \n",
      "Chain 3: Gradient evaluation took 2.8e-05 seconds\n",
      "Chain 3: 1000 transitions using 10 leapfrog steps per transition would take 0.28 seconds.\n",
      "Chain 3: Adjust your expectations accordingly!\n",
      "Chain 3: \n",
      "Chain 3: \n",
      "Chain 3: Iteration:    1 / 2000 [  0%]  (Warmup)\n",
      "Chain 3: Iteration:  200 / 2000 [ 10%]  (Warmup)\n",
      "Chain 3: Iteration:  400 / 2000 [ 20%]  (Warmup)\n",
      "Chain 3: Iteration:  600 / 2000 [ 30%]  (Warmup)\n",
      "Chain 3: Iteration:  800 / 2000 [ 40%]  (Warmup)\n",
      "Chain 3: Iteration: 1000 / 2000 [ 50%]  (Warmup)\n",
      "Chain 3: Iteration: 1001 / 2000 [ 50%]  (Sampling)\n",
      "Chain 3: Iteration: 1200 / 2000 [ 60%]  (Sampling)\n",
      "Chain 3: Iteration: 1400 / 2000 [ 70%]  (Sampling)\n",
      "Chain 3: Iteration: 1600 / 2000 [ 80%]  (Sampling)\n",
      "Chain 3: Iteration: 1800 / 2000 [ 90%]  (Sampling)\n",
      "Chain 3: Iteration: 2000 / 2000 [100%]  (Sampling)\n",
      "Chain 3: \n",
      "Chain 3:  Elapsed Time: 1.498 seconds (Warm-up)\n",
      "Chain 3:                0.392 seconds (Sampling)\n",
      "Chain 3:                1.89 seconds (Total)\n",
      "Chain 3: \n",
      "\n",
      "SAMPLING FOR MODEL 'anon_model' NOW (CHAIN 4).\n",
      "Chain 4: \n",
      "Chain 4: Gradient evaluation took 4.3e-05 seconds\n",
      "Chain 4: 1000 transitions using 10 leapfrog steps per transition would take 0.43 seconds.\n",
      "Chain 4: Adjust your expectations accordingly!\n",
      "Chain 4: \n",
      "Chain 4: \n",
      "Chain 4: Iteration:    1 / 2000 [  0%]  (Warmup)\n",
      "Chain 4: Iteration:  200 / 2000 [ 10%]  (Warmup)\n",
      "Chain 4: Iteration:  400 / 2000 [ 20%]  (Warmup)\n",
      "Chain 4: Iteration:  600 / 2000 [ 30%]  (Warmup)\n",
      "Chain 4: Iteration:  800 / 2000 [ 40%]  (Warmup)\n",
      "Chain 4: Iteration: 1000 / 2000 [ 50%]  (Warmup)\n",
      "Chain 4: Iteration: 1001 / 2000 [ 50%]  (Sampling)\n",
      "Chain 4: Iteration: 1200 / 2000 [ 60%]  (Sampling)\n",
      "Chain 4: Iteration: 1400 / 2000 [ 70%]  (Sampling)\n",
      "Chain 4: Iteration: 1600 / 2000 [ 80%]  (Sampling)\n",
      "Chain 4: Iteration: 1800 / 2000 [ 90%]  (Sampling)\n",
      "Chain 4: Iteration: 2000 / 2000 [100%]  (Sampling)\n",
      "Chain 4: \n",
      "Chain 4:  Elapsed Time: 1.794 seconds (Warm-up)\n",
      "Chain 4:                0.413 seconds (Sampling)\n",
      "Chain 4:                2.207 seconds (Total)\n",
      "Chain 4: \n"
     ]
    },
    {
     "name": "stderr",
     "output_type": "stream",
     "text": [
      "Warning message:\n",
      "\"There were 210 divergent transitions after warmup. See\n",
      "https://mc-stan.org/misc/warnings.html#divergent-transitions-after-warmup\n",
      "to find out why this is a problem and how to eliminate them.\"\n",
      "Warning message:\n",
      "\"Examine the pairs() plot to diagnose sampling problems\n",
      "\"\n"
     ]
    }
   ],
   "source": [
    "fit <- stan(file = \"gpriorLM.stan\", data = data_list, seed = 42, chains = 4)"
   ]
  },
  {
   "cell_type": "code",
   "execution_count": 26,
   "id": "8edeb91c-70fa-483d-a9ab-99ace3b20ea5",
   "metadata": {},
   "outputs": [
    {
     "data": {
      "text/plain": [
       "Inference for Stan model: anon_model.\n",
       "4 chains, each with iter=2000; warmup=1000; thin=1; \n",
       "post-warmup draws per chain=1000, total post-warmup draws=4000.\n",
       "\n",
       "                       mean se_mean   sd    2.5%     25%     50%     75%\n",
       "beta[1]                0.01     0.0 0.02   -0.02    0.00    0.01    0.02\n",
       "beta[2]                0.18     0.0 0.02    0.14    0.17    0.18    0.19\n",
       "beta[3]                0.00     0.0 0.02   -0.04   -0.02    0.00    0.01\n",
       "beta[4]                0.02     0.0 0.02   -0.02    0.00    0.01    0.03\n",
       "beta[5]                0.04     0.0 0.02    0.00    0.03    0.04    0.06\n",
       "beta[6]                0.34     0.0 0.02    0.29    0.32    0.34    0.35\n",
       "beta[7]                0.00     0.0 0.02   -0.05   -0.01    0.00    0.01\n",
       "beta[8]                0.01     0.0 0.02   -0.02    0.00    0.01    0.03\n",
       "beta[9]                0.00     0.0 0.02   -0.03   -0.01    0.00    0.01\n",
       "beta[10]              -0.01     0.0 0.02   -0.05   -0.02   -0.01    0.00\n",
       "beta[11]              -0.05     0.0 0.02   -0.09   -0.06   -0.05   -0.03\n",
       "beta[12]               0.00     0.0 0.02   -0.05   -0.02    0.00    0.01\n",
       "beta[13]              -0.24     0.0 0.03   -0.30   -0.26   -0.24   -0.22\n",
       "beta[14]               0.02     0.0 0.02   -0.01    0.01    0.02    0.03\n",
       "beta[15]               0.41     0.0 0.03    0.34    0.38    0.41    0.43\n",
       "beta[16]               1.11     0.0 0.04    1.04    1.08    1.11    1.14\n",
       "beta[17]               0.75     0.0 0.04    0.67    0.72    0.75    0.77\n",
       "beta[18]               1.07     0.0 0.05    0.98    1.04    1.07    1.10\n",
       "inclusion_probs[1]     0.01     0.0 0.01    0.00    0.00    0.01    0.01\n",
       "inclusion_probs[2]     0.04     0.0 0.02    0.02    0.03    0.04    0.05\n",
       "inclusion_probs[3]     0.01     0.0 0.01    0.00    0.00    0.01    0.01\n",
       "inclusion_probs[4]     0.01     0.0 0.01    0.00    0.00    0.01    0.01\n",
       "inclusion_probs[5]     0.01     0.0 0.01    0.00    0.01    0.01    0.02\n",
       "inclusion_probs[6]     0.08     0.0 0.02    0.04    0.06    0.07    0.09\n",
       "inclusion_probs[7]     0.01     0.0 0.01    0.00    0.00    0.01    0.01\n",
       "inclusion_probs[8]     0.01     0.0 0.01    0.00    0.00    0.01    0.01\n",
       "inclusion_probs[9]     0.01     0.0 0.01    0.00    0.00    0.01    0.01\n",
       "inclusion_probs[10]    0.01     0.0 0.01    0.00    0.00    0.01    0.01\n",
       "inclusion_probs[11]    0.02     0.0 0.01    0.00    0.01    0.01    0.02\n",
       "inclusion_probs[12]    0.01     0.0 0.01    0.00    0.00    0.01    0.01\n",
       "inclusion_probs[13]    0.05     0.0 0.02    0.03    0.04    0.05    0.06\n",
       "inclusion_probs[14]    0.01     0.0 0.01    0.00    0.00    0.01    0.01\n",
       "inclusion_probs[15]    0.09     0.0 0.02    0.05    0.07    0.09    0.10\n",
       "inclusion_probs[16]    0.24     0.0 0.03    0.18    0.21    0.24    0.26\n",
       "inclusion_probs[17]    0.16     0.0 0.03    0.11    0.14    0.16    0.18\n",
       "inclusion_probs[18]    0.23     0.0 0.03    0.17    0.21    0.23    0.25\n",
       "z[1]                   0.01     0.0 0.01    0.00    0.00    0.01    0.01\n",
       "z[2]                   0.04     0.0 0.02    0.02    0.03    0.04    0.05\n",
       "z[3]                   0.01     0.0 0.01    0.00    0.00    0.01    0.01\n",
       "z[4]                   0.01     0.0 0.01    0.00    0.00    0.01    0.01\n",
       "z[5]                   0.01     0.0 0.01    0.00    0.01    0.01    0.02\n",
       "z[6]                   0.08     0.0 0.02    0.04    0.06    0.07    0.09\n",
       "z[7]                   0.01     0.0 0.01    0.00    0.00    0.01    0.01\n",
       "z[8]                   0.01     0.0 0.01    0.00    0.00    0.01    0.01\n",
       "z[9]                   0.01     0.0 0.01    0.00    0.00    0.01    0.01\n",
       "z[10]                  0.01     0.0 0.01    0.00    0.00    0.01    0.01\n",
       "z[11]                  0.02     0.0 0.01    0.00    0.01    0.01    0.02\n",
       "z[12]                  0.01     0.0 0.01    0.00    0.00    0.01    0.01\n",
       "z[13]                  0.05     0.0 0.02    0.03    0.04    0.05    0.06\n",
       "z[14]                  0.01     0.0 0.01    0.00    0.00    0.01    0.01\n",
       "z[15]                  0.09     0.0 0.02    0.05    0.07    0.09    0.10\n",
       "z[16]                  0.24     0.0 0.03    0.18    0.21    0.24    0.26\n",
       "z[17]                  0.16     0.0 0.03    0.11    0.14    0.16    0.18\n",
       "z[18]                  0.23     0.0 0.03    0.17    0.21    0.23    0.25\n",
       "lp__                -548.82     0.1 3.84 -557.22 -551.28 -548.55 -546.08\n",
       "                      97.5% n_eff Rhat\n",
       "beta[1]                0.04  2998    1\n",
       "beta[2]                0.21  4620    1\n",
       "beta[3]                0.03  1894    1\n",
       "beta[4]                0.06  2025    1\n",
       "beta[5]                0.09  1617    1\n",
       "beta[6]                0.39  2621    1\n",
       "beta[7]                0.05  1335    1\n",
       "beta[8]                0.06  2106    1\n",
       "beta[9]                0.04  2578    1\n",
       "beta[10]               0.03  2531    1\n",
       "beta[11]              -0.01  1143    1\n",
       "beta[12]               0.04  2968    1\n",
       "beta[13]              -0.18  1881    1\n",
       "beta[14]               0.05  2035    1\n",
       "beta[15]               0.47  2953    1\n",
       "beta[16]               1.19  2068    1\n",
       "beta[17]               0.82  2685    1\n",
       "beta[18]               1.16  2474    1\n",
       "inclusion_probs[1]     0.03  3783    1\n",
       "inclusion_probs[2]     0.08  2538    1\n",
       "inclusion_probs[3]     0.03  2006    1\n",
       "inclusion_probs[4]     0.03  3930    1\n",
       "inclusion_probs[5]     0.04  3399    1\n",
       "inclusion_probs[6]     0.12  3789    1\n",
       "inclusion_probs[7]     0.03  3645    1\n",
       "inclusion_probs[8]     0.03  3629    1\n",
       "inclusion_probs[9]     0.03  4000    1\n",
       "inclusion_probs[10]    0.03  3169    1\n",
       "inclusion_probs[11]    0.04  2727    1\n",
       "inclusion_probs[12]    0.03  3616    1\n",
       "inclusion_probs[13]    0.09  2553    1\n",
       "inclusion_probs[14]    0.04  3509    1\n",
       "inclusion_probs[15]    0.14  4146    1\n",
       "inclusion_probs[16]    0.30  4246    1\n",
       "inclusion_probs[17]    0.22  3419    1\n",
       "inclusion_probs[18]    0.29  3101    1\n",
       "z[1]                   0.03  3783    1\n",
       "z[2]                   0.08  2538    1\n",
       "z[3]                   0.03  2006    1\n",
       "z[4]                   0.03  3930    1\n",
       "z[5]                   0.04  3399    1\n",
       "z[6]                   0.12  3789    1\n",
       "z[7]                   0.03  3645    1\n",
       "z[8]                   0.03  3629    1\n",
       "z[9]                   0.03  4000    1\n",
       "z[10]                  0.03  3169    1\n",
       "z[11]                  0.04  2727    1\n",
       "z[12]                  0.03  3616    1\n",
       "z[13]                  0.09  2553    1\n",
       "z[14]                  0.04  3509    1\n",
       "z[15]                  0.14  4146    1\n",
       "z[16]                  0.30  4246    1\n",
       "z[17]                  0.22  3419    1\n",
       "z[18]                  0.29  3101    1\n",
       "lp__                -542.28  1521    1\n",
       "\n",
       "Samples were drawn using NUTS(diag_e) at Wed Dec  4 12:50:09 2024.\n",
       "For each parameter, n_eff is a crude measure of effective sample size,\n",
       "and Rhat is the potential scale reduction factor on split chains (at \n",
       "convergence, Rhat=1)."
      ]
     },
     "metadata": {},
     "output_type": "display_data"
    }
   ],
   "source": [
    "fit"
   ]
  },
  {
   "cell_type": "code",
   "execution_count": null,
   "id": "87bee04e-fd53-4bb9-9af4-93c0ff42320d",
   "metadata": {},
   "outputs": [],
   "source": []
  }
 ],
 "metadata": {
  "kernelspec": {
   "display_name": "R",
   "language": "R",
   "name": "ir"
  },
  "language_info": {
   "codemirror_mode": "r",
   "file_extension": ".r",
   "mimetype": "text/x-r-source",
   "name": "R",
   "pygments_lexer": "r",
   "version": "4.4.1"
  }
 },
 "nbformat": 4,
 "nbformat_minor": 5
}
