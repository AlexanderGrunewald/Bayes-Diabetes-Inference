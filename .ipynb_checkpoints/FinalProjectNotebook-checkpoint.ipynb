{
 "cells": [
  {
   "cell_type": "raw",
   "id": "2d45f3af-fcd6-4807-88cd-c68bcb89ed80",
   "metadata": {},
   "source": [
    "---\n",
    "author: \"Alexander Grunewald, \"\n",
    "title: \"STT461: Final Project Notebook\"\n",
    "date: \"11.25.2024\"\n",
    "outputs: \n",
    "    pdf_document: default\n",
    "\n",
    "---"
   ]
  }
 ],
 "metadata": {
  "kernelspec": {
   "display_name": "R",
   "language": "R",
   "name": "ir"
  },
  "language_info": {
   "codemirror_mode": "r",
   "file_extension": ".r",
   "mimetype": "text/x-r-source",
   "name": "R",
   "pygments_lexer": "r",
   "version": "4.4.1"
  }
 },
 "nbformat": 4,
 "nbformat_minor": 5
}
