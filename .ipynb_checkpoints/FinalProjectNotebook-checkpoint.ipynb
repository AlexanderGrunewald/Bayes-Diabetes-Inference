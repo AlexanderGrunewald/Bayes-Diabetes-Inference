{
 "cells": [
  {
   "cell_type": "raw",
   "id": "2d45f3af-fcd6-4807-88cd-c68bcb89ed80",
   "metadata": {},
   "source": [
    "---\n",
    "author: \"Alexander Grunewald, \"\n",
    "title: \"STT461: Final Project Notebook\"\n",
    "date: \"11.25.2024\"\n",
    "output: \n",
    "    pdf_document: default\n",
    "---"
   ]
  },
  {
   "cell_type": "code",
   "execution_count": 2,
   "id": "cc891eb3-ca60-4333-bd5d-a85b7f967459",
   "metadata": {},
   "outputs": [],
   "source": [
    "library(dplyr)\n",
    "library(tidyr)\n",
    "library(VIM)\n",
    "library(faraway)\n",
    "library(ggplot2)\n",
    "library(naniar)\n",
    "library(GGally)\n",
    "library(caret)\n",
    "library(fastDummies)\n",
    "library(leaps)\n",
    "library(recipes)"
   ]
  },
  {
   "cell_type": "markdown",
   "id": "2e9e6aa7-f63e-46ea-a6b3-962722fffbbe",
   "metadata": {},
   "source": [
    "## Background\n",
    "403 African Americans were interviewed in a study to understand the prevalence of obesity, diabetes, and other cardiovascular risk factors in central Virginia. Glycosolated hemoglobin (glyhb) greater than 7.0 is usually taken as a positive diagnosis of diabetes. We are interested in identifying the most important predicotrs that contribute to a high glyhb level in african american patience while also creating a predictive model that accurately identifies patience with diabetes. \n",
    "\n",
    "\n",
    "### Questions to answer:\n",
    "- How much ades Age, Sex, and Location impact the glyhb levels in patients\n",
    "- Are there any interaction effects between waist, height, and hip that could explain glyhb levels."
   ]
  },
  {
   "cell_type": "code",
   "execution_count": 3,
   "id": "19df8050-0bef-491b-b11e-6543c3101165",
   "metadata": {},
   "outputs": [
    {
     "data": {
      "text/html": [
       "<table class=\"dataframe\">\n",
       "<caption>A data.frame: 6 × 19</caption>\n",
       "<thead>\n",
       "\t<tr><th></th><th scope=col>id</th><th scope=col>chol</th><th scope=col>stab.glu</th><th scope=col>hdl</th><th scope=col>ratio</th><th scope=col>glyhb</th><th scope=col>location</th><th scope=col>age</th><th scope=col>gender</th><th scope=col>height</th><th scope=col>weight</th><th scope=col>frame</th><th scope=col>bp.1s</th><th scope=col>bp.1d</th><th scope=col>bp.2s</th><th scope=col>bp.2d</th><th scope=col>waist</th><th scope=col>hip</th><th scope=col>time.ppn</th></tr>\n",
       "\t<tr><th></th><th scope=col>&lt;int&gt;</th><th scope=col>&lt;int&gt;</th><th scope=col>&lt;int&gt;</th><th scope=col>&lt;int&gt;</th><th scope=col>&lt;dbl&gt;</th><th scope=col>&lt;dbl&gt;</th><th scope=col>&lt;fct&gt;</th><th scope=col>&lt;int&gt;</th><th scope=col>&lt;fct&gt;</th><th scope=col>&lt;int&gt;</th><th scope=col>&lt;int&gt;</th><th scope=col>&lt;fct&gt;</th><th scope=col>&lt;int&gt;</th><th scope=col>&lt;int&gt;</th><th scope=col>&lt;int&gt;</th><th scope=col>&lt;int&gt;</th><th scope=col>&lt;int&gt;</th><th scope=col>&lt;int&gt;</th><th scope=col>&lt;int&gt;</th></tr>\n",
       "</thead>\n",
       "<tbody>\n",
       "\t<tr><th scope=row>1</th><td>1000</td><td>203</td><td>82</td><td>56</td><td>3.6</td><td>4.31</td><td>Buckingham</td><td>46</td><td>female</td><td>62</td><td>121</td><td>medium</td><td>118</td><td>59</td><td> NA</td><td>NA</td><td>29</td><td>38</td><td>720</td></tr>\n",
       "\t<tr><th scope=row>2</th><td>1001</td><td>165</td><td>97</td><td>24</td><td>6.9</td><td>4.44</td><td>Buckingham</td><td>29</td><td>female</td><td>64</td><td>218</td><td>large </td><td>112</td><td>68</td><td> NA</td><td>NA</td><td>46</td><td>48</td><td>360</td></tr>\n",
       "\t<tr><th scope=row>3</th><td>1002</td><td>228</td><td>92</td><td>37</td><td>6.2</td><td>4.64</td><td>Buckingham</td><td>58</td><td>female</td><td>61</td><td>256</td><td>large </td><td>190</td><td>92</td><td>185</td><td>92</td><td>49</td><td>57</td><td>180</td></tr>\n",
       "\t<tr><th scope=row>4</th><td>1003</td><td> 78</td><td>93</td><td>12</td><td>6.5</td><td>4.63</td><td>Buckingham</td><td>67</td><td>male  </td><td>67</td><td>119</td><td>large </td><td>110</td><td>50</td><td> NA</td><td>NA</td><td>33</td><td>38</td><td>480</td></tr>\n",
       "\t<tr><th scope=row>5</th><td>1005</td><td>249</td><td>90</td><td>28</td><td>8.9</td><td>7.72</td><td>Buckingham</td><td>64</td><td>male  </td><td>68</td><td>183</td><td>medium</td><td>138</td><td>80</td><td> NA</td><td>NA</td><td>44</td><td>41</td><td>300</td></tr>\n",
       "\t<tr><th scope=row>6</th><td>1008</td><td>248</td><td>94</td><td>69</td><td>3.6</td><td>4.81</td><td>Buckingham</td><td>34</td><td>male  </td><td>71</td><td>190</td><td>large </td><td>132</td><td>86</td><td> NA</td><td>NA</td><td>36</td><td>42</td><td>195</td></tr>\n",
       "</tbody>\n",
       "</table>\n"
      ],
      "text/latex": [
       "A data.frame: 6 × 19\n",
       "\\begin{tabular}{r|lllllllllllllllllll}\n",
       "  & id & chol & stab.glu & hdl & ratio & glyhb & location & age & gender & height & weight & frame & bp.1s & bp.1d & bp.2s & bp.2d & waist & hip & time.ppn\\\\\n",
       "  & <int> & <int> & <int> & <int> & <dbl> & <dbl> & <fct> & <int> & <fct> & <int> & <int> & <fct> & <int> & <int> & <int> & <int> & <int> & <int> & <int>\\\\\n",
       "\\hline\n",
       "\t1 & 1000 & 203 & 82 & 56 & 3.6 & 4.31 & Buckingham & 46 & female & 62 & 121 & medium & 118 & 59 &  NA & NA & 29 & 38 & 720\\\\\n",
       "\t2 & 1001 & 165 & 97 & 24 & 6.9 & 4.44 & Buckingham & 29 & female & 64 & 218 & large  & 112 & 68 &  NA & NA & 46 & 48 & 360\\\\\n",
       "\t3 & 1002 & 228 & 92 & 37 & 6.2 & 4.64 & Buckingham & 58 & female & 61 & 256 & large  & 190 & 92 & 185 & 92 & 49 & 57 & 180\\\\\n",
       "\t4 & 1003 &  78 & 93 & 12 & 6.5 & 4.63 & Buckingham & 67 & male   & 67 & 119 & large  & 110 & 50 &  NA & NA & 33 & 38 & 480\\\\\n",
       "\t5 & 1005 & 249 & 90 & 28 & 8.9 & 7.72 & Buckingham & 64 & male   & 68 & 183 & medium & 138 & 80 &  NA & NA & 44 & 41 & 300\\\\\n",
       "\t6 & 1008 & 248 & 94 & 69 & 3.6 & 4.81 & Buckingham & 34 & male   & 71 & 190 & large  & 132 & 86 &  NA & NA & 36 & 42 & 195\\\\\n",
       "\\end{tabular}\n"
      ],
      "text/markdown": [
       "\n",
       "A data.frame: 6 × 19\n",
       "\n",
       "| <!--/--> | id &lt;int&gt; | chol &lt;int&gt; | stab.glu &lt;int&gt; | hdl &lt;int&gt; | ratio &lt;dbl&gt; | glyhb &lt;dbl&gt; | location &lt;fct&gt; | age &lt;int&gt; | gender &lt;fct&gt; | height &lt;int&gt; | weight &lt;int&gt; | frame &lt;fct&gt; | bp.1s &lt;int&gt; | bp.1d &lt;int&gt; | bp.2s &lt;int&gt; | bp.2d &lt;int&gt; | waist &lt;int&gt; | hip &lt;int&gt; | time.ppn &lt;int&gt; |\n",
       "|---|---|---|---|---|---|---|---|---|---|---|---|---|---|---|---|---|---|---|---|\n",
       "| 1 | 1000 | 203 | 82 | 56 | 3.6 | 4.31 | Buckingham | 46 | female | 62 | 121 | medium | 118 | 59 |  NA | NA | 29 | 38 | 720 |\n",
       "| 2 | 1001 | 165 | 97 | 24 | 6.9 | 4.44 | Buckingham | 29 | female | 64 | 218 | large  | 112 | 68 |  NA | NA | 46 | 48 | 360 |\n",
       "| 3 | 1002 | 228 | 92 | 37 | 6.2 | 4.64 | Buckingham | 58 | female | 61 | 256 | large  | 190 | 92 | 185 | 92 | 49 | 57 | 180 |\n",
       "| 4 | 1003 |  78 | 93 | 12 | 6.5 | 4.63 | Buckingham | 67 | male   | 67 | 119 | large  | 110 | 50 |  NA | NA | 33 | 38 | 480 |\n",
       "| 5 | 1005 | 249 | 90 | 28 | 8.9 | 7.72 | Buckingham | 64 | male   | 68 | 183 | medium | 138 | 80 |  NA | NA | 44 | 41 | 300 |\n",
       "| 6 | 1008 | 248 | 94 | 69 | 3.6 | 4.81 | Buckingham | 34 | male   | 71 | 190 | large  | 132 | 86 |  NA | NA | 36 | 42 | 195 |\n",
       "\n"
      ],
      "text/plain": [
       "  id   chol stab.glu hdl ratio glyhb location   age gender height weight frame \n",
       "1 1000 203  82       56  3.6   4.31  Buckingham 46  female 62     121    medium\n",
       "2 1001 165  97       24  6.9   4.44  Buckingham 29  female 64     218    large \n",
       "3 1002 228  92       37  6.2   4.64  Buckingham 58  female 61     256    large \n",
       "4 1003  78  93       12  6.5   4.63  Buckingham 67  male   67     119    large \n",
       "5 1005 249  90       28  8.9   7.72  Buckingham 64  male   68     183    medium\n",
       "6 1008 248  94       69  3.6   4.81  Buckingham 34  male   71     190    large \n",
       "  bp.1s bp.1d bp.2s bp.2d waist hip time.ppn\n",
       "1 118   59     NA   NA    29    38  720     \n",
       "2 112   68     NA   NA    46    48  360     \n",
       "3 190   92    185   92    49    57  180     \n",
       "4 110   50     NA   NA    33    38  480     \n",
       "5 138   80     NA   NA    44    41  300     \n",
       "6 132   86     NA   NA    36    42  195     "
      ]
     },
     "metadata": {},
     "output_type": "display_data"
    }
   ],
   "source": [
    "head(diabetes)"
   ]
  },
  {
   "cell_type": "code",
   "execution_count": 4,
   "id": "61159574-f599-4a6d-b0f6-0d6ce2bf278d",
   "metadata": {},
   "outputs": [
    {
     "data": {
      "text/plain": [
       "       id             chol          stab.glu          hdl        \n",
       " Min.   : 1000   Min.   : 78.0   Min.   : 48.0   Min.   : 12.00  \n",
       " 1st Qu.: 4792   1st Qu.:179.0   1st Qu.: 81.0   1st Qu.: 38.00  \n",
       " Median :15766   Median :204.0   Median : 89.0   Median : 46.00  \n",
       " Mean   :15978   Mean   :207.8   Mean   :106.7   Mean   : 50.45  \n",
       " 3rd Qu.:20336   3rd Qu.:230.0   3rd Qu.:106.0   3rd Qu.: 59.00  \n",
       " Max.   :41756   Max.   :443.0   Max.   :385.0   Max.   :120.00  \n",
       "                 NA's   :1                       NA's   :1       \n",
       "     ratio            glyhb             location        age           gender   \n",
       " Min.   : 1.500   Min.   : 2.68   Buckingham:200   Min.   :19.00   male  :169  \n",
       " 1st Qu.: 3.200   1st Qu.: 4.38   Louisa    :203   1st Qu.:34.00   female:234  \n",
       " Median : 4.200   Median : 4.84                    Median :45.00               \n",
       " Mean   : 4.522   Mean   : 5.59                    Mean   :46.85               \n",
       " 3rd Qu.: 5.400   3rd Qu.: 5.60                    3rd Qu.:60.00               \n",
       " Max.   :19.300   Max.   :16.11                    Max.   :92.00               \n",
       " NA's   :1        NA's   :13                                                   \n",
       "     height          weight         frame         bp.1s           bp.1d       \n",
       " Min.   :52.00   Min.   : 99.0   small :104   Min.   : 90.0   Min.   : 48.00  \n",
       " 1st Qu.:63.00   1st Qu.:151.0   medium:184   1st Qu.:121.2   1st Qu.: 75.00  \n",
       " Median :66.00   Median :172.5   large :103   Median :136.0   Median : 82.00  \n",
       " Mean   :66.02   Mean   :177.6   NA's  : 12   Mean   :136.9   Mean   : 83.32  \n",
       " 3rd Qu.:69.00   3rd Qu.:200.0                3rd Qu.:146.8   3rd Qu.: 90.00  \n",
       " Max.   :76.00   Max.   :325.0                Max.   :250.0   Max.   :124.00  \n",
       " NA's   :5       NA's   :1                    NA's   :5       NA's   :5       \n",
       "     bp.2s           bp.2d            waist           hip       \n",
       " Min.   :110.0   Min.   : 60.00   Min.   :26.0   Min.   :30.00  \n",
       " 1st Qu.:138.0   1st Qu.: 84.00   1st Qu.:33.0   1st Qu.:39.00  \n",
       " Median :149.0   Median : 92.00   Median :37.0   Median :42.00  \n",
       " Mean   :152.4   Mean   : 92.52   Mean   :37.9   Mean   :43.04  \n",
       " 3rd Qu.:161.0   3rd Qu.:100.00   3rd Qu.:41.0   3rd Qu.:46.00  \n",
       " Max.   :238.0   Max.   :124.00   Max.   :56.0   Max.   :64.00  \n",
       " NA's   :262     NA's   :262      NA's   :2      NA's   :2      \n",
       "    time.ppn     \n",
       " Min.   :   5.0  \n",
       " 1st Qu.:  90.0  \n",
       " Median : 240.0  \n",
       " Mean   : 341.2  \n",
       " 3rd Qu.: 517.5  \n",
       " Max.   :1560.0  \n",
       " NA's   :3       "
      ]
     },
     "metadata": {},
     "output_type": "display_data"
    }
   ],
   "source": [
    "summary(diabetes)"
   ]
  },
  {
   "cell_type": "code",
   "execution_count": 5,
   "id": "d9a6bca9-4664-41cb-a321-d29596c6a9bb",
   "metadata": {},
   "outputs": [
    {
     "data": {
      "text/html": [
       "<table class=\"dataframe\">\n",
       "<caption>A data.frame: 1 × 14</caption>\n",
       "<thead>\n",
       "\t<tr><th scope=col>chol</th><th scope=col>hdl</th><th scope=col>ratio</th><th scope=col>glyhb</th><th scope=col>height</th><th scope=col>weight</th><th scope=col>frame</th><th scope=col>bp.1s</th><th scope=col>bp.1d</th><th scope=col>bp.2s</th><th scope=col>bp.2d</th><th scope=col>waist</th><th scope=col>hip</th><th scope=col>time.ppn</th></tr>\n",
       "\t<tr><th scope=col>&lt;int&gt;</th><th scope=col>&lt;int&gt;</th><th scope=col>&lt;int&gt;</th><th scope=col>&lt;int&gt;</th><th scope=col>&lt;int&gt;</th><th scope=col>&lt;int&gt;</th><th scope=col>&lt;int&gt;</th><th scope=col>&lt;int&gt;</th><th scope=col>&lt;int&gt;</th><th scope=col>&lt;int&gt;</th><th scope=col>&lt;int&gt;</th><th scope=col>&lt;int&gt;</th><th scope=col>&lt;int&gt;</th><th scope=col>&lt;int&gt;</th></tr>\n",
       "</thead>\n",
       "<tbody>\n",
       "\t<tr><td>1</td><td>1</td><td>1</td><td>13</td><td>5</td><td>1</td><td>12</td><td>5</td><td>5</td><td>262</td><td>262</td><td>2</td><td>2</td><td>3</td></tr>\n",
       "</tbody>\n",
       "</table>\n"
      ],
      "text/latex": [
       "A data.frame: 1 × 14\n",
       "\\begin{tabular}{llllllllllllll}\n",
       " chol & hdl & ratio & glyhb & height & weight & frame & bp.1s & bp.1d & bp.2s & bp.2d & waist & hip & time.ppn\\\\\n",
       " <int> & <int> & <int> & <int> & <int> & <int> & <int> & <int> & <int> & <int> & <int> & <int> & <int> & <int>\\\\\n",
       "\\hline\n",
       "\t 1 & 1 & 1 & 13 & 5 & 1 & 12 & 5 & 5 & 262 & 262 & 2 & 2 & 3\\\\\n",
       "\\end{tabular}\n"
      ],
      "text/markdown": [
       "\n",
       "A data.frame: 1 × 14\n",
       "\n",
       "| chol &lt;int&gt; | hdl &lt;int&gt; | ratio &lt;int&gt; | glyhb &lt;int&gt; | height &lt;int&gt; | weight &lt;int&gt; | frame &lt;int&gt; | bp.1s &lt;int&gt; | bp.1d &lt;int&gt; | bp.2s &lt;int&gt; | bp.2d &lt;int&gt; | waist &lt;int&gt; | hip &lt;int&gt; | time.ppn &lt;int&gt; |\n",
       "|---|---|---|---|---|---|---|---|---|---|---|---|---|---|\n",
       "| 1 | 1 | 1 | 13 | 5 | 1 | 12 | 5 | 5 | 262 | 262 | 2 | 2 | 3 |\n",
       "\n"
      ],
      "text/plain": [
       "  chol hdl ratio glyhb height weight frame bp.1s bp.1d bp.2s bp.2d waist hip\n",
       "1 1    1   1     13    5      1      12    5     5     262   262   2     2  \n",
       "  time.ppn\n",
       "1 3       "
      ]
     },
     "metadata": {},
     "output_type": "display_data"
    }
   ],
   "source": [
    "diabetes %>% summarise(across(everything(),~sum(is.na(.)))) %>% select(where(~ . > 0))"
   ]
  },
  {
   "cell_type": "code",
   "execution_count": 6,
   "id": "ff935e0f-a24b-49e9-9dbd-4660f70c355d",
   "metadata": {},
   "outputs": [
    {
     "data": {
      "image/png": "[encoded data removed]",
      "text/plain": [
       "plot without title"
      ]
     },
     "metadata": {
      "image/png": {
       "height": 420,
       "width": 420
      }
     },
     "output_type": "display_data"
    }
   ],
   "source": [
    "diabetes$diabetesT <- as.factor(ifelse(diabetes$glyhb >= 7, 1, 0))\n",
    "ggplot(data = diabetes, mapping = aes(x= diabetesT)) + \n",
    "geom_bar()\n"
   ]
  },
  {
   "cell_type": "code",
   "execution_count": 7,
   "id": "f8de7904-854c-4d14-8db4-b7c8a9255037",
   "metadata": {},
   "outputs": [
    {
     "data": {
      "image/png": "[encoded data removed]",
      "text/plain": [
       "Plot with title \"Histogram of glyhb\""
      ]
     },
     "metadata": {
      "image/png": {
       "height": 420,
       "width": 420
      }
     },
     "output_type": "display_data"
    }
   ],
   "source": [
    "hist(diabetes$glyhb, main=\"Histogram of glyhb\", xlab=\"glyhb\") "
   ]
  },
  {
   "cell_type": "code",
   "execution_count": 8,
   "id": "735fe4ce-6f41-490c-89bd-6b6fb24aa0d7",
   "metadata": {},
   "outputs": [
    {
     "data": {
      "image/png": "[encoded data removed]",
      "text/plain": [
       "Plot with title \"Log(glyhb) for diabetesT=1\""
      ]
     },
     "metadata": {
      "image/png": {
       "height": 420,
       "width": 420
      }
     },
     "output_type": "display_data"
    }
   ],
   "source": [
    "par(mfrow=c(1,2)) \n",
    "split_data <- split(log(diabetes$glyhb), diabetes$diabetesT)\n",
    "hist(split_data[[1]], main=\"Log(glyhb) for diabetesT=0\", xlab=\"log(glyhb)\")\n",
    "hist(split_data[[2]], main=\"Log(glyhb) for diabetesT=1\", xlab=\"log(glyhb)\")"
   ]
  },
  {
   "cell_type": "code",
   "execution_count": 9,
   "id": "b1db9a15-23e2-4d3f-a73c-b9f6d1046bba",
   "metadata": {},
   "outputs": [
    {
     "data": {
      "image/png": "[encoded data removed]",
      "text/plain": [
       "plot without title"
      ]
     },
     "metadata": {
      "image/png": {
       "height": 420,
       "width": 420
      }
     },
     "output_type": "display_data"
    }
   ],
   "source": [
    "diabetes_clean <- diabetes %>% \n",
    "  dplyr::select(-c(id, location, gender, frame, diabetesT)) %>% \n",
    "  filter(complete.cases(.))\n",
    "\n",
    "cor_matrix <- cor(diabetes_clean)\n",
    "diag(cor_matrix) <- 0 \n",
    "cor_data <- as.data.frame(as.table(cor_matrix))\n",
    "\n",
    "ggplot(cor_data, aes(Var1, Var2, fill = Freq)) +\n",
    "  geom_tile() +\n",
    "  scale_fill_gradient2(low = \"blue\", high = \"red\", mid = \"white\", \n",
    "                       midpoint = 0, limit = c(-1, 1), space = \"Lab\", \n",
    "                       name=\"Correlation\") +\n",
    "  theme_minimal() +\n",
    "  theme(axis.text.x = element_text(angle = 45, vjust = 1, \n",
    "                                   size = 12, hjust = 1)) +\n",
    "  coord_fixed()"
   ]
  },
  {
   "cell_type": "code",
   "execution_count": 10,
   "id": "f84d9ac5-f09d-4069-bdf3-5eeb9705db94",
   "metadata": {},
   "outputs": [],
   "source": [
    "diabetes_clean_T <- diabetes %>% \n",
    "  filter(diabetesT == 1) %>%\n",
    "  dplyr::select(-c(id, location, gender, frame, diabetesT)) %>% \n",
    "  filter(complete.cases(.))\n",
    "\n",
    "cor_matrix_T <- cor(diabetes_clean_T)\n",
    "diag(cor_matrix_T) <- 0 \n",
    "cor_data_T <- as.data.frame(as.table(cor_matrix_T))\n",
    "\n",
    "diabetes_clean_F <- diabetes %>% \n",
    "  filter(diabetesT == 0) %>%\n",
    "  dplyr::select(-c(id, location, gender, frame, diabetesT)) %>% \n",
    "  filter(complete.cases(.))\n",
    "\n",
    "cor_matrix_F <- cor(diabetes_clean_F)\n",
    "diag(cor_matrix_F) <- 0 \n",
    "cor_data_F <- as.data.frame(as.table(cor_matrix_F))"
   ]
  },
  {
   "cell_type": "code",
   "execution_count": 11,
   "id": "c9e2ac73-4d5e-4677-bee3-42aa708c2e82",
   "metadata": {},
   "outputs": [
    {
     "data": {
      "image/png": "[encoded data removed]",
      "text/plain": [
       "plot without title"
      ]
     },
     "metadata": {
      "image/png": {
       "height": 420,
       "width": 420
      }
     },
     "output_type": "display_data"
    }
   ],
   "source": [
    "ggplot(cor_data_F, aes(Var1, Var2, fill = Freq)) +\n",
    "  geom_tile() +\n",
    "  scale_fill_gradient2(low = \"blue\", high = \"red\", mid = \"white\", \n",
    "                       midpoint = 0, limit = c(-1, 1), space = \"Lab\", \n",
    "                       name=\"Correlation\") +\n",
    "  theme_minimal() +\n",
    "  theme(axis.text.x = element_text(angle = 45, vjust = 1, \n",
    "                                   size = 12, hjust = 1)) +\n",
    "  coord_fixed() +\n",
    "  ggtitle(\"Correlation of Non-Diabetes Patients\")"
   ]
  },
  {
   "cell_type": "code",
   "execution_count": 12,
   "id": "67e30d68-cc7b-4528-bac9-ee4b37f046f5",
   "metadata": {},
   "outputs": [
    {
     "data": {
      "image/png": "[encoded data removed]",
      "text/plain": [
       "plot without title"
      ]
     },
     "metadata": {
      "image/png": {
       "height": 420,
       "width": 420
      }
     },
     "output_type": "display_data"
    }
   ],
   "source": [
    "par(mfrow=c(1,2))\n",
    "\n",
    "ggplot(cor_data_T, aes(Var1, Var2, fill = Freq)) +\n",
    "  geom_tile() +\n",
    "  scale_fill_gradient2(low = \"blue\", high = \"red\", mid = \"white\", \n",
    "                       midpoint = 0, limit = c(-1, 1), space = \"Lab\", \n",
    "                       name=\"Correlation\") +\n",
    "  theme_minimal() +\n",
    "  theme(axis.text.x = element_text(angle = 45, vjust = 1, \n",
    "                                   size = 12, hjust = 1)) +\n",
    "  coord_fixed() +\n",
    "  ggtitle(\"Correlation of Diabetes Patients\")"
   ]
  },
  {
   "cell_type": "markdown",
   "id": "5360ed65-46d5-4bf5-beaf-4d1cb4e682fe",
   "metadata": {},
   "source": [
    "## Pre-Process"
   ]
  },
  {
   "cell_type": "code",
   "execution_count": 13,
   "id": "a866bccd-af36-4b1d-a9f8-693afdedd714",
   "metadata": {},
   "outputs": [],
   "source": [
    "diabetes.drop <- diabetes %>% filter(!is.na(glyhb)) %>% dplyr::select(-c(diabetesT, id))"
   ]
  },
  {
   "cell_type": "code",
   "execution_count": 14,
   "id": "02a9258b-e92d-4451-96cb-930d44f285fa",
   "metadata": {},
   "outputs": [],
   "source": [
    "X <- subset(diabetes.drop, select = -c(glyhb)) #%>% dummy_columns(remove_first_dummy = T, remove_selected_columns = T, ignore_na = T)\n",
    "y <- log(diabetes.drop$glyhb)"
   ]
  },
  {
   "cell_type": "code",
   "execution_count": 77,
   "id": "7c2d5c3b-1b30-44bb-8725-49798fb4755e",
   "metadata": {},
   "outputs": [],
   "source": [
    "X.subset <- X[train.indx,]; y.subset <- y[train.indx]\n",
    "Xy.subset <- cbind(X.subset, y.subset)"
   ]
  },
  {
   "cell_type": "code",
   "execution_count": 66,
   "id": "34cc9402-fe29-48b9-9dfc-d58792656e47",
   "metadata": {},
   "outputs": [],
   "source": [
    "recipe <- recipe(~ ., data = X) %>%\n",
    "  step_impute_knn(all_predictors()) %>% \n",
    "  step_normalize(all_numeric_predictors())  %>%\n",
    "  step_dummy(all_factor_predictors())"
   ]
  },
  {
   "cell_type": "code",
   "execution_count": 16,
   "id": "0cca6408-6a53-4433-9c09-71d7e542a58c",
   "metadata": {},
   "outputs": [],
   "source": [
    "prepared_recipe <- prep(recipe)\n",
    "diabetes.clean <- bake(prepared_recipe, new_data = NULL)"
   ]
  },
  {
   "cell_type": "code",
   "execution_count": 17,
   "id": "7ed8fb43-f0c9-4836-8ac0-d97d744a0f4a",
   "metadata": {},
   "outputs": [
    {
     "data": {
      "text/html": [
       "<table class=\"dataframe\">\n",
       "<caption>A tibble: 6 × 18</caption>\n",
       "<thead>\n",
       "\t<tr><th scope=col>chol</th><th scope=col>stab.glu</th><th scope=col>hdl</th><th scope=col>ratio</th><th scope=col>age</th><th scope=col>height</th><th scope=col>weight</th><th scope=col>bp.1s</th><th scope=col>bp.1d</th><th scope=col>bp.2s</th><th scope=col>bp.2d</th><th scope=col>waist</th><th scope=col>hip</th><th scope=col>time.ppn</th><th scope=col>location_Louisa</th><th scope=col>gender_female</th><th scope=col>frame_medium</th><th scope=col>frame_large</th></tr>\n",
       "\t<tr><th scope=col>&lt;dbl&gt;</th><th scope=col>&lt;dbl&gt;</th><th scope=col>&lt;dbl&gt;</th><th scope=col>&lt;dbl&gt;</th><th scope=col>&lt;dbl&gt;</th><th scope=col>&lt;dbl&gt;</th><th scope=col>&lt;dbl&gt;</th><th scope=col>&lt;dbl&gt;</th><th scope=col>&lt;dbl&gt;</th><th scope=col>&lt;dbl&gt;</th><th scope=col>&lt;dbl&gt;</th><th scope=col>&lt;dbl&gt;</th><th scope=col>&lt;dbl&gt;</th><th scope=col>&lt;dbl&gt;</th><th scope=col>&lt;dbl&gt;</th><th scope=col>&lt;dbl&gt;</th><th scope=col>&lt;dbl&gt;</th><th scope=col>&lt;dbl&gt;</th></tr>\n",
       "</thead>\n",
       "<tbody>\n",
       "\t<tr><td>-0.09393653</td><td>-0.4709910</td><td> 0.3301899</td><td>-0.5307872</td><td>-0.04711384</td><td>-1.0108656</td><td>-1.3939480</td><td>-0.8298859</td><td>-1.7896547</td><td>-0.461453967</td><td>-1.94732913</td><td>-1.5476112</td><td>-0.8932065</td><td> 1.24223986</td><td>0</td><td>1</td><td>1</td><td>0</td></tr>\n",
       "\t<tr><td>-0.94435765</td><td>-0.1921712</td><td>-1.5210095</td><td> 1.3679372</td><td>-1.08143433</td><td>-0.4995328</td><td> 1.0071563</td><td>-1.0916725</td><td>-1.1254178</td><td> 0.602259647</td><td>-0.55173241</td><td> 1.4076487</td><td> 0.8813760</td><td> 0.07438816</td><td>0</td><td>1</td><td>0</td><td>1</td></tr>\n",
       "\t<tr><td> 0.46555105</td><td>-0.2851111</td><td>-0.7689597</td><td> 0.9651774</td><td> 0.68299474</td><td>-1.2665320</td><td> 1.9477951</td><td> 2.3115533</td><td> 0.6458805</td><td> 2.463758472</td><td> 0.08262974</td><td> 1.9291652</td><td> 2.4785002</td><td>-0.50953769</td><td>0</td><td>1</td><td>0</td><td>1</td></tr>\n",
       "\t<tr><td>-2.89137443</td><td>-0.2665231</td><td>-2.2152092</td><td> 1.1377888</td><td> 1.23057617</td><td> 0.2674664</td><td>-1.4434553</td><td>-1.1789347</td><td>-2.4538916</td><td>-0.394971866</td><td>-0.55173241</td><td>-0.8522560</td><td>-0.8932065</td><td> 0.46367206</td><td>0</td><td>0</td><td>0</td><td>1</td></tr>\n",
       "\t<tr><td> 0.93552062</td><td>-0.3222871</td><td>-1.2896095</td><td> 2.5186790</td><td> 1.04804903</td><td> 0.5231328</td><td> 0.1407785</td><td> 0.0427361</td><td>-0.2397687</td><td> 0.003920739</td><td>-0.67860484</td><td> 1.0599711</td><td>-0.3608318</td><td>-0.12025379</td><td>0</td><td>0</td><td>1</td><td>0</td></tr>\n",
       "\t<tr><td> 0.91314111</td><td>-0.2479351</td><td> 1.0822396</td><td>-0.5307872</td><td>-0.77722242</td><td> 1.2901320</td><td> 0.3140540</td><td>-0.2190505</td><td> 0.2030559</td><td>-0.062561362</td><td> 0.59011945</td><td>-0.3307395</td><td>-0.1833735</td><td>-0.46087720</td><td>0</td><td>0</td><td>0</td><td>1</td></tr>\n",
       "</tbody>\n",
       "</table>\n"
      ],
      "text/latex": [
       "A tibble: 6 × 18\n",
       "\\begin{tabular}{llllllllllllllllll}\n",
       " chol & stab.glu & hdl & ratio & age & height & weight & bp.1s & bp.1d & bp.2s & bp.2d & waist & hip & time.ppn & location\\_Louisa & gender\\_female & frame\\_medium & frame\\_large\\\\\n",
       " <dbl> & <dbl> & <dbl> & <dbl> & <dbl> & <dbl> & <dbl> & <dbl> & <dbl> & <dbl> & <dbl> & <dbl> & <dbl> & <dbl> & <dbl> & <dbl> & <dbl> & <dbl>\\\\\n",
       "\\hline\n",
       "\t -0.09393653 & -0.4709910 &  0.3301899 & -0.5307872 & -0.04711384 & -1.0108656 & -1.3939480 & -0.8298859 & -1.7896547 & -0.461453967 & -1.94732913 & -1.5476112 & -0.8932065 &  1.24223986 & 0 & 1 & 1 & 0\\\\\n",
       "\t -0.94435765 & -0.1921712 & -1.5210095 &  1.3679372 & -1.08143433 & -0.4995328 &  1.0071563 & -1.0916725 & -1.1254178 &  0.602259647 & -0.55173241 &  1.4076487 &  0.8813760 &  0.07438816 & 0 & 1 & 0 & 1\\\\\n",
       "\t  0.46555105 & -0.2851111 & -0.7689597 &  0.9651774 &  0.68299474 & -1.2665320 &  1.9477951 &  2.3115533 &  0.6458805 &  2.463758472 &  0.08262974 &  1.9291652 &  2.4785002 & -0.50953769 & 0 & 1 & 0 & 1\\\\\n",
       "\t -2.89137443 & -0.2665231 & -2.2152092 &  1.1377888 &  1.23057617 &  0.2674664 & -1.4434553 & -1.1789347 & -2.4538916 & -0.394971866 & -0.55173241 & -0.8522560 & -0.8932065 &  0.46367206 & 0 & 0 & 0 & 1\\\\\n",
       "\t  0.93552062 & -0.3222871 & -1.2896095 &  2.5186790 &  1.04804903 &  0.5231328 &  0.1407785 &  0.0427361 & -0.2397687 &  0.003920739 & -0.67860484 &  1.0599711 & -0.3608318 & -0.12025379 & 0 & 0 & 1 & 0\\\\\n",
       "\t  0.91314111 & -0.2479351 &  1.0822396 & -0.5307872 & -0.77722242 &  1.2901320 &  0.3140540 & -0.2190505 &  0.2030559 & -0.062561362 &  0.59011945 & -0.3307395 & -0.1833735 & -0.46087720 & 0 & 0 & 0 & 1\\\\\n",
       "\\end{tabular}\n"
      ],
      "text/markdown": [
       "\n",
       "A tibble: 6 × 18\n",
       "\n",
       "| chol &lt;dbl&gt; | stab.glu &lt;dbl&gt; | hdl &lt;dbl&gt; | ratio &lt;dbl&gt; | age &lt;dbl&gt; | height &lt;dbl&gt; | weight &lt;dbl&gt; | bp.1s &lt;dbl&gt; | bp.1d &lt;dbl&gt; | bp.2s &lt;dbl&gt; | bp.2d &lt;dbl&gt; | waist &lt;dbl&gt; | hip &lt;dbl&gt; | time.ppn &lt;dbl&gt; | location_Louisa &lt;dbl&gt; | gender_female &lt;dbl&gt; | frame_medium &lt;dbl&gt; | frame_large &lt;dbl&gt; |\n",
       "|---|---|---|---|---|---|---|---|---|---|---|---|---|---|---|---|---|---|\n",
       "| -0.09393653 | -0.4709910 |  0.3301899 | -0.5307872 | -0.04711384 | -1.0108656 | -1.3939480 | -0.8298859 | -1.7896547 | -0.461453967 | -1.94732913 | -1.5476112 | -0.8932065 |  1.24223986 | 0 | 1 | 1 | 0 |\n",
       "| -0.94435765 | -0.1921712 | -1.5210095 |  1.3679372 | -1.08143433 | -0.4995328 |  1.0071563 | -1.0916725 | -1.1254178 |  0.602259647 | -0.55173241 |  1.4076487 |  0.8813760 |  0.07438816 | 0 | 1 | 0 | 1 |\n",
       "|  0.46555105 | -0.2851111 | -0.7689597 |  0.9651774 |  0.68299474 | -1.2665320 |  1.9477951 |  2.3115533 |  0.6458805 |  2.463758472 |  0.08262974 |  1.9291652 |  2.4785002 | -0.50953769 | 0 | 1 | 0 | 1 |\n",
       "| -2.89137443 | -0.2665231 | -2.2152092 |  1.1377888 |  1.23057617 |  0.2674664 | -1.4434553 | -1.1789347 | -2.4538916 | -0.394971866 | -0.55173241 | -0.8522560 | -0.8932065 |  0.46367206 | 0 | 0 | 0 | 1 |\n",
       "|  0.93552062 | -0.3222871 | -1.2896095 |  2.5186790 |  1.04804903 |  0.5231328 |  0.1407785 |  0.0427361 | -0.2397687 |  0.003920739 | -0.67860484 |  1.0599711 | -0.3608318 | -0.12025379 | 0 | 0 | 1 | 0 |\n",
       "|  0.91314111 | -0.2479351 |  1.0822396 | -0.5307872 | -0.77722242 |  1.2901320 |  0.3140540 | -0.2190505 |  0.2030559 | -0.062561362 |  0.59011945 | -0.3307395 | -0.1833735 | -0.46087720 | 0 | 0 | 0 | 1 |\n",
       "\n"
      ],
      "text/plain": [
       "  chol        stab.glu   hdl        ratio      age         height    \n",
       "1 -0.09393653 -0.4709910  0.3301899 -0.5307872 -0.04711384 -1.0108656\n",
       "2 -0.94435765 -0.1921712 -1.5210095  1.3679372 -1.08143433 -0.4995328\n",
       "3  0.46555105 -0.2851111 -0.7689597  0.9651774  0.68299474 -1.2665320\n",
       "4 -2.89137443 -0.2665231 -2.2152092  1.1377888  1.23057617  0.2674664\n",
       "5  0.93552062 -0.3222871 -1.2896095  2.5186790  1.04804903  0.5231328\n",
       "6  0.91314111 -0.2479351  1.0822396 -0.5307872 -0.77722242  1.2901320\n",
       "  weight     bp.1s      bp.1d      bp.2s        bp.2d       waist     \n",
       "1 -1.3939480 -0.8298859 -1.7896547 -0.461453967 -1.94732913 -1.5476112\n",
       "2  1.0071563 -1.0916725 -1.1254178  0.602259647 -0.55173241  1.4076487\n",
       "3  1.9477951  2.3115533  0.6458805  2.463758472  0.08262974  1.9291652\n",
       "4 -1.4434553 -1.1789347 -2.4538916 -0.394971866 -0.55173241 -0.8522560\n",
       "5  0.1407785  0.0427361 -0.2397687  0.003920739 -0.67860484  1.0599711\n",
       "6  0.3140540 -0.2190505  0.2030559 -0.062561362  0.59011945 -0.3307395\n",
       "  hip        time.ppn    location_Louisa gender_female frame_medium frame_large\n",
       "1 -0.8932065  1.24223986 0               1             1            0          \n",
       "2  0.8813760  0.07438816 0               1             0            1          \n",
       "3  2.4785002 -0.50953769 0               1             0            1          \n",
       "4 -0.8932065  0.46367206 0               0             0            1          \n",
       "5 -0.3608318 -0.12025379 0               0             1            0          \n",
       "6 -0.1833735 -0.46087720 0               0             0            1          "
      ]
     },
     "metadata": {},
     "output_type": "display_data"
    },
    {
     "data": {
      "image/png": "[encoded data removed]",
      "text/plain": [
       "plot without title"
      ]
     },
     "metadata": {
      "image/png": {
       "height": 420,
       "width": 420
      }
     },
     "output_type": "display_data"
    }
   ],
   "source": [
    "vis_miss(diabetes.clean)\n",
    "head(diabetes.clean)"
   ]
  },
  {
   "cell_type": "markdown",
   "id": "60cc764e-272a-46a7-9c9f-8877db55f3da",
   "metadata": {},
   "source": [
    "## Regression  Model"
   ]
  },
  {
   "cell_type": "code",
   "execution_count": 18,
   "id": "50471547-7606-4bb6-89de-cfcc8c6d4b34",
   "metadata": {},
   "outputs": [],
   "source": [
    "set.seed(42)\n",
    "train.indx <- createDataPartition(y = y, p = .8, list = FALSE)"
   ]
  },
  {
   "cell_type": "code",
   "execution_count": 19,
   "id": "96335fd6-cd77-49ec-b0f2-c2ca5f488bd5",
   "metadata": {},
   "outputs": [],
   "source": [
    "X.train <-diabetes.clean[train.indx,]\n",
    "X.test <- diabetes.clean[-train.indx,]\n",
    "\n",
    "y.train <- y[train.indx] \n",
    "y.test <- y[-train.indx]\n",
    "\n",
    "Xy.train <- cbind(X.train, y.train)\n",
    "Xy.test <- cbind(X.test, y.test)"
   ]
  },
  {
   "cell_type": "code",
   "execution_count": 20,
   "id": "0ac23192-56e5-4c39-9208-884c890d9a0f",
   "metadata": {},
   "outputs": [],
   "source": [
    "linear.model <- lm(y.train~., data = Xy.train)"
   ]
  },
  {
   "cell_type": "code",
   "execution_count": 21,
   "id": "6d5b1926-d449-4bea-9eb7-5af7560018bb",
   "metadata": {},
   "outputs": [
    {
     "data": {
      "text/plain": [
       "\n",
       "Call:\n",
       "lm(formula = y.train ~ ., data = Xy.train)\n",
       "\n",
       "Residuals:\n",
       "     Min       1Q   Median       3Q      Max \n",
       "-0.97412 -0.11028 -0.01357  0.09243  1.09316 \n",
       "\n",
       "Coefficients:\n",
       "                 Estimate Std. Error t value Pr(>|t|)    \n",
       "(Intercept)      1.671134   0.041306  40.458  < 2e-16 ***\n",
       "chol             0.026645   0.024169   1.102  0.27116    \n",
       "stab.glu         0.183913   0.012788  14.381  < 2e-16 ***\n",
       "hdl             -0.012552   0.028770  -0.436  0.66295    \n",
       "ratio            0.024986   0.031278   0.799  0.42502    \n",
       "age              0.046953   0.016209   2.897  0.00405 ** \n",
       "height           0.008738   0.018892   0.463  0.64404    \n",
       "weight          -0.015397   0.034045  -0.452  0.65142    \n",
       "bp.1s            0.029869   0.021923   1.362  0.17408    \n",
       "bp.1d           -0.012647   0.018407  -0.687  0.49260    \n",
       "bp.2s           -0.020080   0.018543  -1.083  0.27974    \n",
       "bp.2d           -0.002283   0.016608  -0.137  0.89075    \n",
       "waist            0.029838   0.027855   1.071  0.28495    \n",
       "hip              0.003148   0.030907   0.102  0.91895    \n",
       "time.ppn         0.031271   0.012466   2.508  0.01266 *  \n",
       "location_Louisa -0.023962   0.025420  -0.943  0.34664    \n",
       "gender_female    0.019334   0.038962   0.496  0.62011    \n",
       "frame_medium    -0.001240   0.031745  -0.039  0.96887    \n",
       "frame_large     -0.032156   0.043214  -0.744  0.45740    \n",
       "---\n",
       "Signif. codes:  0 '***' 0.001 '**' 0.01 '*' 0.05 '.' 0.1 ' ' 1\n",
       "\n",
       "Residual standard error: 0.2109 on 295 degrees of freedom\n",
       "Multiple R-squared:  0.5766,\tAdjusted R-squared:  0.5508 \n",
       "F-statistic: 22.32 on 18 and 295 DF,  p-value: < 2.2e-16\n"
      ]
     },
     "metadata": {},
     "output_type": "display_data"
    }
   ],
   "source": [
    "summary(linear.model)"
   ]
  },
  {
   "cell_type": "code",
   "execution_count": 27,
   "id": "09d7471a-ee7c-4a99-9d7a-4f3fcb3d0331",
   "metadata": {},
   "outputs": [],
   "source": [
    "linear.model.interactions <- lm(y.train~stab.glu + age + time.ppn + bp.1d*chol+ gender_female, data = Xy.train)"
   ]
  },
  {
   "cell_type": "code",
   "execution_count": 37,
   "id": "966b3a4b-3e99-4f23-b5d4-a8696ad51d5f",
   "metadata": {},
   "outputs": [],
   "source": [
    "interactions <- model.matrix(~(.)^2-1, data = X.train)"
   ]
  },
  {
   "cell_type": "code",
   "execution_count": 64,
   "id": "5edb017c-12de-4352-a002-1bc2e04f78c4",
   "metadata": {},
   "outputs": [
    {
     "name": "stderr",
     "output_type": "stream",
     "text": [
      "Warning message in leaps.setup(x, y, wt = weights, nbest = nbest, nvmax = nvmax, :\n",
      "\"1  linear dependencies found\"\n"
     ]
    }
   ],
   "source": [
    "subset.model <- summary(regsubsets(x = interactions, y= y.train, method = \"backward\"))"
   ]
  },
  {
   "cell_type": "code",
   "execution_count": 90,
   "id": "2f966ab9-804e-4dda-8e83-9b089c78a1b8",
   "metadata": {},
   "outputs": [
    {
     "data": {
      "text/html": [
       "<style>\n",
       ".list-inline {list-style: none; margin:0; padding: 0}\n",
       ".list-inline>li {display: inline-block}\n",
       ".list-inline>li:not(:last-child)::after {content: \"\\00b7\"; padding: 0 .5ex}\n",
       "</style>\n",
       "<ol class=list-inline><li>'chol'</li><li>'height'</li><li>'stab.glu:bp.1s'</li><li>'stab.glu:waist'</li><li>'stab.glu:time.ppn'</li><li>'stab.glu:location_Louisa'</li><li>'stab.glu:gender_female'</li><li>'stab.glu:frame_medium'</li><li>'hip:location_Louisa'</li><li>'stab.glu'</li><li>'gender_female'</li><li>'location_Louisa'</li><li>'waist'</li><li>'bp.1s'</li><li>'frame_medium'</li></ol>\n"
      ],
      "text/latex": [
       "\\begin{enumerate*}\n",
       "\\item 'chol'\n",
       "\\item 'height'\n",
       "\\item 'stab.glu:bp.1s'\n",
       "\\item 'stab.glu:waist'\n",
       "\\item 'stab.glu:time.ppn'\n",
       "\\item 'stab.glu:location\\_Louisa'\n",
       "\\item 'stab.glu:gender\\_female'\n",
       "\\item 'stab.glu:frame\\_medium'\n",
       "\\item 'hip:location\\_Louisa'\n",
       "\\item 'stab.glu'\n",
       "\\item 'gender\\_female'\n",
       "\\item 'location\\_Louisa'\n",
       "\\item 'waist'\n",
       "\\item 'bp.1s'\n",
       "\\item 'frame\\_medium'\n",
       "\\end{enumerate*}\n"
      ],
      "text/markdown": [
       "1. 'chol'\n",
       "2. 'height'\n",
       "3. 'stab.glu:bp.1s'\n",
       "4. 'stab.glu:waist'\n",
       "5. 'stab.glu:time.ppn'\n",
       "6. 'stab.glu:location_Louisa'\n",
       "7. 'stab.glu:gender_female'\n",
       "8. 'stab.glu:frame_medium'\n",
       "9. 'hip:location_Louisa'\n",
       "10. 'stab.glu'\n",
       "11. 'gender_female'\n",
       "12. 'location_Louisa'\n",
       "13. 'waist'\n",
       "14. 'bp.1s'\n",
       "15. 'frame_medium'\n",
       "\n",
       "\n"
      ],
      "text/plain": [
       " [1] \"chol\"                     \"height\"                  \n",
       " [3] \"stab.glu:bp.1s\"           \"stab.glu:waist\"          \n",
       " [5] \"stab.glu:time.ppn\"        \"stab.glu:location_Louisa\"\n",
       " [7] \"stab.glu:gender_female\"   \"stab.glu:frame_medium\"   \n",
       " [9] \"hip:location_Louisa\"      \"stab.glu\"                \n",
       "[11] \"gender_female\"            \"location_Louisa\"         \n",
       "[13] \"waist\"                    \"bp.1s\"                   \n",
       "[15] \"frame_medium\"            "
      ]
     },
     "metadata": {},
     "output_type": "display_data"
    }
   ],
   "source": [
    "c(selected.variables,\"stab.glu\", \"gender_female\", \"location_Louisa\", \"waist\", \"bp.1s\", \"frame_medium\")"
   ]
  },
  {
   "cell_type": "code",
   "execution_count": 118,
   "id": "a36da9b7-121a-4ec8-8c6a-9aef68560cea",
   "metadata": {},
   "outputs": [
    {
     "name": "stdout",
     "output_type": "stream",
     "text": [
      "[1] \"chol\"                     \"height\"                  \n",
      "[3] \"stab.glu:bp.1s\"           \"stab.glu:waist\"          \n",
      "[5] \"stab.glu:time.ppn\"        \"stab.glu:location_Louisa\"\n",
      "[7] \"stab.glu:gender_female\"   \"stab.glu:frame_medium\"   \n",
      "[9] \"hip:location_Louisa\"     \n"
     ]
    },
    {
     "data": {
      "text/plain": [
       "\n",
       "Call:\n",
       "lm(formula = y.train ~ ., data = as.data.frame(X.train.selected))\n",
       "\n",
       "Residuals:\n",
       "    Min      1Q  Median      3Q     Max \n",
       "-0.6909 -0.1183 -0.0121  0.0947  1.1236 \n",
       "\n",
       "Coefficients:\n",
       "                             Estimate Std. Error t value Pr(>|t|)    \n",
       "(Intercept)                 1.6937825  0.0302720  55.952  < 2e-16 ***\n",
       "chol                        0.0357193  0.0126294   2.828  0.00500 ** \n",
       "height                     -0.0067671  0.0166311  -0.407  0.68438    \n",
       "`stab.glu:bp.1s`           -0.0210989  0.0164670  -1.281  0.20109    \n",
       "`stab.glu:waist`           -0.0121905  0.0157306  -0.775  0.43898    \n",
       "`stab.glu:time.ppn`         0.0582442  0.0142640   4.083 5.71e-05 ***\n",
       "`stab.glu:location_Louisa` -0.0126573  0.0280328  -0.452  0.65195    \n",
       "`stab.glu:gender_female`    0.0690592  0.0246125   2.806  0.00535 ** \n",
       "`stab.glu:frame_medium`     0.0243747  0.0259147   0.941  0.34769    \n",
       "`hip:location_Louisa`      -0.0122136  0.0215768  -0.566  0.57178    \n",
       "stab.glu                    0.1966396  0.0299855   6.558 2.41e-10 ***\n",
       "gender_female               0.0004725  0.0339297   0.014  0.98890    \n",
       "location_Louisa            -0.0537975  0.0249869  -2.153  0.03212 *  \n",
       "waist                       0.0235974  0.0151178   1.561  0.11961    \n",
       "bp.1s                       0.0126046  0.0128634   0.980  0.32794    \n",
       "frame_medium                0.0145011  0.0251229   0.577  0.56423    \n",
       "---\n",
       "Signif. codes:  0 '***' 0.001 '**' 0.01 '*' 0.05 '.' 0.1 ' ' 1\n",
       "\n",
       "Residual standard error: 0.2092 on 298 degrees of freedom\n",
       "Multiple R-squared:  0.579,\tAdjusted R-squared:  0.5579 \n",
       "F-statistic: 27.33 on 15 and 298 DF,  p-value: < 2.2e-16\n"
      ]
     },
     "metadata": {},
     "output_type": "display_data"
    }
   ],
   "source": [
    "best.model.index <- which.max(subset.model$adjr2)\n",
    "\n",
    "best.model.variables <- colnames(interactions)[subset.model$which[best.model.index,]]\n",
    "\n",
    "print(best.model.variables)\n",
    "\n",
    "selected.variables <- best.model.variables\n",
    "\n",
    "X.train.selected <- interactions[, c(selected.variables,\"stab.glu\", \"gender_female\", \"location_Louisa\", \"waist\", \"bp.1s\", \"frame_medium\"), drop = FALSE]\n",
    "\n",
    "final.model <- lm(y.train ~ . ,data = as.data.frame(X.train.selected))\n",
    "\n",
    "summary(final.model)"
   ]
  },
  {
   "cell_type": "markdown",
   "id": "91e49956-0391-40f2-9c92-b2fe57d1fc52",
   "metadata": {},
   "source": [
    "Gender and Stable Glucose: Females with higher stable glucose levels have significantly higher glyhb levels compared to males, suggesting a stronger relationship between stable glucose and glyhb for females.\n",
    "\n",
    "Location (Louisa): People in Louisa generally have lower glyhb levels, regardless of stable glucose levels.\n",
    "\n",
    "Stable Glucose (Overall): Stable glucose is a strong predictor of glyhb levels, significantly increasing glyhb irrespective of gender or location.\n",
    "\n",
    "Chol: Higher Higher glucose levels overall effect the glyhb levels by 1.03 units when all other vraibales are kept constant."
   ]
  },
  {
   "cell_type": "code",
   "execution_count": 93,
   "id": "7b30708f-09fd-45cd-b6c6-8b539a811598",
   "metadata": {},
   "outputs": [
    {
     "data": {
      "image/png": "[encoded data removed]",
      "text/plain": [
       "Plot with title \"\""
      ]
     },
     "metadata": {
      "image/png": {
       "height": 420,
       "width": 420
      }
     },
     "output_type": "display_data"
    },
    {
     "data": {
      "image/png": "[encoded data removed]",
      "text/plain": [
       "Plot with title \"\""
      ]
     },
     "metadata": {
      "image/png": {
       "height": 420,
       "width": 420
      }
     },
     "output_type": "display_data"
    },
    {
     "data": {
      "image/png": "[encoded data removed]",
      "text/plain": [
       "Plot with title \"\""
      ]
     },
     "metadata": {
      "image/png": {
       "height": 420,
       "width": 420
      }
     },
     "output_type": "display_data"
    },
    {
     "data": {
      "image/png": "[encoded data removed]",
      "text/plain": [
       "Plot with title \"\""
      ]
     },
     "metadata": {
      "image/png": {
       "height": 420,
       "width": 420
      }
     },
     "output_type": "display_data"
    }
   ],
   "source": [
    "plot(final.model)"
   ]
  },
  {
   "cell_type": "code",
   "execution_count": 96,
   "id": "f6f50b33-e87f-4e7d-8c40-4fd2dde3ef48",
   "metadata": {},
   "outputs": [],
   "source": [
    "interactions.test <- model.matrix(~(.)^2-1, data = X.test)\n",
    "\n",
    "X.test.selected <- as.data.frame(interactions.test[, c(selected.variables,\"stab.glu\", \"gender_female\", \"location_Louisa\", \"waist\", \"bp.1s\", \"frame_medium\"), drop = FALSE])"
   ]
  },
  {
   "cell_type": "code",
   "execution_count": 120,
   "id": "f9fd814d-dfa6-458a-914f-468acb3796f3",
   "metadata": {},
   "outputs": [
    {
     "data": {
      "text/html": [
       "1.02036628721831"
      ],
      "text/latex": [
       "1.02036628721831"
      ],
      "text/markdown": [
       "1.02036628721831"
      ],
      "text/plain": [
       "[1] 1.020366"
      ]
     },
     "metadata": {},
     "output_type": "display_data"
    }
   ],
   "source": [
    "y.hat <- predict(final.model, X.test.selected)\n",
    "sqrt(exp(mean((y.hat - y.test)^2)))"
   ]
  },
  {
   "cell_type": "code",
   "execution_count": 104,
   "id": "8bfcbc7e-fc5d-4ee2-816d-5e2f9c7b78d7",
   "metadata": {},
   "outputs": [
    {
     "data": {
      "image/png": "[encoded data removed]",
      "text/plain": [
       "Plot with title \"Real Distribution\""
      ]
     },
     "metadata": {
      "image/png": {
       "height": 420,
       "width": 420
      }
     },
     "output_type": "display_data"
    }
   ],
   "source": [
    "par(mfrow=c(1,2))\n",
    "hist(exp(y.hat), main = \"Prediction Distribution\")\n",
    "hist(exp(y.test), main = \"Real Distribution\")"
   ]
  },
  {
   "cell_type": "code",
   "execution_count": 102,
   "id": "050fcb91-3bbb-4eb7-8247-fc6dab50acea",
   "metadata": {},
   "outputs": [
    {
     "data": {
      "text/html": [
       "76"
      ],
      "text/latex": [
       "76"
      ],
      "text/markdown": [
       "76"
      ],
      "text/plain": [
       "[1] 76"
      ]
     },
     "metadata": {},
     "output_type": "display_data"
    }
   ],
   "source": [
    "length(exp(y.hat) >= 7)"
   ]
  },
  {
   "cell_type": "code",
   "execution_count": 103,
   "id": "d3caefaf-b4b9-4b6e-8e07-75bcaf656434",
   "metadata": {},
   "outputs": [
    {
     "data": {
      "text/html": [
       "76"
      ],
      "text/latex": [
       "76"
      ],
      "text/markdown": [
       "76"
      ],
      "text/plain": [
       "[1] 76"
      ]
     },
     "metadata": {},
     "output_type": "display_data"
    }
   ],
   "source": [
    "length(exp(y.test) > 7)"
   ]
  },
  {
   "cell_type": "code",
   "execution_count": null,
   "id": "947baa3f-81fa-494a-85a4-426593f2eb98",
   "metadata": {},
   "outputs": [],
   "source": []
  }
 ],
 "metadata": {
  "kernelspec": {
   "display_name": "R",
   "language": "R",
   "name": "ir"
  },
  "language_info": {
   "codemirror_mode": "r",
   "file_extension": ".r",
   "mimetype": "text/x-r-source",
   "name": "R",
   "pygments_lexer": "r",
   "version": "4.4.1"
  }
 },
 "nbformat": 4,
 "nbformat_minor": 5
}
