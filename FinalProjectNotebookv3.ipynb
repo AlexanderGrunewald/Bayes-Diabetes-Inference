{
 "cells": [
  {
   "cell_type": "raw",
   "id": "2d45f3af-fcd6-4807-88cd-c68bcb89ed80",
   "metadata": {},
   "source": [
    "---\n",
    "author: \"Alexander Grunewald, \"\n",
    "title: \"STT461: Final Project Notebook\"\n",
    "date: \"11.25.2024\"\n",
    "output: \n",
    "    pdf_document: default\n",
    "---"
   ]
  },
  {
   "cell_type": "code",
   "execution_count": 1,
   "id": "cc891eb3-ca60-4333-bd5d-a85b7f967459",
   "metadata": {},
   "outputs": [
    {
     "name": "stderr",
     "output_type": "stream",
     "text": [
      "Warning message:\n",
      "\"package 'dplyr' was built under R version 4.2.3\"\n",
      "\n",
      "Attaching package: 'dplyr'\n",
      "\n",
      "\n",
      "The following objects are masked from 'package:stats':\n",
      "\n",
      "    filter, lag\n",
      "\n",
      "\n",
      "The following objects are masked from 'package:base':\n",
      "\n",
      "    intersect, setdiff, setequal, union\n",
      "\n",
      "\n",
      "Warning message:\n",
      "\"package 'tidyverse' was built under R version 4.2.3\"\n",
      "Warning message:\n",
      "\"package 'ggplot2' was built under R version 4.2.3\"\n",
      "Warning message:\n",
      "\"package 'tibble' was built under R version 4.2.3\"\n",
      "Warning message:\n",
      "\"package 'tidyr' was built under R version 4.2.3\"\n",
      "Warning message:\n",
      "\"package 'readr' was built under R version 4.2.3\"\n",
      "Warning message:\n",
      "\"package 'purrr' was built under R version 4.2.3\"\n",
      "Warning message:\n",
      "\"package 'stringr' was built under R version 4.2.3\"\n",
      "Warning message:\n",
      "\"package 'lubridate' was built under R version 4.2.3\"\n",
      "── \u001b[1mAttaching core tidyverse packages\u001b[22m ──────────────────────────────────────────────────────────────── tidyverse 2.0.0 ──\n",
      "\u001b[32m✔\u001b[39m \u001b[34mforcats  \u001b[39m 1.0.0     \u001b[32m✔\u001b[39m \u001b[34mreadr    \u001b[39m 2.1.5\n",
      "\u001b[32m✔\u001b[39m \u001b[34mggplot2  \u001b[39m 3.5.1     \u001b[32m✔\u001b[39m \u001b[34mstringr  \u001b[39m 1.5.1\n",
      "\u001b[32m✔\u001b[39m \u001b[34mlubridate\u001b[39m 1.9.3     \u001b[32m✔\u001b[39m \u001b[34mtibble   \u001b[39m 3.2.1\n",
      "\u001b[32m✔\u001b[39m \u001b[34mpurrr    \u001b[39m 1.0.2     \u001b[32m✔\u001b[39m \u001b[34mtidyr    \u001b[39m 1.3.1\n",
      "── \u001b[1mConflicts\u001b[22m ────────────────────────────────────────────────────────────────────────────────── tidyverse_conflicts() ──\n",
      "\u001b[31m✖\u001b[39m \u001b[34mdplyr\u001b[39m::\u001b[32mfilter()\u001b[39m masks \u001b[34mstats\u001b[39m::filter()\n",
      "\u001b[31m✖\u001b[39m \u001b[34mdplyr\u001b[39m::\u001b[32mlag()\u001b[39m    masks \u001b[34mstats\u001b[39m::lag()\n",
      "\u001b[36mℹ\u001b[39m Use the conflicted package (\u001b[3m\u001b[34m<http://conflicted.r-lib.org/>\u001b[39m\u001b[23m) to force all conflicts to become errors\n",
      "Warning message:\n",
      "\"package 'VIM' was built under R version 4.2.3\"\n",
      "Loading required package: colorspace\n",
      "\n",
      "Loading required package: grid\n",
      "\n",
      "VIM is ready to use.\n",
      "\n",
      "\n",
      "Suggestions and bug-reports can be submitted at: https://github.com/statistikat/VIM/issues\n",
      "\n",
      "\n",
      "Attaching package: 'VIM'\n",
      "\n",
      "\n",
      "The following object is masked from 'package:datasets':\n",
      "\n",
      "    sleep\n",
      "\n",
      "\n",
      "Warning message:\n",
      "\"package 'faraway' was built under R version 4.2.3\"\n",
      "\n",
      "Attaching package: 'faraway'\n",
      "\n",
      "\n",
      "The following object is masked from 'package:VIM':\n",
      "\n",
      "    diabetes\n",
      "\n",
      "\n",
      "Warning message:\n",
      "\"package 'GGally' was built under R version 4.2.3\"\n",
      "Registered S3 method overwritten by 'GGally':\n",
      "  method from   \n",
      "  +.gg   ggplot2\n",
      "\n",
      "\n",
      "Attaching package: 'GGally'\n",
      "\n",
      "\n",
      "The following object is masked from 'package:faraway':\n",
      "\n",
      "    happy\n",
      "\n",
      "\n",
      "Warning message:\n",
      "\"package 'caret' was built under R version 4.2.3\"\n",
      "Loading required package: lattice\n",
      "\n",
      "\n",
      "Attaching package: 'lattice'\n",
      "\n",
      "\n",
      "The following object is masked from 'package:faraway':\n",
      "\n",
      "    melanoma\n",
      "\n",
      "\n",
      "\n",
      "Attaching package: 'caret'\n",
      "\n",
      "\n",
      "The following object is masked from 'package:purrr':\n",
      "\n",
      "    lift\n",
      "\n",
      "\n",
      "\n",
      "Attaching package: 'recipes'\n",
      "\n",
      "\n",
      "The following object is masked from 'package:VIM':\n",
      "\n",
      "    prepare\n",
      "\n",
      "\n",
      "The following object is masked from 'package:stringr':\n",
      "\n",
      "    fixed\n",
      "\n",
      "\n",
      "The following object is masked from 'package:stats':\n",
      "\n",
      "    step\n",
      "\n",
      "\n",
      "Warning message:\n",
      "\"package 'rstan' was built under R version 4.2.3\"\n",
      "Loading required package: StanHeaders\n",
      "\n",
      "\n",
      "rstan version 2.32.6 (Stan version 2.32.2)\n",
      "\n",
      "\n",
      "For execution on a local, multicore CPU with excess RAM we recommend calling\n",
      "options(mc.cores = parallel::detectCores()).\n",
      "To avoid recompilation of unchanged Stan programs, we recommend calling\n",
      "rstan_options(auto_write = TRUE)\n",
      "For within-chain threading using `reduce_sum()` or `map_rect()` Stan functions,\n",
      "change `threads_per_chain` option:\n",
      "rstan_options(threads_per_chain = 1)\n",
      "\n",
      "\n",
      "Do not specify '-march=native' in 'LOCAL_CPPFLAGS' or a Makevars file\n",
      "\n",
      "\n",
      "Attaching package: 'rstan'\n",
      "\n",
      "\n",
      "The following object is masked from 'package:tidyr':\n",
      "\n",
      "    extract\n",
      "\n",
      "\n",
      "Warning message:\n",
      "\"package 'tree' was built under R version 4.2.3\"\n",
      "Warning message:\n",
      "\"package 'bayesplot' was built under R version 4.2.3\"\n",
      "This is bayesplot version 1.11.1\n",
      "\n",
      "- Online documentation and vignettes at mc-stan.org/bayesplot\n",
      "\n",
      "- bayesplot theme set to bayesplot::theme_default()\n",
      "\n",
      "   * Does _not_ affect other ggplot2 plots\n",
      "\n",
      "   * See ?bayesplot_theme_set for details on theme setting\n",
      "\n"
     ]
    }
   ],
   "source": [
    "library(dplyr)\n",
    "library(tidyverse)\n",
    "library(VIM)\n",
    "library(faraway)\n",
    "library(ggplot2)\n",
    "library(naniar)\n",
    "library(GGally)\n",
    "library(caret)\n",
    "library(fastDummies)\n",
    "library(leaps)\n",
    "library(recipes)\n",
    "library(rstan)\n",
    "library(tree)\n",
    "library(bayesplot)\n",
    "library(mvtnorm)"
   ]
  },
  {
   "cell_type": "markdown",
   "id": "2e9e6aa7-f63e-46ea-a6b3-962722fffbbe",
   "metadata": {},
   "source": [
    "## Background\n",
    "403 African Americans were interviewed in a study to understand the prevalence of obesity, diabetes, and other cardiovascular risk factors in central Virginia. Glycosolated hemoglobin (glyhb) greater than 7.0 is usually taken as a positive diagnosis of diabetes. We are interested in identifying the most important predicotrs that contribute to a high glyhb level in african american patience while also creating a predictive model that accurately identifies patience with diabetes. \n",
    "\n",
    "\n",
    "### Questions to answer:\n",
    "- How much ades Age, Sex, and Location impact the glyhb levels in patients\n",
    "- Are there any interaction effects between waist, height, and hip that could explain glyhb levels."
   ]
  },
  {
   "cell_type": "code",
   "execution_count": 2,
   "id": "19df8050-0bef-491b-b11e-6543c3101165",
   "metadata": {},
   "outputs": [
    {
     "data": {
      "text/html": [
       "<table class=\"dataframe\">\n",
       "<caption>A data.frame: 6 × 19</caption>\n",
       "<thead>\n",
       "\t<tr><th></th><th scope=col>id</th><th scope=col>chol</th><th scope=col>stab.glu</th><th scope=col>hdl</th><th scope=col>ratio</th><th scope=col>glyhb</th><th scope=col>location</th><th scope=col>age</th><th scope=col>gender</th><th scope=col>height</th><th scope=col>weight</th><th scope=col>frame</th><th scope=col>bp.1s</th><th scope=col>bp.1d</th><th scope=col>bp.2s</th><th scope=col>bp.2d</th><th scope=col>waist</th><th scope=col>hip</th><th scope=col>time.ppn</th></tr>\n",
       "\t<tr><th></th><th scope=col>&lt;int&gt;</th><th scope=col>&lt;int&gt;</th><th scope=col>&lt;int&gt;</th><th scope=col>&lt;int&gt;</th><th scope=col>&lt;dbl&gt;</th><th scope=col>&lt;dbl&gt;</th><th scope=col>&lt;fct&gt;</th><th scope=col>&lt;int&gt;</th><th scope=col>&lt;fct&gt;</th><th scope=col>&lt;int&gt;</th><th scope=col>&lt;int&gt;</th><th scope=col>&lt;fct&gt;</th><th scope=col>&lt;int&gt;</th><th scope=col>&lt;int&gt;</th><th scope=col>&lt;int&gt;</th><th scope=col>&lt;int&gt;</th><th scope=col>&lt;int&gt;</th><th scope=col>&lt;int&gt;</th><th scope=col>&lt;int&gt;</th></tr>\n",
       "</thead>\n",
       "<tbody>\n",
       "\t<tr><th scope=row>1</th><td>1000</td><td>203</td><td>82</td><td>56</td><td>3.6</td><td>4.31</td><td>Buckingham</td><td>46</td><td>female</td><td>62</td><td>121</td><td>medium</td><td>118</td><td>59</td><td> NA</td><td>NA</td><td>29</td><td>38</td><td>720</td></tr>\n",
       "\t<tr><th scope=row>2</th><td>1001</td><td>165</td><td>97</td><td>24</td><td>6.9</td><td>4.44</td><td>Buckingham</td><td>29</td><td>female</td><td>64</td><td>218</td><td>large </td><td>112</td><td>68</td><td> NA</td><td>NA</td><td>46</td><td>48</td><td>360</td></tr>\n",
       "\t<tr><th scope=row>3</th><td>1002</td><td>228</td><td>92</td><td>37</td><td>6.2</td><td>4.64</td><td>Buckingham</td><td>58</td><td>female</td><td>61</td><td>256</td><td>large </td><td>190</td><td>92</td><td>185</td><td>92</td><td>49</td><td>57</td><td>180</td></tr>\n",
       "\t<tr><th scope=row>4</th><td>1003</td><td> 78</td><td>93</td><td>12</td><td>6.5</td><td>4.63</td><td>Buckingham</td><td>67</td><td>male  </td><td>67</td><td>119</td><td>large </td><td>110</td><td>50</td><td> NA</td><td>NA</td><td>33</td><td>38</td><td>480</td></tr>\n",
       "\t<tr><th scope=row>5</th><td>1005</td><td>249</td><td>90</td><td>28</td><td>8.9</td><td>7.72</td><td>Buckingham</td><td>64</td><td>male  </td><td>68</td><td>183</td><td>medium</td><td>138</td><td>80</td><td> NA</td><td>NA</td><td>44</td><td>41</td><td>300</td></tr>\n",
       "\t<tr><th scope=row>6</th><td>1008</td><td>248</td><td>94</td><td>69</td><td>3.6</td><td>4.81</td><td>Buckingham</td><td>34</td><td>male  </td><td>71</td><td>190</td><td>large </td><td>132</td><td>86</td><td> NA</td><td>NA</td><td>36</td><td>42</td><td>195</td></tr>\n",
       "</tbody>\n",
       "</table>\n"
      ],
      "text/latex": [
       "A data.frame: 6 × 19\n",
       "\\begin{tabular}{r|lllllllllllllllllll}\n",
       "  & id & chol & stab.glu & hdl & ratio & glyhb & location & age & gender & height & weight & frame & bp.1s & bp.1d & bp.2s & bp.2d & waist & hip & time.ppn\\\\\n",
       "  & <int> & <int> & <int> & <int> & <dbl> & <dbl> & <fct> & <int> & <fct> & <int> & <int> & <fct> & <int> & <int> & <int> & <int> & <int> & <int> & <int>\\\\\n",
       "\\hline\n",
       "\t1 & 1000 & 203 & 82 & 56 & 3.6 & 4.31 & Buckingham & 46 & female & 62 & 121 & medium & 118 & 59 &  NA & NA & 29 & 38 & 720\\\\\n",
       "\t2 & 1001 & 165 & 97 & 24 & 6.9 & 4.44 & Buckingham & 29 & female & 64 & 218 & large  & 112 & 68 &  NA & NA & 46 & 48 & 360\\\\\n",
       "\t3 & 1002 & 228 & 92 & 37 & 6.2 & 4.64 & Buckingham & 58 & female & 61 & 256 & large  & 190 & 92 & 185 & 92 & 49 & 57 & 180\\\\\n",
       "\t4 & 1003 &  78 & 93 & 12 & 6.5 & 4.63 & Buckingham & 67 & male   & 67 & 119 & large  & 110 & 50 &  NA & NA & 33 & 38 & 480\\\\\n",
       "\t5 & 1005 & 249 & 90 & 28 & 8.9 & 7.72 & Buckingham & 64 & male   & 68 & 183 & medium & 138 & 80 &  NA & NA & 44 & 41 & 300\\\\\n",
       "\t6 & 1008 & 248 & 94 & 69 & 3.6 & 4.81 & Buckingham & 34 & male   & 71 & 190 & large  & 132 & 86 &  NA & NA & 36 & 42 & 195\\\\\n",
       "\\end{tabular}\n"
      ],
      "text/markdown": [
       "\n",
       "A data.frame: 6 × 19\n",
       "\n",
       "| <!--/--> | id &lt;int&gt; | chol &lt;int&gt; | stab.glu &lt;int&gt; | hdl &lt;int&gt; | ratio &lt;dbl&gt; | glyhb &lt;dbl&gt; | location &lt;fct&gt; | age &lt;int&gt; | gender &lt;fct&gt; | height &lt;int&gt; | weight &lt;int&gt; | frame &lt;fct&gt; | bp.1s &lt;int&gt; | bp.1d &lt;int&gt; | bp.2s &lt;int&gt; | bp.2d &lt;int&gt; | waist &lt;int&gt; | hip &lt;int&gt; | time.ppn &lt;int&gt; |\n",
       "|---|---|---|---|---|---|---|---|---|---|---|---|---|---|---|---|---|---|---|---|\n",
       "| 1 | 1000 | 203 | 82 | 56 | 3.6 | 4.31 | Buckingham | 46 | female | 62 | 121 | medium | 118 | 59 |  NA | NA | 29 | 38 | 720 |\n",
       "| 2 | 1001 | 165 | 97 | 24 | 6.9 | 4.44 | Buckingham | 29 | female | 64 | 218 | large  | 112 | 68 |  NA | NA | 46 | 48 | 360 |\n",
       "| 3 | 1002 | 228 | 92 | 37 | 6.2 | 4.64 | Buckingham | 58 | female | 61 | 256 | large  | 190 | 92 | 185 | 92 | 49 | 57 | 180 |\n",
       "| 4 | 1003 |  78 | 93 | 12 | 6.5 | 4.63 | Buckingham | 67 | male   | 67 | 119 | large  | 110 | 50 |  NA | NA | 33 | 38 | 480 |\n",
       "| 5 | 1005 | 249 | 90 | 28 | 8.9 | 7.72 | Buckingham | 64 | male   | 68 | 183 | medium | 138 | 80 |  NA | NA | 44 | 41 | 300 |\n",
       "| 6 | 1008 | 248 | 94 | 69 | 3.6 | 4.81 | Buckingham | 34 | male   | 71 | 190 | large  | 132 | 86 |  NA | NA | 36 | 42 | 195 |\n",
       "\n"
      ],
      "text/plain": [
       "  id   chol stab.glu hdl ratio glyhb location   age gender height weight frame \n",
       "1 1000 203  82       56  3.6   4.31  Buckingham 46  female 62     121    medium\n",
       "2 1001 165  97       24  6.9   4.44  Buckingham 29  female 64     218    large \n",
       "3 1002 228  92       37  6.2   4.64  Buckingham 58  female 61     256    large \n",
       "4 1003  78  93       12  6.5   4.63  Buckingham 67  male   67     119    large \n",
       "5 1005 249  90       28  8.9   7.72  Buckingham 64  male   68     183    medium\n",
       "6 1008 248  94       69  3.6   4.81  Buckingham 34  male   71     190    large \n",
       "  bp.1s bp.1d bp.2s bp.2d waist hip time.ppn\n",
       "1 118   59     NA   NA    29    38  720     \n",
       "2 112   68     NA   NA    46    48  360     \n",
       "3 190   92    185   92    49    57  180     \n",
       "4 110   50     NA   NA    33    38  480     \n",
       "5 138   80     NA   NA    44    41  300     \n",
       "6 132   86     NA   NA    36    42  195     "
      ]
     },
     "metadata": {},
     "output_type": "display_data"
    }
   ],
   "source": [
    "head(diabetes)"
   ]
  },
  {
   "cell_type": "code",
   "execution_count": 3,
   "id": "61159574-f599-4a6d-b0f6-0d6ce2bf278d",
   "metadata": {},
   "outputs": [
    {
     "data": {
      "text/plain": [
       "       id             chol          stab.glu          hdl        \n",
       " Min.   : 1000   Min.   : 78.0   Min.   : 48.0   Min.   : 12.00  \n",
       " 1st Qu.: 4792   1st Qu.:179.0   1st Qu.: 81.0   1st Qu.: 38.00  \n",
       " Median :15766   Median :204.0   Median : 89.0   Median : 46.00  \n",
       " Mean   :15978   Mean   :207.8   Mean   :106.7   Mean   : 50.45  \n",
       " 3rd Qu.:20336   3rd Qu.:230.0   3rd Qu.:106.0   3rd Qu.: 59.00  \n",
       " Max.   :41756   Max.   :443.0   Max.   :385.0   Max.   :120.00  \n",
       "                 NA's   :1                       NA's   :1       \n",
       "     ratio            glyhb             location        age           gender   \n",
       " Min.   : 1.500   Min.   : 2.68   Buckingham:200   Min.   :19.00   male  :169  \n",
       " 1st Qu.: 3.200   1st Qu.: 4.38   Louisa    :203   1st Qu.:34.00   female:234  \n",
       " Median : 4.200   Median : 4.84                    Median :45.00               \n",
       " Mean   : 4.522   Mean   : 5.59                    Mean   :46.85               \n",
       " 3rd Qu.: 5.400   3rd Qu.: 5.60                    3rd Qu.:60.00               \n",
       " Max.   :19.300   Max.   :16.11                    Max.   :92.00               \n",
       " NA's   :1        NA's   :13                                                   \n",
       "     height          weight         frame         bp.1s           bp.1d       \n",
       " Min.   :52.00   Min.   : 99.0   small :104   Min.   : 90.0   Min.   : 48.00  \n",
       " 1st Qu.:63.00   1st Qu.:151.0   medium:184   1st Qu.:121.2   1st Qu.: 75.00  \n",
       " Median :66.00   Median :172.5   large :103   Median :136.0   Median : 82.00  \n",
       " Mean   :66.02   Mean   :177.6   NA's  : 12   Mean   :136.9   Mean   : 83.32  \n",
       " 3rd Qu.:69.00   3rd Qu.:200.0                3rd Qu.:146.8   3rd Qu.: 90.00  \n",
       " Max.   :76.00   Max.   :325.0                Max.   :250.0   Max.   :124.00  \n",
       " NA's   :5       NA's   :1                    NA's   :5       NA's   :5       \n",
       "     bp.2s           bp.2d            waist           hip       \n",
       " Min.   :110.0   Min.   : 60.00   Min.   :26.0   Min.   :30.00  \n",
       " 1st Qu.:138.0   1st Qu.: 84.00   1st Qu.:33.0   1st Qu.:39.00  \n",
       " Median :149.0   Median : 92.00   Median :37.0   Median :42.00  \n",
       " Mean   :152.4   Mean   : 92.52   Mean   :37.9   Mean   :43.04  \n",
       " 3rd Qu.:161.0   3rd Qu.:100.00   3rd Qu.:41.0   3rd Qu.:46.00  \n",
       " Max.   :238.0   Max.   :124.00   Max.   :56.0   Max.   :64.00  \n",
       " NA's   :262     NA's   :262      NA's   :2      NA's   :2      \n",
       "    time.ppn     \n",
       " Min.   :   5.0  \n",
       " 1st Qu.:  90.0  \n",
       " Median : 240.0  \n",
       " Mean   : 341.2  \n",
       " 3rd Qu.: 517.5  \n",
       " Max.   :1560.0  \n",
       " NA's   :3       "
      ]
     },
     "metadata": {},
     "output_type": "display_data"
    }
   ],
   "source": [
    "summary(diabetes)"
   ]
  },
  {
   "cell_type": "code",
   "execution_count": 4,
   "id": "2d095f67-a842-4b86-b58f-62a1d7261c33",
   "metadata": {},
   "outputs": [
    {
     "data": {
      "text/plain": [
       "< table of extent 0 >"
      ]
     },
     "metadata": {},
     "output_type": "display_data"
    }
   ],
   "source": [
    "table(diabetes$diabetesT)"
   ]
  },
  {
   "cell_type": "code",
   "execution_count": 5,
   "id": "ff935e0f-a24b-49e9-9dbd-4660f70c355d",
   "metadata": {},
   "outputs": [
    {
     "data": {
      "image/png": "[encoded data removed]",
      "text/plain": [
       "plot without title"
      ]
     },
     "metadata": {
      "image/png": {
       "height": 420,
       "width": 420
      }
     },
     "output_type": "display_data"
    }
   ],
   "source": [
    "diabetes$diabetesT <- as.factor(ifelse(diabetes$glyhb >= 7, 1, 0))\n",
    "ggplot(data = diabetes, mapping = aes(x= diabetesT)) + \n",
    "geom_bar()\n"
   ]
  },
  {
   "cell_type": "code",
   "execution_count": 6,
   "id": "9275e810-07e9-4908-808c-e88bbb8df00a",
   "metadata": {},
   "outputs": [
    {
     "name": "stderr",
     "output_type": "stream",
     "text": [
      "\u001b[1m\u001b[22mDon't know how to automatically pick scale for object of type \u001b[34m<labelled>\u001b[39m. Defaulting to continuous.\n"
     ]
    }
   ],
   "source": [
    "stab.gender.gplot <- ggplot(data= diabetes, mapping = aes(x=gender, y= stab.glu)) + geom_boxplot() + facet_wrap(~location) + labs(\n",
    "    x = \"Gender\",\n",
    "    y = \"Stable Glucose Level\",\n",
    "    title = \"Glucose Level by Gender and Location\"\n",
    "    \n",
    ")\n",
    "ggsave(\"StabGlucoseLevelGenderLocation.png\", plot = stab.gender.gplot, width = 8, height = 6)"
   ]
  },
  {
   "cell_type": "code",
   "execution_count": 7,
   "id": "0bf2243d-f014-48bc-b560-9a81c0ce27a9",
   "metadata": {},
   "outputs": [
    {
     "name": "stderr",
     "output_type": "stream",
     "text": [
      "\u001b[1m\u001b[22mDon't know how to automatically pick scale for object of type \u001b[34m<labelled>\u001b[39m. Defaulting to continuous.\n",
      "Warning message:\n",
      "\"\u001b[1m\u001b[22mRemoved 13 rows containing non-finite outside the scale range (`stat_boxplot()`).\"\n"
     ]
    }
   ],
   "source": [
    "plot <- ggplot(data = diabetes, mapping = aes(x = gender, y = glyhb)) +\n",
    "  geom_boxplot() +\n",
    "  facet_wrap(~location) +\n",
    "  labs(\n",
    "    x = \"Gender\",\n",
    "    y = \"GLYHB Level\",\n",
    "    title = \"GLYHB Level by Gender and Location\"\n",
    "  )\n",
    "\n",
    "ggsave(\"GLYHBLevelGenderLocation.png\", plot = plot, width = 8, height = 6)\n"
   ]
  },
  {
   "cell_type": "code",
   "execution_count": 8,
   "id": "f8de7904-854c-4d14-8db4-b7c8a9255037",
   "metadata": {},
   "outputs": [
    {
     "data": {
      "image/png": "[encoded data removed]",
      "text/plain": [
       "Plot with title \"Histogram of glyhb\""
      ]
     },
     "metadata": {
      "image/png": {
       "height": 420,
       "width": 420
      }
     },
     "output_type": "display_data"
    }
   ],
   "source": [
    "hist(diabetes$glyhb, main=\"Histogram of glyhb\", xlab=\"glyhb\") "
   ]
  },
  {
   "cell_type": "code",
   "execution_count": 9,
   "id": "735fe4ce-6f41-490c-89bd-6b6fb24aa0d7",
   "metadata": {},
   "outputs": [
    {
     "data": {
      "image/png": "[encoded data removed]",
      "text/plain": [
       "Plot with title \"Log(glyhb) for diabetesT=1\""
      ]
     },
     "metadata": {
      "image/png": {
       "height": 420,
       "width": 420
      }
     },
     "output_type": "display_data"
    }
   ],
   "source": [
    "par(mfrow=c(1,2)) \n",
    "split_data <- split(log(diabetes$glyhb), diabetes$diabetesT)\n",
    "hist(split_data[[1]], main=\"Log(glyhb) for diabetesT=0\", xlab=\"log(glyhb)\")\n",
    "hist(split_data[[2]], main=\"Log(glyhb) for diabetesT=1\", xlab=\"log(glyhb)\")"
   ]
  },
  {
   "cell_type": "code",
   "execution_count": null,
   "id": "737cf5bd-f9d4-41f0-88b9-4802f3983759",
   "metadata": {},
   "outputs": [],
   "source": [
    "ggplot(data = diabetes, mapping = aes(x=stab.glu, y=glyhb, alpha = 0.5)) + geom_point(aes(size = age, color = gender))"
   ]
  },
  {
   "cell_type": "code",
   "execution_count": null,
   "id": "7dd97e62-4cc3-4cbd-b978-841eeef1832b",
   "metadata": {},
   "outputs": [],
   "source": [
    "glyhb.stab.scatter <- ggplot(data = diabetes, mapping = aes(x= age, y = log(glyhb))) + geom_point(aes(size = as.numeric(ratio), colour = as.numeric(stab.glu),alpha = 0.5)) + scale_colour_binned() +\n",
    "facet_wrap(~gender) + labs(x=\"Age\", y=\"GLYHB\", title = \"GLYHB age comparison\", caption = \"Those who are older, tend to have a higher glyhb level with a combination of stab glucose and high ratio\") \n",
    "\n",
    "ggsave(\"GLYHBLevelGenderAgeStabGlu.png\", plot = glyhb.stab.scatter, width = 8, height = 6)"
   ]
  },
  {
   "cell_type": "code",
   "execution_count": null,
   "id": "780abadd-601a-47e5-bffe-de63f1d11a62",
   "metadata": {},
   "outputs": [],
   "source": [
    "scatter.glyhb <- ggplot(data = diabetes, mapping = aes(x=waist, y=glyhb, size = as.numeric(stab.glu), colour = location, alpha = 0.5)) + geom_point() + facet_wrap(~gender)\n",
    "ggsave(\"GLYHBLevelGenderLocationScatter.png\", plot = scatter.glyhb, width = 8, height = 6)"
   ]
  },
  {
   "cell_type": "markdown",
   "id": "cac0b82a-2bc4-404c-abfb-544704199b63",
   "metadata": {},
   "source": [
    "## Correlation Analysis"
   ]
  },
  {
   "cell_type": "code",
   "execution_count": null,
   "id": "b1db9a15-23e2-4d3f-a73c-b9f6d1046bba",
   "metadata": {},
   "outputs": [],
   "source": [
    "diabetes_clean <- diabetes %>% \n",
    "  dplyr::select(-c(id, location, gender, frame, diabetesT)) %>% \n",
    "  filter(complete.cases(.))\n",
    "\n",
    "cor_matrix <- cor(diabetes_clean)\n",
    "diag(cor_matrix) <- 0 \n",
    "cor_data <- as.data.frame(as.table(cor_matrix))\n",
    "\n",
    "ggplot(cor_data, aes(Var1, Var2, fill = Freq)) +\n",
    "  geom_tile() +\n",
    "  scale_fill_gradient2(low = \"blue\", high = \"red\", mid = \"white\", \n",
    "                       midpoint = 0, limit = c(-1, 1), space = \"Lab\", \n",
    "                       name=\"Correlation\") +\n",
    "  theme_minimal() +\n",
    "  theme(axis.text.x = element_text(angle = 45, vjust = 1, \n",
    "                                   size = 12, hjust = 1)) +\n",
    "  coord_fixed()"
   ]
  },
  {
   "cell_type": "code",
   "execution_count": 11,
   "id": "f84d9ac5-f09d-4069-bdf3-5eeb9705db94",
   "metadata": {},
   "outputs": [],
   "source": [
    "diabetes_clean_T <- diabetes %>% \n",
    "  filter(diabetesT == 1) %>%\n",
    "  dplyr::select(-c(id, location, gender, frame, diabetesT)) %>% \n",
    "  filter(complete.cases(.))\n",
    "\n",
    "cor_matrix_T <- cor(diabetes_clean_T)\n",
    "diag(cor_matrix_T) <- 0 \n",
    "cor_data_T <- as.data.frame(as.table(cor_matrix_T))\n",
    "\n",
    "diabetes_clean_F <- diabetes %>% \n",
    "  filter(diabetesT == 0) %>%\n",
    "  dplyr::select(-c(id, location, gender, frame, diabetesT)) %>% \n",
    "  filter(complete.cases(.))\n",
    "\n",
    "cor_matrix_F <- cor(diabetes_clean_F)\n",
    "diag(cor_matrix_F) <- 0 \n",
    "cor_data_F <- as.data.frame(as.table(cor_matrix_F))"
   ]
  },
  {
   "cell_type": "code",
   "execution_count": 13,
   "id": "c9e2ac73-4d5e-4677-bee3-42aa708c2e82",
   "metadata": {},
   "outputs": [
    {
     "data": {
      "image/png": "[encoded data removed]",
      "text/plain": [
       "plot without title"
      ]
     },
     "metadata": {
      "image/png": {
       "height": 420,
       "width": 420
      }
     },
     "output_type": "display_data"
    }
   ],
   "source": [
    "ggplot(cor_data_F, aes(Var1, Var2, fill = Freq)) +\n",
    "  geom_tile() +\n",
    "  scale_fill_gradient2(low = \"blue\", high = \"red\", mid = \"white\", \n",
    "                       midpoint = 0, limit = c(-1, 1), space = \"Lab\", \n",
    "                       name=\"Correlation\") +\n",
    "  theme_minimal() +\n",
    "  theme(axis.text.x = element_text(angle = 45, vjust = 1, \n",
    "                                   size = 12, hjust = 1)) +\n",
    "  coord_fixed() +\n",
    "  ggtitle(\"Correlation of Non-Diabetes Patients\")"
   ]
  },
  {
   "cell_type": "code",
   "execution_count": 72,
   "id": "67e30d68-cc7b-4528-bac9-ee4b37f046f5",
   "metadata": {},
   "outputs": [
    {
     "data": {
      "image/png": "[encoded data removed]",
      "text/plain": [
       "plot without title"
      ]
     },
     "metadata": {
      "image/png": {
       "height": 420,
       "width": 420
      }
     },
     "output_type": "display_data"
    }
   ],
   "source": [
    "par(mfrow=c(1,2))\n",
    "\n",
    "ggplot(cor_data_T, aes(Var1, Var2, fill = Freq)) +\n",
    "  geom_tile() +\n",
    "  scale_fill_gradient2(low = \"blue\", high = \"red\", mid = \"white\", \n",
    "                       midpoint = 0, limit = c(-1, 1), space = \"Lab\", \n",
    "                       name=\"Correlation\") +\n",
    "  theme_minimal() +\n",
    "  theme(axis.text.x = element_text(angle = 45, vjust = 1, \n",
    "                                   size = 12, hjust = 1)) +\n",
    "  coord_fixed() +\n",
    "  ggtitle(\"Correlation of Diabetes Patients\")"
   ]
  },
  {
   "cell_type": "markdown",
   "id": "5360ed65-46d5-4bf5-beaf-4d1cb4e682fe",
   "metadata": {},
   "source": [
    "## Pre-Process"
   ]
  },
  {
   "cell_type": "code",
   "execution_count": 74,
   "id": "1d44ef9c-18b8-40fb-873b-288016a8a1ff",
   "metadata": {},
   "outputs": [
    {
     "data": {
      "text/html": [
       "<table class=\"dataframe\">\n",
       "<caption>A data.frame: 1 × 15</caption>\n",
       "<thead>\n",
       "\t<tr><th scope=col>chol</th><th scope=col>hdl</th><th scope=col>ratio</th><th scope=col>glyhb</th><th scope=col>height</th><th scope=col>weight</th><th scope=col>frame</th><th scope=col>bp.1s</th><th scope=col>bp.1d</th><th scope=col>bp.2s</th><th scope=col>bp.2d</th><th scope=col>waist</th><th scope=col>hip</th><th scope=col>time.ppn</th><th scope=col>diabetesT</th></tr>\n",
       "\t<tr><th scope=col>&lt;int&gt;</th><th scope=col>&lt;int&gt;</th><th scope=col>&lt;int&gt;</th><th scope=col>&lt;int&gt;</th><th scope=col>&lt;int&gt;</th><th scope=col>&lt;int&gt;</th><th scope=col>&lt;int&gt;</th><th scope=col>&lt;int&gt;</th><th scope=col>&lt;int&gt;</th><th scope=col>&lt;int&gt;</th><th scope=col>&lt;int&gt;</th><th scope=col>&lt;int&gt;</th><th scope=col>&lt;int&gt;</th><th scope=col>&lt;int&gt;</th><th scope=col>&lt;int&gt;</th></tr>\n",
       "</thead>\n",
       "<tbody>\n",
       "\t<tr><td>1</td><td>1</td><td>1</td><td>13</td><td>5</td><td>1</td><td>12</td><td>5</td><td>5</td><td>262</td><td>262</td><td>2</td><td>2</td><td>3</td><td>13</td></tr>\n",
       "</tbody>\n",
       "</table>\n"
      ],
      "text/latex": [
       "A data.frame: 1 × 15\n",
       "\\begin{tabular}{lllllllllllllll}\n",
       " chol & hdl & ratio & glyhb & height & weight & frame & bp.1s & bp.1d & bp.2s & bp.2d & waist & hip & time.ppn & diabetesT\\\\\n",
       " <int> & <int> & <int> & <int> & <int> & <int> & <int> & <int> & <int> & <int> & <int> & <int> & <int> & <int> & <int>\\\\\n",
       "\\hline\n",
       "\t 1 & 1 & 1 & 13 & 5 & 1 & 12 & 5 & 5 & 262 & 262 & 2 & 2 & 3 & 13\\\\\n",
       "\\end{tabular}\n"
      ],
      "text/markdown": [
       "\n",
       "A data.frame: 1 × 15\n",
       "\n",
       "| chol &lt;int&gt; | hdl &lt;int&gt; | ratio &lt;int&gt; | glyhb &lt;int&gt; | height &lt;int&gt; | weight &lt;int&gt; | frame &lt;int&gt; | bp.1s &lt;int&gt; | bp.1d &lt;int&gt; | bp.2s &lt;int&gt; | bp.2d &lt;int&gt; | waist &lt;int&gt; | hip &lt;int&gt; | time.ppn &lt;int&gt; | diabetesT &lt;int&gt; |\n",
       "|---|---|---|---|---|---|---|---|---|---|---|---|---|---|---|\n",
       "| 1 | 1 | 1 | 13 | 5 | 1 | 12 | 5 | 5 | 262 | 262 | 2 | 2 | 3 | 13 |\n",
       "\n"
      ],
      "text/plain": [
       "  chol hdl ratio glyhb height weight frame bp.1s bp.1d bp.2s bp.2d waist hip\n",
       "1 1    1   1     13    5      1      12    5     5     262   262   2     2  \n",
       "  time.ppn diabetesT\n",
       "1 3        13       "
      ]
     },
     "metadata": {},
     "output_type": "display_data"
    }
   ],
   "source": [
    "diabetes %>% summarise(across(everything(),~sum(is.na(.)))) %>% select(where(~ . > 0))"
   ]
  },
  {
   "cell_type": "code",
   "execution_count": 76,
   "id": "a866bccd-af36-4b1d-a9f8-693afdedd714",
   "metadata": {},
   "outputs": [],
   "source": [
    "diabetes.drop <- diabetes %>% filter(!is.na(glyhb)) %>% dplyr::select(-c(diabetesT, id))"
   ]
  },
  {
   "cell_type": "code",
   "execution_count": 78,
   "id": "02a9258b-e92d-4451-96cb-930d44f285fa",
   "metadata": {},
   "outputs": [],
   "source": [
    "X <- subset(diabetes.drop, select = -c(glyhb)) #%>% dummy_columns(remove_first_dummy = T, remove_selected_columns = T, ignore_na = T)\n",
    "y <- log(diabetes.drop$glyhb)"
   ]
  },
  {
   "cell_type": "code",
   "execution_count": 80,
   "id": "34cc9402-fe29-48b9-9dfc-d58792656e47",
   "metadata": {},
   "outputs": [],
   "source": [
    "recipe <- recipe(~ ., data = X) %>%\n",
    "  step_impute_knn(all_predictors()) %>% \n",
    "  step_normalize(all_numeric_predictors())  %>%\n",
    "  step_dummy(all_factor_predictors())"
   ]
  },
  {
   "cell_type": "code",
   "execution_count": 82,
   "id": "0cca6408-6a53-4433-9c09-71d7e542a58c",
   "metadata": {},
   "outputs": [],
   "source": [
    "prepared_recipe <- prep(recipe)\n",
    "diabetes.clean <- bake(prepared_recipe, new_data = NULL)\n"
   ]
  },
  {
   "cell_type": "code",
   "execution_count": 84,
   "id": "7ed8fb43-f0c9-4836-8ac0-d97d744a0f4a",
   "metadata": {},
   "outputs": [
    {
     "data": {
      "text/html": [
       "<table class=\"dataframe\">\n",
       "<caption>A tibble: 6 × 18</caption>\n",
       "<thead>\n",
       "\t<tr><th scope=col>chol</th><th scope=col>stab.glu</th><th scope=col>hdl</th><th scope=col>ratio</th><th scope=col>age</th><th scope=col>height</th><th scope=col>weight</th><th scope=col>bp.1s</th><th scope=col>bp.1d</th><th scope=col>bp.2s</th><th scope=col>bp.2d</th><th scope=col>waist</th><th scope=col>hip</th><th scope=col>time.ppn</th><th scope=col>location_Louisa</th><th scope=col>gender_female</th><th scope=col>frame_medium</th><th scope=col>frame_large</th></tr>\n",
       "\t<tr><th scope=col>&lt;dbl&gt;</th><th scope=col>&lt;dbl&gt;</th><th scope=col>&lt;dbl&gt;</th><th scope=col>&lt;dbl&gt;</th><th scope=col>&lt;dbl&gt;</th><th scope=col>&lt;dbl&gt;</th><th scope=col>&lt;dbl&gt;</th><th scope=col>&lt;dbl&gt;</th><th scope=col>&lt;dbl&gt;</th><th scope=col>&lt;dbl&gt;</th><th scope=col>&lt;dbl&gt;</th><th scope=col>&lt;dbl&gt;</th><th scope=col>&lt;dbl&gt;</th><th scope=col>&lt;dbl&gt;</th><th scope=col>&lt;dbl&gt;</th><th scope=col>&lt;dbl&gt;</th><th scope=col>&lt;dbl&gt;</th><th scope=col>&lt;dbl&gt;</th></tr>\n",
       "</thead>\n",
       "<tbody>\n",
       "\t<tr><td>-0.09393653</td><td>-0.4709910</td><td> 0.3301899</td><td>-0.5307872</td><td>-0.04711384</td><td>-1.0108656</td><td>-1.3939480</td><td>-0.8298859</td><td>-1.7896547</td><td>-0.461453967</td><td>-1.94732913</td><td>-1.5476112</td><td>-0.8932065</td><td> 1.24223986</td><td>0</td><td>1</td><td>1</td><td>0</td></tr>\n",
       "\t<tr><td>-0.94435765</td><td>-0.1921712</td><td>-1.5210095</td><td> 1.3679372</td><td>-1.08143433</td><td>-0.4995328</td><td> 1.0071563</td><td>-1.0916725</td><td>-1.1254178</td><td> 0.602259647</td><td>-0.55173241</td><td> 1.4076487</td><td> 0.8813760</td><td> 0.07438816</td><td>0</td><td>1</td><td>0</td><td>1</td></tr>\n",
       "\t<tr><td> 0.46555105</td><td>-0.2851111</td><td>-0.7689597</td><td> 0.9651774</td><td> 0.68299474</td><td>-1.2665320</td><td> 1.9477951</td><td> 2.3115533</td><td> 0.6458805</td><td> 2.463758472</td><td> 0.08262974</td><td> 1.9291652</td><td> 2.4785002</td><td>-0.50953769</td><td>0</td><td>1</td><td>0</td><td>1</td></tr>\n",
       "\t<tr><td>-2.89137443</td><td>-0.2665231</td><td>-2.2152092</td><td> 1.1377888</td><td> 1.23057617</td><td> 0.2674664</td><td>-1.4434553</td><td>-1.1789347</td><td>-2.4538916</td><td>-0.394971866</td><td>-0.55173241</td><td>-0.8522560</td><td>-0.8932065</td><td> 0.46367206</td><td>0</td><td>0</td><td>0</td><td>1</td></tr>\n",
       "\t<tr><td> 0.93552062</td><td>-0.3222871</td><td>-1.2896095</td><td> 2.5186790</td><td> 1.04804903</td><td> 0.5231328</td><td> 0.1407785</td><td> 0.0427361</td><td>-0.2397687</td><td> 0.003920739</td><td>-0.67860484</td><td> 1.0599711</td><td>-0.3608318</td><td>-0.12025379</td><td>0</td><td>0</td><td>1</td><td>0</td></tr>\n",
       "\t<tr><td> 0.91314111</td><td>-0.2479351</td><td> 1.0822396</td><td>-0.5307872</td><td>-0.77722242</td><td> 1.2901320</td><td> 0.3140540</td><td>-0.2190505</td><td> 0.2030559</td><td>-0.062561362</td><td> 0.59011945</td><td>-0.3307395</td><td>-0.1833735</td><td>-0.46087720</td><td>0</td><td>0</td><td>0</td><td>1</td></tr>\n",
       "</tbody>\n",
       "</table>\n"
      ],
      "text/latex": [
       "A tibble: 6 × 18\n",
       "\\begin{tabular}{llllllllllllllllll}\n",
       " chol & stab.glu & hdl & ratio & age & height & weight & bp.1s & bp.1d & bp.2s & bp.2d & waist & hip & time.ppn & location\\_Louisa & gender\\_female & frame\\_medium & frame\\_large\\\\\n",
       " <dbl> & <dbl> & <dbl> & <dbl> & <dbl> & <dbl> & <dbl> & <dbl> & <dbl> & <dbl> & <dbl> & <dbl> & <dbl> & <dbl> & <dbl> & <dbl> & <dbl> & <dbl>\\\\\n",
       "\\hline\n",
       "\t -0.09393653 & -0.4709910 &  0.3301899 & -0.5307872 & -0.04711384 & -1.0108656 & -1.3939480 & -0.8298859 & -1.7896547 & -0.461453967 & -1.94732913 & -1.5476112 & -0.8932065 &  1.24223986 & 0 & 1 & 1 & 0\\\\\n",
       "\t -0.94435765 & -0.1921712 & -1.5210095 &  1.3679372 & -1.08143433 & -0.4995328 &  1.0071563 & -1.0916725 & -1.1254178 &  0.602259647 & -0.55173241 &  1.4076487 &  0.8813760 &  0.07438816 & 0 & 1 & 0 & 1\\\\\n",
       "\t  0.46555105 & -0.2851111 & -0.7689597 &  0.9651774 &  0.68299474 & -1.2665320 &  1.9477951 &  2.3115533 &  0.6458805 &  2.463758472 &  0.08262974 &  1.9291652 &  2.4785002 & -0.50953769 & 0 & 1 & 0 & 1\\\\\n",
       "\t -2.89137443 & -0.2665231 & -2.2152092 &  1.1377888 &  1.23057617 &  0.2674664 & -1.4434553 & -1.1789347 & -2.4538916 & -0.394971866 & -0.55173241 & -0.8522560 & -0.8932065 &  0.46367206 & 0 & 0 & 0 & 1\\\\\n",
       "\t  0.93552062 & -0.3222871 & -1.2896095 &  2.5186790 &  1.04804903 &  0.5231328 &  0.1407785 &  0.0427361 & -0.2397687 &  0.003920739 & -0.67860484 &  1.0599711 & -0.3608318 & -0.12025379 & 0 & 0 & 1 & 0\\\\\n",
       "\t  0.91314111 & -0.2479351 &  1.0822396 & -0.5307872 & -0.77722242 &  1.2901320 &  0.3140540 & -0.2190505 &  0.2030559 & -0.062561362 &  0.59011945 & -0.3307395 & -0.1833735 & -0.46087720 & 0 & 0 & 0 & 1\\\\\n",
       "\\end{tabular}\n"
      ],
      "text/markdown": [
       "\n",
       "A tibble: 6 × 18\n",
       "\n",
       "| chol &lt;dbl&gt; | stab.glu &lt;dbl&gt; | hdl &lt;dbl&gt; | ratio &lt;dbl&gt; | age &lt;dbl&gt; | height &lt;dbl&gt; | weight &lt;dbl&gt; | bp.1s &lt;dbl&gt; | bp.1d &lt;dbl&gt; | bp.2s &lt;dbl&gt; | bp.2d &lt;dbl&gt; | waist &lt;dbl&gt; | hip &lt;dbl&gt; | time.ppn &lt;dbl&gt; | location_Louisa &lt;dbl&gt; | gender_female &lt;dbl&gt; | frame_medium &lt;dbl&gt; | frame_large &lt;dbl&gt; |\n",
       "|---|---|---|---|---|---|---|---|---|---|---|---|---|---|---|---|---|---|\n",
       "| -0.09393653 | -0.4709910 |  0.3301899 | -0.5307872 | -0.04711384 | -1.0108656 | -1.3939480 | -0.8298859 | -1.7896547 | -0.461453967 | -1.94732913 | -1.5476112 | -0.8932065 |  1.24223986 | 0 | 1 | 1 | 0 |\n",
       "| -0.94435765 | -0.1921712 | -1.5210095 |  1.3679372 | -1.08143433 | -0.4995328 |  1.0071563 | -1.0916725 | -1.1254178 |  0.602259647 | -0.55173241 |  1.4076487 |  0.8813760 |  0.07438816 | 0 | 1 | 0 | 1 |\n",
       "|  0.46555105 | -0.2851111 | -0.7689597 |  0.9651774 |  0.68299474 | -1.2665320 |  1.9477951 |  2.3115533 |  0.6458805 |  2.463758472 |  0.08262974 |  1.9291652 |  2.4785002 | -0.50953769 | 0 | 1 | 0 | 1 |\n",
       "| -2.89137443 | -0.2665231 | -2.2152092 |  1.1377888 |  1.23057617 |  0.2674664 | -1.4434553 | -1.1789347 | -2.4538916 | -0.394971866 | -0.55173241 | -0.8522560 | -0.8932065 |  0.46367206 | 0 | 0 | 0 | 1 |\n",
       "|  0.93552062 | -0.3222871 | -1.2896095 |  2.5186790 |  1.04804903 |  0.5231328 |  0.1407785 |  0.0427361 | -0.2397687 |  0.003920739 | -0.67860484 |  1.0599711 | -0.3608318 | -0.12025379 | 0 | 0 | 1 | 0 |\n",
       "|  0.91314111 | -0.2479351 |  1.0822396 | -0.5307872 | -0.77722242 |  1.2901320 |  0.3140540 | -0.2190505 |  0.2030559 | -0.062561362 |  0.59011945 | -0.3307395 | -0.1833735 | -0.46087720 | 0 | 0 | 0 | 1 |\n",
       "\n"
      ],
      "text/plain": [
       "  chol        stab.glu   hdl        ratio      age         height    \n",
       "1 -0.09393653 -0.4709910  0.3301899 -0.5307872 -0.04711384 -1.0108656\n",
       "2 -0.94435765 -0.1921712 -1.5210095  1.3679372 -1.08143433 -0.4995328\n",
       "3  0.46555105 -0.2851111 -0.7689597  0.9651774  0.68299474 -1.2665320\n",
       "4 -2.89137443 -0.2665231 -2.2152092  1.1377888  1.23057617  0.2674664\n",
       "5  0.93552062 -0.3222871 -1.2896095  2.5186790  1.04804903  0.5231328\n",
       "6  0.91314111 -0.2479351  1.0822396 -0.5307872 -0.77722242  1.2901320\n",
       "  weight     bp.1s      bp.1d      bp.2s        bp.2d       waist     \n",
       "1 -1.3939480 -0.8298859 -1.7896547 -0.461453967 -1.94732913 -1.5476112\n",
       "2  1.0071563 -1.0916725 -1.1254178  0.602259647 -0.55173241  1.4076487\n",
       "3  1.9477951  2.3115533  0.6458805  2.463758472  0.08262974  1.9291652\n",
       "4 -1.4434553 -1.1789347 -2.4538916 -0.394971866 -0.55173241 -0.8522560\n",
       "5  0.1407785  0.0427361 -0.2397687  0.003920739 -0.67860484  1.0599711\n",
       "6  0.3140540 -0.2190505  0.2030559 -0.062561362  0.59011945 -0.3307395\n",
       "  hip        time.ppn    location_Louisa gender_female frame_medium frame_large\n",
       "1 -0.8932065  1.24223986 0               1             1            0          \n",
       "2  0.8813760  0.07438816 0               1             0            1          \n",
       "3  2.4785002 -0.50953769 0               1             0            1          \n",
       "4 -0.8932065  0.46367206 0               0             0            1          \n",
       "5 -0.3608318 -0.12025379 0               0             1            0          \n",
       "6 -0.1833735 -0.46087720 0               0             0            1          "
      ]
     },
     "metadata": {},
     "output_type": "display_data"
    },
    {
     "data": {
      "image/png": "[encoded data removed]",
      "text/plain": [
       "plot without title"
      ]
     },
     "metadata": {
      "image/png": {
       "height": 420,
       "width": 420
      }
     },
     "output_type": "display_data"
    }
   ],
   "source": [
    "vis_miss(diabetes.clean)\n",
    "head(diabetes.clean)"
   ]
  },
  {
   "cell_type": "markdown",
   "id": "60cc764e-272a-46a7-9c9f-8877db55f3da",
   "metadata": {},
   "source": [
    "## Regression  Model"
   ]
  },
  {
   "cell_type": "code",
   "execution_count": 86,
   "id": "50471547-7606-4bb6-89de-cfcc8c6d4b34",
   "metadata": {},
   "outputs": [],
   "source": [
    "set.seed(42)\n",
    "train.indx <- createDataPartition(y = y, p = .8, list = FALSE)"
   ]
  },
  {
   "cell_type": "code",
   "execution_count": 88,
   "id": "96335fd6-cd77-49ec-b0f2-c2ca5f488bd5",
   "metadata": {},
   "outputs": [],
   "source": [
    "X.train <-diabetes.clean[train.indx,]\n",
    "X.test <- diabetes.clean[-train.indx,]\n",
    "\n",
    "y.train <- y[train.indx] \n",
    "y.test <- y[-train.indx]\n",
    "\n",
    "Xy.train <- cbind(X.train, y.train)\n",
    "Xy.test <- cbind(X.test, y.test)"
   ]
  },
  {
   "cell_type": "code",
   "execution_count": 90,
   "id": "0ac23192-56e5-4c39-9208-884c890d9a0f",
   "metadata": {},
   "outputs": [],
   "source": [
    "linear.model <- lm(y.train~., data = Xy.train)"
   ]
  },
  {
   "cell_type": "code",
   "execution_count": 92,
   "id": "6d5b1926-d449-4bea-9eb7-5af7560018bb",
   "metadata": {},
   "outputs": [
    {
     "data": {
      "text/plain": [
       "\n",
       "Call:\n",
       "lm(formula = y.train ~ ., data = Xy.train)\n",
       "\n",
       "Residuals:\n",
       "     Min       1Q   Median       3Q      Max \n",
       "-0.97546 -0.11057 -0.01297  0.09238  1.09415 \n",
       "\n",
       "Coefficients:\n",
       "                 Estimate Std. Error t value Pr(>|t|)    \n",
       "(Intercept)      1.673031   0.041192  40.615  < 2e-16 ***\n",
       "chol             0.026803   0.024202   1.107  0.26901    \n",
       "stab.glu         0.183876   0.012791  14.375  < 2e-16 ***\n",
       "hdl             -0.012740   0.028818  -0.442  0.65874    \n",
       "ratio            0.024920   0.031281   0.797  0.42630    \n",
       "age              0.046956   0.016206   2.897  0.00404 ** \n",
       "height           0.008444   0.018853   0.448  0.65455    \n",
       "weight          -0.015083   0.034026  -0.443  0.65789    \n",
       "bp.1s            0.030048   0.021901   1.372  0.17110    \n",
       "bp.1d           -0.012613   0.018409  -0.685  0.49380    \n",
       "bp.2s           -0.020267   0.018517  -1.094  0.27463    \n",
       "bp.2d           -0.002212   0.016607  -0.133  0.89414    \n",
       "waist            0.029922   0.027851   1.074  0.28354    \n",
       "hip              0.003151   0.030905   0.102  0.91885    \n",
       "time.ppn         0.031353   0.012474   2.513  0.01249 *  \n",
       "location_Louisa -0.023956   0.025419  -0.942  0.34674    \n",
       "gender_female    0.018945   0.038962   0.486  0.62715    \n",
       "frame_medium    -0.003734   0.031746  -0.118  0.90645    \n",
       "frame_large     -0.034229   0.043134  -0.794  0.42809    \n",
       "---\n",
       "Signif. codes:  0 '***' 0.001 '**' 0.01 '*' 0.05 '.' 0.1 ' ' 1\n",
       "\n",
       "Residual standard error: 0.2109 on 295 degrees of freedom\n",
       "Multiple R-squared:  0.5766,\tAdjusted R-squared:  0.5508 \n",
       "F-statistic: 22.32 on 18 and 295 DF,  p-value: < 2.2e-16\n"
      ]
     },
     "metadata": {},
     "output_type": "display_data"
    }
   ],
   "source": [
    "summary(linear.model)"
   ]
  },
  {
   "cell_type": "code",
   "execution_count": 94,
   "id": "69734c9f-b566-41af-afd1-7d0196a56547",
   "metadata": {},
   "outputs": [
    {
     "data": {
      "text/html": [
       "1.22913699349632"
      ],
      "text/latex": [
       "1.22913699349632"
      ],
      "text/markdown": [
       "1.22913699349632"
      ],
      "text/plain": [
       "[1] 1.229137"
      ]
     },
     "metadata": {},
     "output_type": "display_data"
    }
   ],
   "source": [
    "y.hat.lin <- predict(linear.model, X.test)\n",
    "exp(sqrt(mean((y.hat.lin-y.test)^2)))"
   ]
  },
  {
   "cell_type": "code",
   "execution_count": 96,
   "id": "09d7471a-ee7c-4a99-9d7a-4f3fcb3d0331",
   "metadata": {},
   "outputs": [],
   "source": [
    "linear.model.interactions <- lm(y.train~stab.glu + age + time.ppn + bp.1d*chol+ gender_female, data = Xy.train)"
   ]
  },
  {
   "cell_type": "code",
   "execution_count": 98,
   "id": "966b3a4b-3e99-4f23-b5d4-a8696ad51d5f",
   "metadata": {},
   "outputs": [],
   "source": [
    "interactions <- model.matrix(~(.)^2-1, data = X.train)"
   ]
  },
  {
   "cell_type": "code",
   "execution_count": 100,
   "id": "5edb017c-12de-4352-a002-1bc2e04f78c4",
   "metadata": {},
   "outputs": [
    {
     "name": "stderr",
     "output_type": "stream",
     "text": [
      "Warning message in leaps.setup(x, y, wt = weights, nbest = nbest, nvmax = nvmax, :\n",
      "\"1  linear dependencies found\"\n"
     ]
    }
   ],
   "source": [
    "subset.model <- summary(regsubsets(x = interactions, y= y.train, method = \"backward\"))"
   ]
  },
  {
   "cell_type": "code",
   "execution_count": 102,
   "id": "2f966ab9-804e-4dda-8e83-9b089c78a1b8",
   "metadata": {},
   "outputs": [
    {
     "ename": "ERROR",
     "evalue": "Error: object 'selected.variables' not found\n",
     "output_type": "error",
     "traceback": [
      "Error: object 'selected.variables' not found\nTraceback:\n"
     ]
    }
   ],
   "source": [
    "c(selected.variables,\"stab.glu\", \"gender_female\", \"location_Louisa\", \"waist\", \"bp.1s\", \"frame_medium\")"
   ]
  },
  {
   "cell_type": "code",
   "execution_count": 104,
   "id": "76f2ff53-65af-4783-8129-01066e43bf82",
   "metadata": {},
   "outputs": [
    {
     "data": {
      "text/html": [
       "<style>\n",
       ".list-inline {list-style: none; margin:0; padding: 0}\n",
       ".list-inline>li {display: inline-block}\n",
       ".list-inline>li:not(:last-child)::after {content: \"\\00b7\"; padding: 0 .5ex}\n",
       "</style>\n",
       "<ol class=list-inline><li>314</li><li>171</li></ol>\n"
      ],
      "text/latex": [
       "\\begin{enumerate*}\n",
       "\\item 314\n",
       "\\item 171\n",
       "\\end{enumerate*}\n"
      ],
      "text/markdown": [
       "1. 314\n",
       "2. 171\n",
       "\n",
       "\n"
      ],
      "text/plain": [
       "[1] 314 171"
      ]
     },
     "metadata": {},
     "output_type": "display_data"
    }
   ],
   "source": [
    "dim(interactions)"
   ]
  },
  {
   "cell_type": "code",
   "execution_count": 106,
   "id": "a36da9b7-121a-4ec8-8c6a-9aef68560cea",
   "metadata": {},
   "outputs": [
    {
     "name": "stdout",
     "output_type": "stream",
     "text": [
      "[1] \"chol\"                     \"height\"                  \n",
      "[3] \"stab.glu:bp.1s\"           \"stab.glu:waist\"          \n",
      "[5] \"stab.glu:time.ppn\"        \"stab.glu:location_Louisa\"\n",
      "[7] \"stab.glu:gender_female\"   \"stab.glu:frame_medium\"   \n",
      "[9] \"hip:location_Louisa\"     \n"
     ]
    },
    {
     "data": {
      "text/plain": [
       "\n",
       "Call:\n",
       "lm(formula = y.train ~ ., data = as.data.frame(X.train.selected))\n",
       "\n",
       "Residuals:\n",
       "     Min       1Q   Median       3Q      Max \n",
       "-0.87278 -0.12752 -0.02231  0.10983  1.13901 \n",
       "\n",
       "Coefficients:\n",
       "                            Estimate Std. Error t value Pr(>|t|)    \n",
       "(Intercept)                 1.663078   0.013693 121.451  < 2e-16 ***\n",
       "chol                        0.042594   0.013349   3.191  0.00157 ** \n",
       "height                     -0.007126   0.013529  -0.527  0.59876    \n",
       "`stab.glu:bp.1s`           -0.007466   0.017405  -0.429  0.66828    \n",
       "`stab.glu:waist`            0.034841   0.014772   2.359  0.01897 *  \n",
       "`stab.glu:time.ppn`         0.050588   0.015444   3.275  0.00118 ** \n",
       "`stab.glu:location_Louisa`  0.125959   0.019520   6.453 4.32e-10 ***\n",
       "`stab.glu:gender_female`    0.151560   0.024233   6.254 1.35e-09 ***\n",
       "`stab.glu:frame_medium`     0.092543   0.025591   3.616  0.00035 ***\n",
       "`hip:location_Louisa`       0.014075   0.019852   0.709  0.47888    \n",
       "---\n",
       "Signif. codes:  0 '***' 0.001 '**' 0.01 '*' 0.05 '.' 0.1 ' ' 1\n",
       "\n",
       "Residual standard error: 0.2301 on 304 degrees of freedom\n",
       "Multiple R-squared:  0.4807,\tAdjusted R-squared:  0.4653 \n",
       "F-statistic: 31.27 on 9 and 304 DF,  p-value: < 2.2e-16\n"
      ]
     },
     "metadata": {},
     "output_type": "display_data"
    }
   ],
   "source": [
    "best.model.index <- which.max(subset.model$adjr2)\n",
    "\n",
    "\n",
    "\n",
    "best.model.variables <- colnames(interactions)[subset.model$which[best.model.index,]]\n",
    "\n",
    "\n",
    "print(best.model.variables)\n",
    "\n",
    "selected.variables <- best.model.variables\n",
    "\n",
    "X.train.selected <- interactions[, c(selected.variables), drop = FALSE]#,\"stab.glu\", \"gender_female\", \"location_Louisa\", \"waist\", \"bp.1s\", \"frame_medium\"), drop = FALSE]\n",
    "\n",
    "final.model <- lm(y.train ~ . ,data = as.data.frame(X.train.selected))\n",
    "\n",
    "summary(final.model)"
   ]
  },
  {
   "cell_type": "markdown",
   "id": "91e49956-0391-40f2-9c92-b2fe57d1fc52",
   "metadata": {},
   "source": [
    "Gender and Stable Glucose: Females with higher stable glucose levels have significantly higher glyhb levels compared to males, suggesting a stronger relationship between stable glucose and glyhb for females.\n",
    "\n",
    "\n",
    "Location (Louisa): People in Louisa generally have lower glyhb levels, regardless of stable glucose levels.\n",
    "\n",
    "Stable Glucose (Overall): Stable glucose is a strong predictor of glyhb levels, significantly increasing glyhb irrespective of gender or location.\n",
    "\n",
    "Chol: Higher Higher glucose levels overall effect the glyhb levels by 1.03 units when all other vraibales are kept constant."
   ]
  },
  {
   "cell_type": "code",
   "execution_count": 109,
   "id": "7b30708f-09fd-45cd-b6c6-8b539a811598",
   "metadata": {},
   "outputs": [
    {
     "data": {
      "image/png": "[encoded data removed]",
      "text/plain": [
       "Plot with title \"\""
      ]
     },
     "metadata": {
      "image/png": {
       "height": 420,
       "width": 420
      }
     },
     "output_type": "display_data"
    },
    {
     "data": {
      "image/png": "[encoded data removed]",
      "text/plain": [
       "Plot with title \"\""
      ]
     },
     "metadata": {
      "image/png": {
       "height": 420,
       "width": 420
      }
     },
     "output_type": "display_data"
    },
    {
     "data": {
      "image/png": "[encoded data removed]",
      "text/plain": [
       "Plot with title \"\""
      ]
     },
     "metadata": {
      "image/png": {
       "height": 420,
       "width": 420
      }
     },
     "output_type": "display_data"
    },
    {
     "data": {
      "image/png": "[encoded data removed]",
      "text/plain": [
       "Plot with title \"\""
      ]
     },
     "metadata": {
      "image/png": {
       "height": 420,
       "width": 420
      }
     },
     "output_type": "display_data"
    }
   ],
   "source": [
    "plot(final.model)"
   ]
  },
  {
   "cell_type": "code",
   "execution_count": 111,
   "id": "f6f50b33-e87f-4e7d-8c40-4fd2dde3ef48",
   "metadata": {},
   "outputs": [],
   "source": [
    "interactions.test <- model.matrix(~(.)^2-1, data = X.test)\n",
    "\n",
    "X.test.selected <- as.data.frame(interactions.test[, c(selected.variables,\"stab.glu\", \"gender_female\", \"location_Louisa\", \"waist\", \"bp.1s\", \"frame_medium\"), drop = FALSE])"
   ]
  },
  {
   "cell_type": "code",
   "execution_count": 113,
   "id": "f9fd814d-dfa6-458a-914f-468acb3796f3",
   "metadata": {},
   "outputs": [
    {
     "data": {
      "text/html": [
       "1.28148683587199"
      ],
      "text/latex": [
       "1.28148683587199"
      ],
      "text/markdown": [
       "1.28148683587199"
      ],
      "text/plain": [
       "[1] 1.281487"
      ]
     },
     "metadata": {},
     "output_type": "display_data"
    }
   ],
   "source": [
    "y.hat <- predict(final.model, X.test.selected)\n",
    "exp(sqrt(mean((y.hat - y.test)^2)))"
   ]
  },
  {
   "cell_type": "code",
   "execution_count": 115,
   "id": "8bfcbc7e-fc5d-4ee2-816d-5e2f9c7b78d7",
   "metadata": {},
   "outputs": [
    {
     "data": {
      "image/png": "[encoded data removed]",
      "text/plain": [
       "Plot with title \"Real Distribution\""
      ]
     },
     "metadata": {
      "image/png": {
       "height": 420,
       "width": 420
      }
     },
     "output_type": "display_data"
    }
   ],
   "source": [
    "par(mfrow=c(1,2))\n",
    "hist(exp(y.hat), main = \"Prediction Distribution\")\n",
    "hist(exp(y.test), main = \"Real Distribution\")"
   ]
  },
  {
   "cell_type": "code",
   "execution_count": 117,
   "id": "947baa3f-81fa-494a-85a4-426593f2eb98",
   "metadata": {},
   "outputs": [
    {
     "data": {
      "image/png": "[encoded data removed]",
      "text/plain": [
       "plot without title"
      ]
     },
     "metadata": {
      "image/png": {
       "height": 420,
       "width": 420
      }
     },
     "output_type": "display_data"
    }
   ],
   "source": [
    "plot(tree(exp(y)~.,data=X))\n",
    "text(tree(exp(y)~.,data=X), pretty = 3, cex = 0.8)"
   ]
  },
  {
   "cell_type": "markdown",
   "id": "ce6cf43a-77b6-4bba-a3ba-8736af122147",
   "metadata": {},
   "source": [
    "## Bayesian Regression"
   ]
  },
  {
   "cell_type": "code",
   "execution_count": null,
   "id": "57c37b3f-c696-4f9f-a4b2-5128ba8657c4",
   "metadata": {},
   "outputs": [],
   "source": [
    "model = stan_model(\"gpriorLM.stan\")"
   ]
  },
  {
   "cell_type": "code",
   "execution_count": null,
   "id": "cb20a832-3ff2-45b9-bde7-f322152323fd",
   "metadata": {},
   "outputs": [],
   "source": [
    "model"
   ]
  },
  {
   "cell_type": "markdown",
   "id": "ee0e65f5-1dbc-4c52-9a70-cc1f9cf2cca1",
   "metadata": {},
   "source": [
    "### Model Test"
   ]
  },
  {
   "cell_type": "code",
   "execution_count": null,
   "id": "56fe0948-b9ee-41fe-875a-7e9c0d6b193f",
   "metadata": {},
   "outputs": [],
   "source": [
    "set.seed(123)  # For reproducibility\n",
    "N <- 100    # Number of observations\n",
    "K <- 5      # Number of predzzictors\n",
    "beta_true <- c(3, -2, 1, 0, 0)  # True coefficients (including zeroes for sparsity)\n",
    "sigma_true <- 1.5  # True residual standard deviation\n",
    "\n",
    "X.s <- matrix(rnorm(N * K, mean = 0, sd = 1), nrow = N, ncol = K)\n",
    "\n",
    "y.s <- X.s %*% beta_true + rnorm(N, mean = 0, sd = sigma_true)\n",
    "\n",
    "s20 <- mean((y.s - X.s %*% solve(t(X.s) %*% X.s) %*% t(X.s) %*% y.s )^2)\n",
    "s20"
   ]
  },
  {
   "cell_type": "code",
   "execution_count": null,
   "id": "46ec8a0f-ddfa-405c-b9be-0a97fdd5915f",
   "metadata": {},
   "outputs": [],
   "source": [
    "# mod1_data <- list(\n",
    "#   X = X.s,\n",
    "#   K = ncol(X.s),\n",
    "#   N = nrow(X.s),\n",
    "#   y = as.vector(y.s),\n",
    "#   g = nrow(X.s),\n",
    "#   nu0 = 1,\n",
    "#   s20 = s20\n",
    "# )"
   ]
  },
  {
   "cell_type": "code",
   "execution_count": null,
   "id": "89f54816-891f-4dba-ac75-af7d394e5366",
   "metadata": {},
   "outputs": [],
   "source": [
    "mod1_data <- list(\n",
    "    X = X.s,\n",
    "    P = ncol(X.s),\n",
    "    N = nrow(X.s),\n",
    "    y = as.vector(y.s),\n",
    "    sigma2 = 1.0,               # Example fixed variance (adjust as needed)\n",
    "    tau2 = 1.0,                 # Example slab variance (adjust as needed)\n",
    "    p_prior = 0.5               # Example prior inclusion probability\n",
    ")"
   ]
  },
  {
   "cell_type": "code",
   "execution_count": null,
   "id": "39320ab6-95aa-4ea7-bced-fd6e95de1c53",
   "metadata": {},
   "outputs": [],
   "source": [
    "fit = sampling(model, mod1_data,chains=4)"
   ]
  },
  {
   "cell_type": "code",
   "execution_count": null,
   "id": "ad8572cf-669f-423d-a569-429bbf73f545",
   "metadata": {},
   "outputs": [],
   "source": [
    "beta_true"
   ]
  },
  {
   "cell_type": "code",
   "execution_count": null,
   "id": "f40eaeb1-848a-4e9b-9a30-72c97a6d23ec",
   "metadata": {},
   "outputs": [],
   "source": [
    "posterior_means <- summary(fit)$summary[, \"mean\"]  \n",
    "beta_means <- posterior_means[grep(\"^beta\", rownames(summary(fit)$summary))]\n",
    "\n",
    "comparison <- data.frame(\n",
    "  True = beta_true,\n",
    "  Estimated = beta_means\n",
    ")\n",
    "print(comparison)\n",
    "\n",
    "posterior_summary <- summary(fit)$summary\n",
    "beta_credible <- posterior_summary[grep(\"^beta\", rownames(posterior_summary)), c(\"2.5%\", \"97.5%\")]"
   ]
  },
  {
   "cell_type": "code",
   "execution_count": null,
   "id": "fe3f2ce5-da72-44fe-9fbc-6ee6d098c26e",
   "metadata": {},
   "outputs": [],
   "source": [
    "# Combine for comparison\n",
    "credible_check <- data.frame(\n",
    "  True = beta_true,\n",
    "  lower = beta_credible[, \"2.5%\"],\n",
    "  upper = beta_credible[, \"97.5%\"]\n",
    ")\n",
    "credible_check$InInterval <- with(credible_check, True >= lower & True <= upper)\n",
    "print(credible_check)"
   ]
  },
  {
   "cell_type": "code",
   "execution_count": null,
   "id": "cc1c49b3-4f6b-4076-a523-e8025d222ca1",
   "metadata": {},
   "outputs": [],
   "source": [
    "params = extract(fit)"
   ]
  },
  {
   "cell_type": "code",
   "execution_count": null,
   "id": "bddbf84a-a66d-4d25-8b19-e0cd6412195e",
   "metadata": {},
   "outputs": [],
   "source": [
    "# mcmc_areas(as.array(fit), pars = c(\"beta[1]\", \"beta[2]\", \"sigma\"))\n",
    "mcmc_areas(as.array(fit), pars = c(\"beta[1]\", \"beta[2]\"))\n"
   ]
  },
  {
   "cell_type": "code",
   "execution_count": null,
   "id": "c9c2c249-608f-4e0e-a343-634e53243701",
   "metadata": {},
   "outputs": [],
   "source": [
    "par(mfrow=c(1,4))\n",
    "ts.plot(params$beta,xlab=\"Iterations\",ylab=\"beta\")\n",
    "ts.plot(params$sigma,xlab=\"Iterations\",ylab=\"sigma\")"
   ]
  },
  {
   "cell_type": "code",
   "execution_count": null,
   "id": "2ce73643-841e-4b9c-aeb6-2d3f2dce3994",
   "metadata": {},
   "outputs": [],
   "source": [
    "hist(params$beta,main=\"\",xlab=\"beta\")\n",
    "hist(params$sigma,main=\"\",xlab=\"sigma\")"
   ]
  },
  {
   "cell_type": "code",
   "execution_count": null,
   "id": "3c1e9ff7-3391-43a8-a7ef-477a1f227b1a",
   "metadata": {},
   "outputs": [],
   "source": [
    "\n",
    "hat_matrix <- posterior_means[grep(\"^Hg\", rownames(summary(fit)$summary))]\n",
    "\n",
    "hat_matrix <- matrix(hat_matrix, nrow = N, ncol = N)\n",
    "\n",
    "leverage <- diag(hat_matrix)\n",
    "hist(leverage, main = \"Histogram of Leverage Values\", xlab = \"Leverage\")\n"
   ]
  },
  {
   "cell_type": "markdown",
   "id": "2cd57861-4e57-404c-859e-77824ae3a3c5",
   "metadata": {},
   "source": [
    "### Now with diabetes Data"
   ]
  },
  {
   "cell_type": "code",
   "execution_count": null,
   "id": "7b8f67e2-2cb9-4407-b378-99041f58ab42",
   "metadata": {},
   "outputs": [],
   "source": [
    "X.train <- as.matrix(X.train); y.train <- as.matrix(y.train); X.test <- as.matrix(X.test)\n",
    "s20 <- mean((y.test - X.test %*% solve(t(X.train) %*% X.train) %*% t(X.train) %*% y.train)^2)\n",
    "n <- g <- length(y.train); p <- ncol(X.train); nu0 <- 1; S <- 1000\n",
    "\n",
    "Hg <- g/(g+1) * X.train%*%solve(t(X.train)%*%X.train) %*% t(X.train) \n",
    "SSRg <- t(y.train) %*% (diag(1,nrow = n) - Hg) %*% y.train\n",
    "\n",
    "s2 <- 1/rgamma(S, (nu0+n)/2, (nu0*s20+SSRg)/2)\n",
    "\n",
    "Vb <- g*solve(t(X.train)%*%X.train)/(g+1)\n",
    "Eb <- Vb%*%t(X.train)%*%y.train\n",
    "\n",
    "E <- matrix(rnorm(S*p, 0, sqrt(s2)), S, p)\n",
    "beta <- t( t(E%*%chol(Vb)) + c(Eb))"
   ]
  },
  {
   "cell_type": "code",
   "execution_count": null,
   "id": "cde6b2c8-fffc-4318-b4eb-8d425c356cff",
   "metadata": {},
   "outputs": [],
   "source": [
    "as.data.frame(beta)"
   ]
  },
  {
   "cell_type": "code",
   "execution_count": null,
   "id": "1be6163d-0fff-4ef0-a642-c009a97a61ae",
   "metadata": {},
   "outputs": [],
   "source": [
    "beta.estimates <- as.data.frame(beta) %>%\n",
    "  summarise(across(\n",
    "    everything(),\n",
    "    list(\n",
    "      mean = mean,\n",
    "      `2.5%` = ~ quantile(.x, 0.025),\n",
    "      `97.5%` = ~ quantile(.x, 0.975)\n",
    "    ),\n",
    "    .names = \"{.col}_{.fn}\"\n",
    "  )) %>%\n",
    "  pivot_longer(\n",
    "    cols = everything(),\n",
    "    names_to = \"name\",\n",
    "    values_to = \"value\"\n",
    "  ) %>%\n",
    "  separate(\n",
    "    col = name,\n",
    "    into = c(\"beta\", \"stat\"),\n",
    "    sep = \"_(?=[^_]+$)\"\n",
    "  ) %>%\n",
    "  pivot_wider(\n",
    "    names_from = stat,\n",
    "    values_from = value\n",
    "  ) %>%\n",
    "  column_to_rownames(var = \"beta\")\n"
   ]
  },
  {
   "cell_type": "code",
   "execution_count": null,
   "id": "d3c29531-446c-47e8-99d1-da883b4959e0",
   "metadata": {},
   "outputs": [],
   "source": [
    "beta.estimates"
   ]
  },
  {
   "cell_type": "code",
   "execution_count": null,
   "id": "490ae1dc-0604-4e2d-8525-50f2470a3778",
   "metadata": {},
   "outputs": [],
   "source": [
    "beta.estimates <- beta.estimates %>%\n",
    "  rownames_to_column(var = \"beta\") %>%\n",
    "  mutate(significant = ifelse(`2.5%` > 0 | `97.5%` < 0, \"Significant\", \"Not Significant\"))"
   ]
  },
  {
   "cell_type": "code",
   "execution_count": null,
   "id": "fc8848a6-67b2-46d0-a3b7-03af7253d87b",
   "metadata": {},
   "outputs": [],
   "source": [
    "beta.est.plot <- ggplot(beta.estimates, aes(x = beta, y = mean, ymin = `2.5%`, ymax = `97.5%`, color = significant)) +\n",
    "  geom_pointrange() +\n",
    "  geom_hline(yintercept = 0, linetype = \"dashed\") +\n",
    "  labs(title = \"Beta Estimates with Confidence Intervals\",\n",
    "       x = \"Beta\",\n",
    "       y = \"Estimate\") +\n",
    "  theme_minimal() +\n",
    "  scale_color_manual(values = c(\"Significant\" = \"red\", \"Not Significant\" = \"blue\")) + coord_flip()\n",
    "beta.est.plot"
   ]
  },
  {
   "cell_type": "code",
   "execution_count": null,
   "id": "34d79a70-aec0-409e-ac5a-9abf210f309e",
   "metadata": {},
   "outputs": [],
   "source": [
    "ggsave(\"betaEstimatesGPrior.png\", plot = beta.est.plot)"
   ]
  },
  {
   "cell_type": "code",
   "execution_count": null,
   "id": "b94f2dfe-8578-4de8-8626-ca686038ebf8",
   "metadata": {},
   "outputs": [],
   "source": [
    "B <- as.matrix(beta.estimates$mean, nrow=nrow(beta.estimates), ncol=1)"
   ]
  },
  {
   "cell_type": "code",
   "execution_count": null,
   "id": "f074f4d1-ef84-4f42-b2c7-2354d488e694",
   "metadata": {},
   "outputs": [],
   "source": [
    "y.hat.bayes <- X.test %*% B"
   ]
  },
  {
   "cell_type": "code",
   "execution_count": null,
   "id": "54141a07-37f9-4cdc-8742-7c012e29175a",
   "metadata": {},
   "outputs": [],
   "source": [
    "exp(mean((y.hat.bayes - y.test)^2))"
   ]
  },
  {
   "cell_type": "markdown",
   "id": "aefebee8-3226-48c3-8d8f-cd082394d8c4",
   "metadata": {},
   "source": [
    "## Model Selection"
   ]
  },
  {
   "cell_type": "code",
   "execution_count": null,
   "id": "1c50067e-2f36-40bf-90cc-21744736f9ec",
   "metadata": {},
   "outputs": [],
   "source": [
    "# tau2 <- as.numeric(var(y.train) / mean(apply(X.train, 2, var)))\n",
    "# as.numeric(tau2)"
   ]
  },
  {
   "cell_type": "code",
   "execution_count": null,
   "id": "716eb017-d964-474a-a76f-f46668a709b4",
   "metadata": {},
   "outputs": [],
   "source": [
    "# data_list <- list(\n",
    "#   N = nrow(X.train),               # Number of observations\n",
    "#   P = ncol(X.train),                 # Number of predictors\n",
    "#   X = X.train, # Random design matrix (replace with your data)\n",
    "#   y = as.vector(y.train),        # Response variable (replace with your data)\n",
    "#   sigma2 = as.numeric(var(y.train)),            # Fixed variance for likelihood\n",
    "#   tau2 = tau2,              # Variance of slab for coefficients\n",
    "#   p_prior = 0.5          # Prior inclusion probability\n",
    "# )"
   ]
  },
  {
   "cell_type": "code",
   "execution_count": null,
   "id": "212bc75c-9820-4735-9513-41cce91d6d7d",
   "metadata": {},
   "outputs": [],
   "source": [
    "#fit <- stan(file = \"gpriorLM.stan\", data = data_list, seed = 42, chains = 4)"
   ]
  },
  {
   "cell_type": "code",
   "execution_count": null,
   "id": "fea26ffe-e42f-426f-a361-04ace01bea3b",
   "metadata": {},
   "outputs": [],
   "source": [
    "# ## GG\n",
    "\n",
    "# # Initialize variables\n",
    "# included_vars <- rep(0, ncol(X.train))  # Start with all variables excluded\n",
    "# current_vars <- included_vars\n",
    "# #current_vars[1] <- 0  # Always include the intercept\n",
    "# variable_names <- colnames(X.train)\n",
    "\n",
    "# # Stan model file\n",
    "# stan_file <- \"gpriorLM.stan\"  # Ensure the Stan file matches the earlier specification\n",
    "\n",
    "# # # Bayesian Model Selection Loop\n",
    "# # for (i in 1:ncol(X.train)) {\n",
    "# #   # Update the data list for Stan\n",
    "# #   data_list <- list(\n",
    "# #   N = nrow(X.train),               # Number of observations\n",
    "# #   P = ncol(X.train),                 # Number of predictors\n",
    "# #   X = X.train, # Random design matrix (replace with your data)\n",
    "# #   y = as.vector(y.train),        # Response variable (replace with your data)\n",
    "# #   sigma2 = as.numeric(var(y.train)),            # Fixed variance for likelihood\n",
    "# #   tau2 = as.numeric(var(y.train) / mean(apply(X.train, 2, var))), # Variance of slab for coefficients\n",
    "# #   p_prior = 0.5          # Prior inclusion probability\n",
    "# # )\n",
    "  \n",
    "# #   # Fit the model\n",
    "# #   fit <- stan(file = stan_file, data = data_list, seed = 42, chains = 4, iter = 2000)\n",
    "# #   # Extract inclusion probabilities\n",
    "# #   fit_summary <- summary(fit, pars = \"inclusion_probs\")$summary\n",
    "# #   inclusion_probs <- fit_summary[, \"mean\"]\n",
    "  \n",
    "# #   inclusion_probs[current_vars == 1] <- -Inf # Set inclusion probabilities of already-included variables to -Inf (prevent premature break)\n",
    "  \n",
    "# #   # Find the variable with the highest posterior inclusion probability\n",
    "# #   new_var <- which.max(inclusion_probs)\n",
    "# #   if (current_vars[new_var] == 1) break  # If no new variable, stop the loop\n",
    "  \n",
    "# #   # Include the selected variable\n",
    "# #   current_vars[new_var] <- 1\n",
    "# #   cat(\"Adding variable:\", variable_names[new_var], \"\\n\")\n",
    "# # }"
   ]
  },
  {
   "cell_type": "code",
   "execution_count": null,
   "id": "2609cc7d-e926-4ae0-87e6-a91733d624b0",
   "metadata": {},
   "outputs": [],
   "source": [
    "# # [[ ADJUST TO ENSURE ONLY SELECTED VARIABLES UESED IN TRAININ ]]\n",
    "\n",
    "# ## GG\n",
    "\n",
    "# # Initialize variables\n",
    "# included_vars <- rep(0, ncol(X.train))  # Start with all variables excluded\n",
    "# current_vars <- included_vars\n",
    "# current_vars[1] <- 0  # Always include the intercept\n",
    "# variable_names <- colnames(X.train) # [[ ADJUST TO ENSURE ONLY SELECTED VARIABLES UESED IN TRAININ ]]\n",
    "# stan_file <- \"gpriorLM.stan\"  # Ensure the Stan file matches the earlier specification\n",
    "\n",
    "# # Update the data list for Stan\n",
    "# data_list <- list(\n",
    "# N = nrow(X.train),               # Number of observations\n",
    "# P = ncol(X.train),                 # Number of predictors\n",
    "# X = X.train, # Random design matrix (replace with your data)\n",
    "# y = as.vector(y.train),        # Response variable (replace with your data)\n",
    "# sigma2 = as.numeric(var(y.train)),            # Fixed variance for likelihood\n",
    "# tau2 = as.numeric(var(y.train) / mean(apply(X.train, 2, var))), # Variance of slab for coefficients\n",
    "# p_prior = 0.5          # Prior inclusion probability\n",
    "# )\n",
    "\n",
    "# # Fit the model\n",
    "# fit <- stan(file = stan_file, data = data_list, seed = 42, chains = 4, iter = 2000)\n",
    "# fit_summary <- summary(fit, pars = \"inclusion_probs\")$summary\n",
    "# inclusion_probs <- fit_summary[, \"mean\"]\n",
    "\n",
    "# # Include the selected variable\n",
    "# cat(\"Adding variable:\", variable_names[new_var], \"\\n\")"
   ]
  },
  {
   "cell_type": "code",
   "execution_count": null,
   "id": "9febc0df-4c55-46f4-a160-80d50c88a30e",
   "metadata": {},
   "outputs": [],
   "source": [
    "# fit_summary"
   ]
  },
  {
   "cell_type": "markdown",
   "id": "2ded4fc0-196c-4fda-af27-841f2e239413",
   "metadata": {},
   "source": [
    "## EXPERIMENT DUPE BLOCK"
   ]
  },
  {
   "cell_type": "code",
   "execution_count": null,
   "id": "b95a7ef6-d7c3-436b-b563-cfb0cf982336",
   "metadata": {},
   "outputs": [],
   "source": [
    "# ## EXPERIMENT -- CONDITION ON RELATIVE FIT\n",
    "\n",
    "# stan_file <- \"gpriorLM.stan\"  # Ensure the Stan file matches the earlier specification\n",
    "\n",
    "# included_vars <- rep(0, ncol(X.train))  # Start with all variables excluded\n",
    "# included_vars[1] <- 1  # Always include the intercept\n",
    "# current_vars <- included_vars\n",
    "# variable_names <- colnames(X.train)\n",
    "\n",
    "# current_fit <- NULL\n",
    "# current_log_lik <- -Inf  # Initialize with a very low likelihood\n",
    "\n",
    "# # Bayesian Model Selection Loop\n",
    "# for (i in 1:ncol(X.train)) {\n",
    "#   data_list <- list(\n",
    "#     N = nrow(X.train),               # Number of observations\n",
    "#     P = sum(current_vars),           # Number of included predictors\n",
    "#     X = X.train[, which(current_vars == 1), drop = FALSE],  # Current predictors\n",
    "#     y = as.vector(y.train),          # Response variable\n",
    "#     sigma2 = as.numeric(var(y.train)),  # Fixed variance for likelihood\n",
    "#     tau2 = as.numeric(var(y.train) / mean(apply(X.train, 2, var))), # Variance of slab\n",
    "#     p_prior = 0.5                    # Prior inclusion probability\n",
    "#   )\n",
    "  \n",
    "#   current_fit <- stan(file = stan_file, data = data_list, seed = 42, chains = 4, iter = 2000)  \n",
    "#   current_log_lik <- sum(rstan::extract(current_fit, pars = \"log_lik\")$log_lik)\n",
    "  \n",
    "#   # Test adding each remaining variable\n",
    "#   for (new_var in which(current_vars == 0)) {\n",
    "#     test_vars <- current_vars\n",
    "#     test_vars[new_var] <- 1  # Add the new variable\n",
    "    \n",
    "#     test_data_list <- list(\n",
    "#       N = nrow(X.train),\n",
    "#       P = sum(test_vars),\n",
    "#       X = X.train[, which(test_vars == 1), drop = FALSE],\n",
    "#       y = as.vector(y.train),\n",
    "#       sigma2 = as.numeric(var(y.train)),\n",
    "#       tau2 = as.numeric(var(y.train) / mean(apply(X.train, 2, var))),\n",
    "#       p_prior = 0.5\n",
    "#     )\n",
    "    \n",
    "#     test_fit <- stan(file = stan_file, data = test_data_list, seed = 42, chains = 4, iter = 2000)\n",
    "#     test_log_lik <- sum(rstan::extract(test_fit, pars = \"log_lik\")$log_lik)\n",
    "    \n",
    "#     # Compare models using log-likelihood\n",
    "#     if (test_log_lik > current_log_lik) {\n",
    "#       # Update the current model if the test model is better\n",
    "#       current_vars <- test_vars\n",
    "#       current_fit <- test_fit\n",
    "#       current_log_lik <- test_log_lik\n",
    "#       cat(\"Adding variable:\", variable_names[new_var], \"\\n\")\n",
    "#       break  # Exit the loop once a better variable is found\n",
    "#     }\n",
    "#   }\n",
    "# }\n",
    "\n",
    "# # Final Model\n",
    "# final_data_list <- list(\n",
    "#   N = nrow(X.train),\n",
    "#   P = sum(current_vars),\n",
    "#   X = X.train[, which(current_vars == 1), drop = FALSE],\n",
    "#   y = y.train,\n",
    "#   sigma2 = as.numeric(var(y.train)),\n",
    "#   tau2 = as.numeric(var(y.train) / mean(apply(X.train, 2, var))),\n",
    "#   p_prior = 0.5\n",
    "# )\n",
    "\n",
    "# final_model <- stan(file = stan_file, data = final_data_list, seed = 42, chains = 4, iter = 4000)\n",
    "\n",
    "# # Print inclusion probabilities and model summary\n",
    "# fit_params <- rstan::extract(final_model, pars = \"inclusion_probs\")\n",
    "# inclusion_probs_mean <- colMeans(fit_params$inclusion_probs)\n",
    "\n",
    "# inclusion_data <- data.frame(\n",
    "#   Variable = variable_names,\n",
    "#   Inclusion_Probability = inclusion_probs_mean\n",
    "# )\n",
    "\n",
    "# # Print final results\n",
    "# print(inclusion_data)\n"
   ]
  },
  {
   "cell_type": "code",
   "execution_count": null,
   "id": "2698c666-477b-4e7d-931c-c29feb2b103f",
   "metadata": {},
   "outputs": [],
   "source": [
    "# ## EXPERIMENT -- SPIKE AND SLAB PRIORS\n",
    "\n",
    "# # Initialize variables\n",
    "# included_vars <- rep(0, ncol(X.train))  # Start with all variables excluded\n",
    "# current_vars <- included_vars\n",
    "# #current_vars[1] <- 0  # Always include the intercept\n",
    "# variable_names <- colnames(X.train)\n",
    "\n",
    "# # Stan model file\n",
    "# stan_file <- \"gpriorLM.stan\"  # Ensure the Stan file matches the earlier specification\n",
    "\n",
    "# # Bayesian Model Selection Loop\n",
    "# for (i in 1:ncol(X.train)) {\n",
    "#   # Update the data list for Stan\n",
    "#   data_list <- list(\n",
    "#   N = nrow(X.train),               # Number of observations\n",
    "#   P = ncol(X.train),                 # Number of predictors\n",
    "#   X = X.train, # Random design matrix (replace with your data)\n",
    "#   y = as.vector(y.train),        # Response variable (replace with your data)\n",
    "#   sigma2 = as.numeric(var(y.train)),            # Fixed variance for likelihood\n",
    "#   tau2 = as.numeric(var(y.train) / mean(apply(X.train, 2, var))), # Variance of slab for coefficients\n",
    "#   p_prior = 0.5          # Prior inclusion probability\n",
    "# )\n",
    "  \n",
    "#   # Fit the model\n",
    "#   fit <- stan(file = stan_file, data = data_list, seed = 42, chains = 4, iter = 2000)\n",
    "#   # Extract inclusion probabilities\n",
    "#   fit_summary <- summary(fit, pars = \"inclusion_probs\")$summary\n",
    "#   inclusion_probs <- fit_summary[, \"mean\"]\n",
    "  \n",
    "#   inclusion_probs[current_vars == 1] <- -Inf # Set inclusion probabilities of already-included variables to -Inf (prevent premature break)\n",
    "  \n",
    "#   # Find the variable with the highest posterior inclusion probability\n",
    "#   new_var <- which.max(inclusion_probs)\n",
    "#   if (current_vars[new_var] == 1) break  # If no new variable, stop the loop\n",
    "  \n",
    "#   # Include the selected variable\n",
    "#   current_vars[new_var] <- 1\n",
    "#   cat(\"Adding variable:\", variable_names[new_var], \"\\n\")\n",
    "# }\n"
   ]
  },
  {
   "cell_type": "code",
   "execution_count": null,
   "id": "55abf15b-0787-40db-8976-cce4b7a1c8ff",
   "metadata": {},
   "outputs": [],
   "source": [
    "# current_fit"
   ]
  },
  {
   "cell_type": "code",
   "execution_count": null,
   "id": "0163b916-4bd1-42a1-8e9c-f81b5daab5b8",
   "metadata": {},
   "outputs": [],
   "source": [
    "# # Final Model\n",
    "# final_data_list <- list(\n",
    "#   N = nrow(X.train),\n",
    "#   P = sum(current_vars),\n",
    "#   X = X.train[, which(current_vars == 1), drop = FALSE],\n",
    "#   y = as.vector(y.train),\n",
    "#   sigma2 = as.numeric(var(y.train)),            # Fixed variance for likelihood\n",
    "#   tau2 = as.numeric(var(y.train) / mean(apply(X.train, 2, var))), # Variance of slab for coefficients\n",
    "#   p_prior = 0.5          # Prior inclusion probability\n",
    "# )\n",
    "# final_model <- stan(file = stan_file, data = final_data_list, seed = 42, chains = 4, iter = 4000)"
   ]
  },
  {
   "cell_type": "code",
   "execution_count": null,
   "id": "946037d8-f103-4523-9be0-7f96c30850de",
   "metadata": {},
   "outputs": [],
   "source": [
    "# fit_summary <- summary(fit, pars = \"inclusion_probs\")$summary\n",
    "# fit_summary <- summary(fit)$summary\n",
    "# fit_summary\n",
    "\n",
    "# #y_pred <- as.matrix(final_model, pars = \"beta\")  # Replace \"y_pred\" with appropriate Stan output\n",
    "# #y_pred\n",
    "\n",
    "# #y_pred <- as.matrix(final_model, pars = \"y_pred\")  # Replace \"y_pred\" with appropriate Stan output\n",
    "# #y_pred"
   ]
  },
  {
   "cell_type": "code",
   "execution_count": null,
   "id": "a7e0acb6-efda-42bb-98b9-db61a2163acc",
   "metadata": {},
   "outputs": [],
   "source": [
    "# # Posterior predictive checks\n",
    "# y_pred <- as.matrix(final_model, pars = \"y_pred\")  # Replace \"y_pred\" with appropriate Stan output\n",
    "# posterior_mean <- colMeans(y_pred)\n",
    "# posterior_sd <- apply(y_pred, 2, sd)\n",
    "\n",
    "# # Model evaluation\n",
    "# cat(\"Posterior predictive mean:\", mean(posterior_mean), \"\\n\") # TBU\n",
    "# cat(\"Posterior predictive SD:\", mean(posterior_sd), \"\\n\") # TBU\n",
    "\n",
    "# # Save results\n",
    "# #saveRDS(final_model, file = \"final_model.rds\")"
   ]
  },
  {
   "cell_type": "code",
   "execution_count": null,
   "id": "abf75199-464e-414f-a717-4f0d144f48b4",
   "metadata": {},
   "outputs": [],
   "source": [
    "# var_data <- data.frame(\n",
    "#   Variable = colnames(X.train[, which(current_vars == 1), drop = FALSE]),\n",
    "#   Inclusion_Probs = summary(fit, pars = \"inclusion_probs\")$summary[, \"mean\"],\n",
    "#   Beta = summary(fit, pars = \"beta\")$summary[, \"mean\"]\n",
    "# )\n",
    "\n",
    "# print(var_data)\n"
   ]
  },
  {
   "cell_type": "markdown",
   "id": "1876fa88-412f-4c66-a325-9ed8bcff62be",
   "metadata": {},
   "source": [
    "## Code Per Class"
   ]
  },
  {
   "cell_type": "code",
   "execution_count": null,
   "id": "5fd95b9f-36a6-471f-8dec-9a4fb7f248a2",
   "metadata": {},
   "outputs": [],
   "source": [
    "# data_list <- list(\n",
    "#   N = nrow(X.train),               # Number of observations\n",
    "#   P = ncol(X.train),                 # Number of predictors\n",
    "#   X = X.train, # Random design matrix (replace with your data)\n",
    "#   y = as.vector(y.train),        # Response variable (replace with your data)\n",
    "#   sigma2 = as.numeric(var(y.train)),            # Fixed variance for likelihood\n",
    "#   tau2 = tau2,              # Variance of slab for coefficients\n",
    "#   p_prior = 0.5          # Prior inclusion probability\n",
    "# )a"
   ]
  },
  {
   "cell_type": "code",
   "execution_count": 89,
   "id": "cb2645d3-cac2-46f4-a318-a26eb427a521",
   "metadata": {},
   "outputs": [
    {
     "ename": "ERROR",
     "evalue": "Error in t(y) %*% X: requires numeric/complex matrix/vector arguments\n",
     "output_type": "error",
     "traceback": [
      "Error in t(y) %*% X: requires numeric/complex matrix/vector arguments\nTraceback:\n"
     ]
    }
   ],
   "source": [
    "#### R code for lecture 6\n",
    "\n",
    "## [DEF Y AND X]\n",
    "\n",
    "## prior specification (slides 30-32)\n",
    "g <- 12; a <- 0.5; b <- 4.27; n <- length(y); S <- 5000; # NEED TO ADJUST?\n",
    "beta_sam <- matrix(0, nrow = S, ncol = 4)\n",
    "\n",
    "## sample sigma^2\n",
    "a_tilde <- a + n / 2\n",
    "b_tilde <- b + sum(y ^ 2) / 2 - g / (2 * (g + 1)) * \n",
    "  t(y) %*% X %*% solve(t(X) %*% X) %*% t(X) %*% y\n",
    "sigma2_sam <- 1 / rgamma(S, a_tilde, b_tilde)\n",
    "\n",
    "## sample beta\n",
    "Sig <- g / (g + 1) * solve(t(X) %*% X)\n",
    "beta_n <- Sig %*% t(X) %*% y\n",
    "for(i in 1 : S){\n",
    "  beta_sam[i, ] <- rmvnorm(1, beta_n, Sig * sigma2_sam[i])\n",
    "}\n",
    "\n",
    "## 95% credible interval for beta_2\n",
    "quantile(beta_sam[, 2], c(0.025, 0.975))\n",
    "## 95% credible interval for beta_4\n",
    "quantile(beta_sam[, 4], c(0.025, 0.975)) ### Use 'apply' function to find credible intervals for all betas\n",
    "\n",
    "###################################################################################\n",
    "\n",
    "### 442 diabetes patients example\n",
    "\n",
    "## [[ ADJUST TO USE DIABETES DATA ]]\n",
    "\n",
    "# yf <- diabetes$y; Xf <- diabetes$X  ## the data with 64 variables\n",
    "\n",
    "## set up training and test data\n",
    "n <- length(yf)\n",
    "i.te <- sample(1 : n, 100)\n",
    "i.tr <- (1 : n)[-i.te]\n",
    "#y <- yf[i.tr]; X <- Xf[i.tr, ] ## training data\n",
    "#y.te <- yf[i.te]; X.te <- Xf[i.te, ] ## test data\n",
    "\n",
    "# # ## compute OLS and make prediction\n",
    "# # olsfit <- lm(y ~ -1 + X) ## fit linear model\n",
    "# # olsfit$coef ## OLS estimate\n",
    "# # y.te.ols <- X.te %*% olsfit$coef ## prediction for test data\n",
    "# # mean((y.te - y.te.ols) ^ 2) ## mean squared predictive error\n",
    "\n",
    "# # ## make plots on slide 39\n",
    "# # par(mfrow = c(1, 2), mar = c(2.75, 2.75, 1.5, 1.5), mgp = c(1.5, .5, 0))\n",
    "# # plot(y.te, y.te.ols, xlab = expression(italic(y)[test]),\n",
    "# #      ylab = expression(hat(italic(y))[test]))\n",
    "# # abline(0, 1)\n",
    "# # plot(olsfit$coef, type = \"h\", lwd = 2, xlab = \"predictor index\",\n",
    "# #      ylab = expression(hat(beta)[ols]))\n",
    "\n",
    "\n",
    "# ############################### Apply backward elimination to diabetes example\n",
    "\n",
    "# ## load R code for backward elimination\n",
    "# source(\"backselect.R\")\n",
    "\n",
    "# ## recall that y, X is the training data\n",
    "# ## choose the cutoff to be 1.65\n",
    "# vars <- bselect.tcrit(y, X, tcrit = 1.65) \n",
    "\n",
    "# ## fit reduced model\n",
    "# bslfit <- lm(y ~ -1 + X[, vars$remain])\n",
    "\n",
    "# ## compute the prediction based on reduced model\n",
    "# y.te.bsl <- X.te[ ,vars$remain] %*% bslfit$coef\n",
    "\n",
    "\n",
    "########################################################################\n",
    "\n",
    "## Bayesian model selection with invariant g-prior (slide 50 - 58)\n",
    "\n",
    "## only show how to calculate for z=(1,1,1,1)\n",
    "\n",
    "# ## data for oxygen intake example:\n",
    "# y <- c(-0.87, -10.74, -3.27, -1.97, 7.50, -7.25,\n",
    "#        17.05, 4.96, 10.40, 11.05, 0.26, 2.51)\n",
    "# x2 <- c(0, 0, 0, 0, 0, 0, 1, 1, 1, 1, 1, 1)\n",
    "# x3 <- c(23, 22, 22, 25, 27, 20, 31, 23, 27, 28, 22, 24)\n",
    "# X <- cbind(rep(1, 12), x2, x3, x2 * x3) ## include all four variables\n",
    "\n",
    "# ## set parameter values in the prior\n",
    "# n <- length(y); g <- n; az <- 0.5; \n",
    "# MSEz <- sum((y - X %*% solve(t(X) %*% X) %*% t(X) %*% y) ^ 2) / (n - ncol(X)) ## MSE\n",
    "# bz <- 0.5 * MSEz\n",
    "\n",
    "# ## calculate the marginal density from the formula\n",
    "# SSRz <- sum(y ^ 2) - g / (g + 1) * t(y) %*% X %*% solve(t(X) %*% X) %*% t(X) %*% y\n",
    "# log(pi ^ {-n/2} * gamma(az + n/2) / gamma(az) * (2 * bz) ^ az * \n",
    "#       (1 + g) ^ {-ncol(X)/2} / (2 * bz + SSRz) ^ {az + n/2})\n",
    "\n",
    "\n",
    "###### Bayesian model selection Gibbs sampling\n",
    "\n",
    "## load R code for computing the log of p(y|X,z)\n",
    "## the function lpy.X computes log of p(y|X, z) under g-prior\n",
    "# source(\"regression_gprior.R\")\n",
    "\n",
    "# S <- 10000\n",
    "# Z <- matrix(NA, S, dim(X)[2]) ## store the MCMC samples\n",
    "\n",
    "# ## starting value\n",
    "# z <- rep(1, dim(X)[2])  \n",
    "\n",
    "# ## the initial log of p(y|X,z); the prior parameter values that we \n",
    "# ## specified are the default values in this function\n",
    "# lpy.c <- lpy.X(y, X[, z == 1, drop = FALSE])\n",
    "\n",
    "# for(s in 1 : S){\n",
    "  \n",
    "#   ## update each coordinate of z\n",
    "#   for(j in sample(1 : dim(X)[2])){\n",
    "    \n",
    "#     zp <- z; zp[j] <- 1 - zp[j];\n",
    "#     lpy.p <- lpy.X(y, X[, zp == 1, drop = FALSE])\n",
    "#     r <- (lpy.p - lpy.c) * (-1) ^ (zp[j] == 0)\n",
    "#     z[j] <- rbinom(1, 1, 1 / (1 + exp(-r))) ## sampling from bernoulli \n",
    "#     if(z[j] == zp[j]) {lpy.c <- lpy.p}\n",
    "#   }\n",
    "  \n",
    "#   Z[s, ] <- z\n",
    "# }"
   ]
  },
  {
   "cell_type": "code",
   "execution_count": null,
   "id": "68d0493d-0429-49f4-8984-f3d9a6b4727b",
   "metadata": {},
   "outputs": [],
   "source": [
    "# # DELETE # #\n",
    "\n",
    "# X.train <- as.matrix(X.train); y.train <- as.matrix(y.train); X.test <- as.matrix(X.test)\n",
    "# s20 <- mean((y.test - X.test %*% solve(t(X.train) %*% X.train) %*% t(X.train) %*% y.train)^2)\n",
    "# n <- g <- length(y.train); p <- ncol(X.train); nu0 <- 1; S <- 1000\n",
    "\n",
    "# Hg <- g/(g+1) * X.train%*%solve(t(X.train)%*%X.train) %*% t(X.train) \n",
    "# SSRg <- t(y.train) %*% (diag(1,nrow = n) - Hg) %*% y.train\n",
    "\n",
    "# s2 <- 1/rgamma(S, (nu0+n)/2, (nu0*s20+SSRg)/2)\n",
    "\n",
    "# Vb <- g*solve(t(X.train)%*%X.train)/(g+1)\n",
    "# Eb <- Vb%*%t(X.train)%*%y.train\n",
    "\n",
    "# E <- matrix(rnorm(S*p, 0, sqrt(s2)), S, p)\n",
    "# beta <- t( t(E%*%chol(Vb)) + c(Eb))"
   ]
  },
  {
   "cell_type": "code",
   "execution_count": 119,
   "id": "f3375911-01a8-476e-9937-bd39dfeda264",
   "metadata": {},
   "outputs": [
    {
     "name": "stdout",
     "output_type": "stream",
     "text": [
      "[1] \"Entering loop\"\n",
      "Iteration: 100 \n",
      "NULL\n",
      "Iteration: 200 \n",
      "NULL\n",
      "Iteration: 300 \n",
      "NULL\n",
      "Iteration: 400 \n",
      "NULL\n",
      "Iteration: 500 \n",
      "NULL\n",
      "Iteration: 600 \n",
      "NULL\n",
      "Iteration: 700 \n",
      "NULL\n",
      "Iteration: 800 \n",
      "NULL\n",
      "Iteration: 900 \n",
      "NULL\n",
      "Iteration: 1000 \n",
      "NULL\n",
      "Iteration: 1100 \n",
      "NULL\n",
      "Iteration: 1200 \n",
      "NULL\n",
      "Iteration: 1300 \n",
      "NULL\n",
      "Iteration: 1400 \n",
      "NULL\n",
      "Iteration: 1500 \n",
      "NULL\n",
      "Iteration: 1600 \n",
      "NULL\n",
      "Iteration: 1700 \n",
      "NULL\n",
      "Iteration: 1800 \n",
      "NULL\n",
      "Iteration: 1900 \n",
      "NULL\n",
      "Iteration: 2000 \n",
      "NULL\n",
      "Iteration: 2100 \n",
      "NULL\n",
      "Iteration: 2200 \n",
      "NULL\n",
      "Iteration: 2300 \n",
      "NULL\n",
      "Iteration: 2400 \n",
      "NULL\n",
      "Iteration: 2500 \n",
      "NULL\n",
      "Iteration: 2600 \n",
      "NULL\n",
      "Iteration: 2700 \n",
      "NULL\n",
      "Iteration: 2800 \n",
      "NULL\n",
      "Iteration: 2900 \n",
      "NULL\n",
      "Iteration: 3000 \n",
      "NULL\n",
      "Iteration: 3100 \n",
      "NULL\n",
      "Iteration: 3200 \n",
      "NULL\n",
      "Iteration: 3300 \n",
      "NULL\n",
      "Iteration: 3400 \n",
      "NULL\n",
      "Iteration: 3500 \n",
      "NULL\n",
      "Iteration: 3600 \n",
      "NULL\n",
      "Iteration: 3700 \n",
      "NULL\n",
      "Iteration: 3800 \n",
      "NULL\n",
      "Iteration: 3900 \n",
      "NULL\n",
      "Iteration: 4000 \n",
      "NULL\n",
      "Iteration: 4100 \n",
      "NULL\n",
      "Iteration: 4200 \n",
      "NULL\n",
      "Iteration: 4300 \n",
      "NULL\n",
      "Iteration: 4400 \n",
      "NULL\n",
      "Iteration: 4500 \n",
      "NULL\n",
      "Iteration: 4600 \n",
      "NULL\n",
      "Iteration: 4700 \n",
      "NULL\n",
      "Iteration: 4800 \n",
      "NULL\n",
      "Iteration: 4900 \n",
      "NULL\n",
      "Iteration: 5000 \n",
      "NULL\n",
      "Iteration: 5100 \n",
      "NULL\n",
      "Iteration: 5200 \n",
      "NULL\n",
      "Iteration: 5300 \n",
      "NULL\n",
      "Iteration: 5400 \n",
      "NULL\n",
      "Iteration: 5500 \n",
      "NULL\n",
      "Iteration: 5600 \n",
      "NULL\n",
      "Iteration: 5700 \n",
      "NULL\n",
      "Iteration: 5800 \n",
      "NULL\n",
      "Iteration: 5900 \n",
      "NULL\n",
      "Iteration: 6000 \n",
      "NULL\n",
      "Iteration: 6100 \n",
      "NULL\n",
      "Iteration: 6200 \n",
      "NULL\n",
      "Iteration: 6300 \n",
      "NULL\n",
      "Iteration: 6400 \n",
      "NULL\n",
      "Iteration: 6500 \n",
      "NULL\n",
      "Iteration: 6600 \n",
      "NULL\n",
      "Iteration: 6700 \n",
      "NULL\n",
      "Iteration: 6800 \n",
      "NULL\n",
      "Iteration: 6900 \n",
      "NULL\n",
      "Iteration: 7000 \n",
      "NULL\n",
      "Iteration: 7100 \n",
      "NULL\n",
      "Iteration: 7200 \n",
      "NULL\n",
      "Iteration: 7300 \n",
      "NULL\n",
      "Iteration: 7400 \n",
      "NULL\n",
      "Iteration: 7500 \n",
      "NULL\n",
      "Iteration: 7600 \n",
      "NULL\n",
      "Iteration: 7700 \n",
      "NULL\n",
      "Iteration: 7800 \n",
      "NULL\n",
      "Iteration: 7900 \n",
      "NULL\n",
      "Iteration: 8000 \n",
      "NULL\n",
      "Iteration: 8100 \n",
      "NULL\n",
      "Iteration: 8200 \n",
      "NULL\n",
      "Iteration: 8300 \n",
      "NULL\n",
      "Iteration: 8400 \n",
      "NULL\n",
      "Iteration: 8500 \n",
      "NULL\n",
      "Iteration: 8600 \n",
      "NULL\n",
      "Iteration: 8700 \n",
      "NULL\n",
      "Iteration: 8800 \n",
      "NULL\n",
      "Iteration: 8900 \n",
      "NULL\n",
      "Iteration: 9000 \n",
      "NULL\n",
      "Iteration: 9100 \n",
      "NULL\n",
      "Iteration: 9200 \n",
      "NULL\n",
      "Iteration: 9300 \n",
      "NULL\n",
      "Iteration: 9400 \n",
      "NULL\n",
      "Iteration: 9500 \n",
      "NULL\n",
      "Iteration: 9600 \n",
      "NULL\n",
      "Iteration: 9700 \n",
      "NULL\n",
      "Iteration: 9800 \n",
      "NULL\n",
      "Iteration: 9900 \n",
      "NULL\n",
      "Iteration: 10000 \n",
      "NULL\n"
     ]
    }
   ],
   "source": [
    "# RELEVANT PIECE\n",
    "X.train <- as.matrix(X.train)\n",
    "\n",
    "###### Bayesian model averaging (slide 60 -62)\n",
    "## the sampling part for z is the same as before\n",
    "source(\"regression_gprior.R\")\n",
    "S <- 10000\n",
    "BETA <- Z <- matrix(NA, S, dim(.train)[2]) ## store the MCMC samples\n",
    "z <- rep(1, dim(X.train)[2])  \n",
    "lpy.c <- lpy.X(y.train, X.train[, z == 1, drop = FALSE])\n",
    "\n",
    "print(\"Entering loop\")\n",
    "for(s in 1 : S){\n",
    "    if (s %% 100 == 0) {\n",
    "        print(cat(\"Iteration:\", s, \"\\n\"))\n",
    "    }\n",
    "  for(j in sample(1 : dim(X.train)[2])){\n",
    "    zp <- z; zp[j] <- 1 - zp[j];\n",
    "    lpy.p <- lpy.X(y.train, X.train[, zp == 1, drop = FALSE])\n",
    "    r <- (lpy.p - lpy.c) * (-1) ^ (zp[j] == 0)\n",
    "    z[j] <- rbinom(1, 1, 1 / (1 + exp(-r)))  \n",
    "    if(z[j] == zp[j]) {lpy.c <- lpy.p}\n",
    "  }\n",
    "  beta <- z\n",
    "  \n",
    "  ## the function lm.gprior generates samples for beta and sigma^2\n",
    "  if(sum(z) > 0) {beta[z == 1] <- lm.gprior(y.train, X.train[, z == 1, drop = FALSE], S = 1)$beta}\n",
    "  \n",
    "  Z[s, ] <- z\n",
    "  BETA[s, ] <- beta\n",
    "}"
   ]
  },
  {
   "cell_type": "code",
   "execution_count": 135,
   "id": "3bee1a98-4e1a-4bac-97fc-fb59a4e89a5f",
   "metadata": {},
   "outputs": [
    {
     "ename": "ERROR",
     "evalue": "Error in data.frame(as.matrix(apply(BETA, MARGIN = 2, FUN = mean)), as.matrix(colnames(X))): arguments imply differing number of rows: 18, 17\n",
     "output_type": "error",
     "traceback": [
      "Error in data.frame(as.matrix(apply(BETA, MARGIN = 2, FUN = mean)), as.matrix(colnames(X))): arguments imply differing number of rows: 18, 17\nTraceback:\n",
      "1. stop(gettextf(\"arguments imply differing number of rows: %s\", \n .     paste(unique(nrows), collapse = \", \")), domain = NA)",
      "2. .handleSimpleError(function (cnd) \n . {\n .     watcher$capture_plot_and_output()\n .     cnd <- sanitize_call(cnd)\n .     watcher$push(cnd)\n .     switch(on_error, continue = invokeRestart(\"eval_continue\"), \n .         stop = invokeRestart(\"eval_stop\"), error = invokeRestart(\"eval_error\", \n .             cnd))\n . }, \"arguments imply differing number of rows: 18, 17\", base::quote(data.frame(as.matrix(apply(BETA, \n .     MARGIN = 2, FUN = mean)), as.matrix(colnames(X)))))"
     ]
    }
   ],
   "source": [
    "as.matrix(apply(BETA, MARGIN = 2, FUN=mean))\n",
    "as.matrix(colnames(X))"
   ]
  }
 ],
 "metadata": {
  "kernelspec": {
   "display_name": "R",
   "language": "R",
   "name": "ir"
  },
  "language_info": {
   "codemirror_mode": "r",
   "file_extension": ".r",
   "mimetype": "text/x-r-source",
   "name": "R",
   "pygments_lexer": "r",
   "version": "4.2.2"
  }
 },
 "nbformat": 4,
 "nbformat_minor": 5
}
